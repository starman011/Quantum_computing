{
 "cells": [
  {
   "cell_type": "code",
   "execution_count": 1,
   "id": "d2a023ea-3a42-41aa-af69-53975731f1d4",
   "metadata": {},
   "outputs": [],
   "source": [
    "# Grover's search Algorithm:"
   ]
  },
  {
   "cell_type": "code",
   "execution_count": 2,
   "id": "3a27c1f9-10b3-4018-8264-cf1c2ac65024",
   "metadata": {},
   "outputs": [],
   "source": [
    "#initializing:\n",
    "import numpy as np \n",
    "\n",
    "#import some qiskit work tools:\n",
    "from qiskit import IBMQ, BasicAer\n",
    "from qiskit.providers.ibmq import least_busy\n",
    "from qiskit import QuantumCircuit, execute\n",
    "from qiskit.tools.jupyter import *\n",
    "\n",
    "#import visualization tools:\n",
    "from qiskit.visualization import plot_histogram\n",
    "\n",
    "provider = IBMQ.load_account()"
   ]
  },
  {
   "cell_type": "code",
   "execution_count": 3,
   "id": "55fa1b65-ff19-4d16-b027-b808dc884801",
   "metadata": {},
   "outputs": [],
   "source": [
    "## Circuit for winning state 00:"
   ]
  },
  {
   "cell_type": "code",
   "execution_count": 4,
   "id": "36528321-e0cd-4209-a044-4d9ffc717acb",
   "metadata": {},
   "outputs": [],
   "source": [
    "### Step 1: State preparation and settings:"
   ]
  },
  {
   "cell_type": "code",
   "execution_count": 5,
   "id": "30e36a4f-f914-4267-9522-557d3df12349",
   "metadata": {},
   "outputs": [
    {
     "data": {
      "image/png": "[encoded data removed]",
      "text/plain": [
       "<Figure size 206.852x204.68 with 1 Axes>"
      ]
     },
     "execution_count": 5,
     "metadata": {},
     "output_type": "execute_result"
    }
   ],
   "source": [
    "n = 2 #number of qubits\n",
    "winning_element = \"00\"\n",
    "\n",
    "grover_00 = QuantumCircuit(n, n)\n",
    "\n",
    "for qubit in range(n):\n",
    "    grover_00.h(qubit)\n",
    "    \n",
    "#Add a barrier:\n",
    "grover_00.barrier()\n",
    "\n",
    "#Draw a circuit:\n",
    "grover_00.draw()"
   ]
  },
  {
   "cell_type": "code",
   "execution_count": 6,
   "id": "9cfec83f-1078-4dc8-a307-9dd2713e4572",
   "metadata": {},
   "outputs": [],
   "source": [
    "### Step 2:Design the Phase Oracle"
   ]
  },
  {
   "cell_type": "code",
   "execution_count": 7,
   "id": "4ed4be8a-e3aa-40de-b970-92ba08959f4a",
   "metadata": {},
   "outputs": [
    {
     "data": {
      "image/png": "[encoded data removed]",
      "text/plain": [
       "<Figure size 447.652x204.68 with 1 Axes>"
      ]
     },
     "execution_count": 7,
     "metadata": {},
     "output_type": "execute_result"
    }
   ],
   "source": [
    "#Apply the X gates:\n",
    "for qubit in range(n):\n",
    "    grover_00.x(qubit)\n",
    "    \n",
    "#Applying the CZ gate:\n",
    "grover_00.cz(1, 0)\n",
    "\n",
    "#Apply the X gates to reset:\n",
    "for qubit in range(n):\n",
    "    grover_00.x(qubit)\n",
    "    \n",
    "#Add a barrier:\n",
    "grover_00.barrier()\n",
    "\n",
    "#Draw a circuit:\n",
    "grover_00.draw()\n"
   ]
  },
  {
   "cell_type": "code",
   "execution_count": 8,
   "id": "414be7b7-a5f4-4c1f-8b8d-5c7ce51e6e8d",
   "metadata": {},
   "outputs": [],
   "source": [
    "# Step 3: Design the diffuser:"
   ]
  },
  {
   "cell_type": "code",
   "execution_count": 9,
   "id": "e98e2d49-5e61-4944-a2df-db11b8ee0d60",
   "metadata": {},
   "outputs": [],
   "source": [
    "#Applying a H gate\n",
    "for qubit in range(n):\n",
    "    grover_00.h(qubit)\n",
    "    \n",
    "#Apply the Z gate:\n",
    "for qubitGrove in range(n):\n",
    "    grover_00.z(qubit)\n",
    "    \n",
    "#Apply the CZ gate:\n",
    "grover_00.cz(1, 0)\n",
    "\n",
    "#Apply the H gates:\n",
    "for qubit in range(n):\n",
    "    grover_00.h(qubit)"
   ]
  },
  {
   "cell_type": "code",
   "execution_count": 10,
   "id": "39ff3aa0-ed12-4cea-b72a-7064d9f6dc96",
   "metadata": {},
   "outputs": [],
   "source": [
    "##Step 4: Measure the qubits"
   ]
  },
  {
   "cell_type": "code",
   "execution_count": 11,
   "id": "bd861af3-7158-4531-91f1-7cfb350173e7",
   "metadata": {},
   "outputs": [
    {
     "data": {
      "image/png": "[encoded data removed]",
      "text/plain": [
       "<Figure size 869.052x204.68 with 1 Axes>"
      ]
     },
     "execution_count": 11,
     "metadata": {},
     "output_type": "execute_result"
    }
   ],
   "source": [
    "#Adding the measurement gates:\n",
    "for i in range(n):\n",
    "    grover_00.measure(i, i)\n",
    "\n",
    "\n",
    "#Draw a circuit:\n",
    "grover_00.draw()\n",
    "    \n"
   ]
  },
  {
   "cell_type": "code",
   "execution_count": 12,
   "id": "20918a8e-b0f3-4234-8b54-05798e1a770f",
   "metadata": {},
   "outputs": [],
   "source": [
    "### Step 5: Output time"
   ]
  },
  {
   "cell_type": "code",
   "execution_count": 13,
   "id": "3d1a8b7e-fb38-45c9-80b4-f09a835388af",
   "metadata": {},
   "outputs": [],
   "source": [
    "### run on local simulator"
   ]
  },
  {
   "cell_type": "code",
   "execution_count": 14,
   "id": "b61f976c-a285-43cb-9bbe-e0cb8c6cf7c7",
   "metadata": {},
   "outputs": [
    {
     "data": {
      "image/png": "[encoded data removed]",
      "text/plain": [
       "<Figure size 504x360 with 1 Axes>"
      ]
     },
     "execution_count": 14,
     "metadata": {},
     "output_type": "execute_result"
    }
   ],
   "source": [
    "backend = BasicAer.get_backend('qasm_simulator')\n",
    "shots = 1024\n",
    "\n",
    "#Get the result of execution \n",
    "results = execute(grover_00, backend = backend, shots = shots).result()\n",
    "\n",
    "#Retrive the data\n",
    "data  = results.get_counts()\n",
    "\n",
    "#Plot histoogram\n",
    "plot_histogram(data)\n"
   ]
  },
  {
   "cell_type": "code",
   "execution_count": 15,
   "id": "4a18cb20-5c9c-4f28-93f6-6db5addc8ce6",
   "metadata": {},
   "outputs": [],
   "source": [
    "### Run on a actual quantum device"
   ]
  },
  {
   "cell_type": "code",
   "execution_count": 16,
   "id": "d7fc3c03-fb42-45bf-8983-42c3a1c01da4",
   "metadata": {},
   "outputs": [],
   "source": [
    "#Get my provider\n",
    "provider = IBMQ.get_provider(hub = 'ibm-q')"
   ]
  },
  {
   "cell_type": "code",
   "execution_count": 17,
   "id": "c647b0cd-e463-4121-a236-5ffbc2bbd517",
   "metadata": {},
   "outputs": [
    {
     "name": "stdout",
     "output_type": "stream",
     "text": [
      "ibmq_qasm_simulator\n",
      "ibmq_armonk\n",
      "ibmq_santiago\n",
      "ibmq_bogota\n",
      "ibmq_lima\n",
      "ibmq_belem\n",
      "ibmq_quito\n",
      "simulator_statevector\n",
      "simulator_mps\n",
      "simulator_extended_stabilizer\n",
      "simulator_stabilizer\n",
      "ibmq_manila\n"
     ]
    }
   ],
   "source": [
    "#Checking the quantum machines available:\n",
    "all_providers = provider.backends()\n",
    "\n",
    "for device in all_providers:\n",
    "    print(device)"
   ]
  },
  {
   "cell_type": "code",
   "execution_count": 18,
   "id": "639bed0e-f90e-42fc-8252-82472eb4e969",
   "metadata": {},
   "outputs": [
    {
     "name": "stdout",
     "output_type": "stream",
     "text": [
      "ibmq_santiago\n",
      "ibmq_bogota\n",
      "ibmq_lima\n",
      "ibmq_belem\n",
      "ibmq_quito\n",
      "ibmq_manila\n"
     ]
    }
   ],
   "source": [
    "#Define condition for machine\n",
    "filters = lambda x: x.configuration().n_qubits >= n and not x.configuration().simulator and x.status().operational == True\n",
    "\n",
    "desired_providers = provider.backends(filters = filters)\n",
    "for device in desired_providers:\n",
    "    print(device)"
   ]
  },
  {
   "cell_type": "code",
   "execution_count": 19,
   "id": "6c9dcd6a-00e7-45b1-b750-93490a6e4e04",
   "metadata": {},
   "outputs": [
    {
     "name": "stdout",
     "output_type": "stream",
     "text": [
      "The least busy device: ibmq_belem\n"
     ]
    },
    {
     "data": {
      "application/vnd.jupyter.widget-view+json": {
       "model_id": "75bb9aedbe444cbdbd13a17136c0edb7",
       "version_major": 2,
       "version_minor": 0
      },
      "text/plain": [
       "Accordion(children=(VBox(layout=Layout(max_width='710px', min_width='710px')),), layout=Layout(max_height='500…"
      ]
     },
     "metadata": {},
     "output_type": "display_data"
    },
    {
     "data": {
      "application/javascript": [
       "\n",
       "        const isLab = window['Jupyter'] === undefined;\n",
       "        const notebook = document.querySelector( isLab ? 'div.jp-Notebook' : '#site');\n",
       "        const jobWidget = document.querySelector('div.job_widget');\n",
       "        notebook.prepend(jobWidget);\n",
       "        jobWidget.style.zIndex = '999';\n",
       "        jobWidget.style.position = isLab ? 'sticky' : 'fixed';\n",
       "        jobWidget.style.boxShadow = '5px 5px 5px -3px black';\n",
       "        jobWidget.style.opacity = '0.95';\n",
       "        if (isLab) {\n",
       "            jobWidget.style.top = '0';\n",
       "            jobWidget.style.left = '0';\n",
       "        }\n",
       "        "
      ],
      "text/plain": [
       "<IPython.core.display.Javascript object>"
      ]
     },
     "metadata": {},
     "output_type": "display_data"
    }
   ],
   "source": [
    "#Initialize the quantum device:\n",
    "qcomp = least_busy(provider.backends(filters = filters))\n",
    "\n",
    "print(f\"The least busy device: {qcomp}\")\n",
    "\n",
    "%qiskit_job_watcher\n",
    "\n",
    "job = execute(grover_00, backend = qcomp, shots = shots)"
   ]
  },
  {
   "cell_type": "code",
   "execution_count": 20,
   "id": "66c846a0-9208-4c67-9340-8e2179b88f3c",
   "metadata": {},
   "outputs": [
    {
     "data": {
      "image/png": "[encoded data removed]",
      "text/plain": [
       "<Figure size 504x360 with 1 Axes>"
      ]
     },
     "execution_count": 20,
     "metadata": {},
     "output_type": "execute_result"
    }
   ],
   "source": [
    "qcomp = provider.get_backend('ibmq_lima')\n",
    "job = execute(grover_00, backend = qcomp, shots = shots)\n",
    "\n",
    "result = job.result()\n",
    "data = result.get_counts()\n",
    "plot_histogram(data)\n"
   ]
  },
  {
   "cell_type": "code",
   "execution_count": null,
   "id": "20a4cc3d-beb6-48b4-a7da-9c4e9641ac5c",
   "metadata": {},
   "outputs": [],
   "source": []
  },
  {
   "cell_type": "code",
   "execution_count": null,
   "id": "ae4f78dd-5df1-46be-a476-8c3e310abff0",
   "metadata": {},
   "outputs": [],
   "source": []
  },
  {
   "cell_type": "code",
   "execution_count": 21,
   "id": "63b435f8-fdc8-4241-a94c-93753025c4df",
   "metadata": {},
   "outputs": [],
   "source": [
    "## Cricuit for winning state 10:"
   ]
  },
  {
   "cell_type": "code",
   "execution_count": 22,
   "id": "71de8c3a-a171-4bd6-9997-2e13a02695aa",
   "metadata": {},
   "outputs": [],
   "source": [
    "### Step 1: Step Preparation:"
   ]
  },
  {
   "cell_type": "code",
   "execution_count": 23,
   "id": "af864ed6-7db0-4b98-8e23-53139aa498a1",
   "metadata": {},
   "outputs": [
    {
     "data": {
      "image/png": "[encoded data removed]",
      "text/plain": [
       "<Figure size 206.852x204.68 with 1 Axes>"
      ]
     },
     "execution_count": 23,
     "metadata": {},
     "output_type": "execute_result"
    }
   ],
   "source": [
    "grover_10 = QuantumCircuit(n, n)\n",
    "\n",
    "for qubit in range(n):\n",
    "    grover_10.h(qubit)\n",
    "    \n",
    "#Add a barrier:\n",
    "grover_10.barrier()\n",
    "\n",
    "#Draw the Circuit:\n",
    "grover_10.draw()"
   ]
  },
  {
   "cell_type": "code",
   "execution_count": 24,
   "id": "87bfe959-c5da-41fd-842f-4a7d442cc59d",
   "metadata": {},
   "outputs": [],
   "source": [
    "### Step 2: Design the phase oracle:"
   ]
  },
  {
   "cell_type": "code",
   "execution_count": 25,
   "id": "aa300afd-055e-47c8-991b-06fcc45d4584",
   "metadata": {},
   "outputs": [
    {
     "data": {
      "image/png": "[encoded data removed]",
      "text/plain": [
       "<Figure size 447.652x204.68 with 1 Axes>"
      ]
     },
     "execution_count": 25,
     "metadata": {},
     "output_type": "execute_result"
    }
   ],
   "source": [
    "#Apply the X gate to the LSB:\n",
    "grover_10.x(0)\n",
    "\n",
    "#Apply the CZ gate:\n",
    "grover_10.cz(1, 0)\n",
    "\n",
    "#Applying the X gate to reset the LSB:\n",
    "grover_10.x(0)\n",
    "\n",
    "#Add a barrier:\n",
    "grover_10.barrier()\n",
    "\n",
    "#Draw the Circuit:\n",
    "grover_10.draw()"
   ]
  },
  {
   "cell_type": "code",
   "execution_count": 26,
   "id": "a57db2d1-824b-4796-9e11-3f3655b13abe",
   "metadata": {},
   "outputs": [],
   "source": [
    "### Step 3: Design the Diffuser:"
   ]
  },
  {
   "cell_type": "code",
   "execution_count": 27,
   "id": "dd232f09-5ef3-4507-8f43-5b3a4f63393b",
   "metadata": {},
   "outputs": [
    {
     "data": {
      "image/png": "[encoded data removed]",
      "text/plain": [
       "<Figure size 808.852x204.68 with 1 Axes>"
      ]
     },
     "execution_count": 27,
     "metadata": {},
     "output_type": "execute_result"
    }
   ],
   "source": [
    "#Applying a H gate\n",
    "for qubit in range(n):\n",
    "    grover_10.h(qubit)\n",
    "    \n",
    "#Apply the Z gate:\n",
    "for qubitGrove in range(n):\n",
    "    grover_10.z(qubit)\n",
    "    \n",
    "#Apply the CZ gate:\n",
    "grover_10.cz(1, 0)\n",
    "\n",
    "#Apply the H gates:\n",
    "for qubit in range(n):\n",
    "    grover_10.h(qubit)\n",
    "    \n",
    "#Add a barrier:\n",
    "grover_10.barrier()\n",
    "\n",
    "#Draw the Circuit:\n",
    "grover_10.draw()"
   ]
  },
  {
   "cell_type": "code",
   "execution_count": 28,
   "id": "4920d175-d9e6-4516-9cb5-b342cfb34447",
   "metadata": {},
   "outputs": [],
   "source": [
    "### Step 4 :Measure the qubits:"
   ]
  },
  {
   "cell_type": "code",
   "execution_count": 29,
   "id": "d2ca8bce-c2fa-4810-8766-7fafd636e3c3",
   "metadata": {},
   "outputs": [
    {
     "data": {
      "image/png": "[encoded data removed]",
      "text/plain": [
       "<Figure size 929.252x204.68 with 1 Axes>"
      ]
     },
     "execution_count": 29,
     "metadata": {},
     "output_type": "execute_result"
    }
   ],
   "source": [
    "#Add the measurement gate:\n",
    "for i in range(n):\n",
    "    grover_10.measure(i, i)\n",
    "\n",
    "#Draw the circuit:\n",
    "grover_10.draw()"
   ]
  },
  {
   "cell_type": "code",
   "execution_count": 30,
   "id": "ec903a80-57f1-40a4-8e6a-51055c9c8b32",
   "metadata": {},
   "outputs": [],
   "source": [
    "#Step 5: Get the results!"
   ]
  },
  {
   "cell_type": "code",
   "execution_count": 31,
   "id": "29188aab-1e94-4bd7-a3e2-94da136a0cc4",
   "metadata": {},
   "outputs": [
    {
     "data": {
      "image/png": "[encoded data removed]",
      "text/plain": [
       "<Figure size 504x360 with 1 Axes>"
      ]
     },
     "execution_count": 31,
     "metadata": {},
     "output_type": "execute_result"
    }
   ],
   "source": [
    "backend = BasicAer.get_backend('qasm_simulator')\n",
    "\n",
    "result = execute(grover_10, backend = backend, shots = shots).result()\n",
    "data = result.get_counts()\n",
    "\n",
    "#Plot the data\n",
    "plot_histogram(data)"
   ]
  },
  {
   "cell_type": "code",
   "execution_count": 32,
   "id": "43fb884b-c74b-492c-8f2d-c36ac5ec20b2",
   "metadata": {},
   "outputs": [],
   "source": [
    "job = execute(grover_10, backend = qcomp, shots = shots)"
   ]
  },
  {
   "cell_type": "code",
   "execution_count": 33,
   "id": "263b6df0-379d-4dbb-a239-e2c39e2bf463",
   "metadata": {},
   "outputs": [
    {
     "data": {
      "image/png": "[encoded data removed]",
      "text/plain": [
       "<Figure size 504x360 with 1 Axes>"
      ]
     },
     "execution_count": 33,
     "metadata": {},
     "output_type": "execute_result"
    }
   ],
   "source": [
    "result = job.result()\n",
    "data = result.get_counts()\n",
    "plot_histogram(data)"
   ]
  },
  {
   "cell_type": "code",
   "execution_count": null,
   "id": "37796f4d-ad09-4023-bb26-41b00b69a598",
   "metadata": {},
   "outputs": [],
   "source": []
  },
  {
   "cell_type": "code",
   "execution_count": 34,
   "id": "14a3c028-1696-4144-8355-8056a9519659",
   "metadata": {},
   "outputs": [],
   "source": [
    "#Generalized Grover's Search :"
   ]
  },
  {
   "cell_type": "code",
   "execution_count": 35,
   "id": "10305c57-f8da-4583-9176-29ec59a7dc46",
   "metadata": {},
   "outputs": [],
   "source": [
    "def phase_oracle(n, indices_to_mark, name = \"Phase Oracle\"):\n",
    "    '''\n",
    "    Breif: Generate the oracle matrix to flip the phase of marked elements.\n",
    "    Parameters:\n",
    "        N = Integer , The number of qubits.\n",
    "        indices_to_mark = List of integersrepresenting the indices of winning elements.\n",
    "        name = String. The name we give to our circuit.\n",
    "        return: phase oracle\n",
    "    '''\n",
    "    qc = QuantumCircuit(n, name= name)\n",
    "    oracle_matrix = np.identity(2 ** n)#getting the identity matrix of order 2^n.\n",
    "    \n",
    "    for index_to_mark in indices_to_mark:\n",
    "        oracle_matrix[index_to_mark, index_to_mark] = -1 #Flipping the signs of the keys\n",
    "        \n",
    "    qc.unitary(oracle_matrix, range(n))#Apply the matrix to the circut as a unitary gate\n",
    "                                    #with the range of qubits being from [0, .....n-1]\n",
    "    return qc"
   ]
  },
  {
   "cell_type": "code",
   "execution_count": 36,
   "id": "44179d43-e1c6-44ef-9b65-83362d2c4dda",
   "metadata": {},
   "outputs": [],
   "source": [
    "def diffuser(n, name = \"Diffuser\"):\n",
    "    '''\n",
    "    \n",
    "    Breif : Prepare the diffuser circuit by generating the matrix that flips the phase of all state except for the state |00.....0_n>\n",
    "    Parameters:\n",
    "        n = Integer, The number of qubits.\n",
    "        name = String. The name we give to the diffuser circicuit\n",
    "        return: the diffuser circuit\n",
    "    '''\n",
    "    all_num = list(range(2**n))#[0,1....2^n-1]\n",
    "    execupt_zero = all_num[1: ]#Removing 0 from the list of all numbers.\n",
    "    \n",
    "    qc = QuantumCircuit(n, name = name)\n",
    "    \n",
    "    #Applying the H gate:\n",
    "    qc.h(range(n))\n",
    "    \n",
    "    #Genenrate the diffuser matrix:\n",
    "    diffuser_matrix = phase_oracle(n, except_zero)\n",
    "    \n",
    "    #Append the diffuser matrix to the circuit:\n",
    "    qc.append(diffuser_matrix, range(n))\n",
    "    \n",
    "    #Applying the H gates:\n",
    "    qc.h(range(n))\n",
    "    \n",
    "    return qc"
   ]
  },
  {
   "cell_type": "code",
   "execution_count": 37,
   "id": "1858de37-e39e-4e45-82ea-69dbd3a767a6",
   "metadata": {},
   "outputs": [],
   "source": [
    "def groverSearch(n, marked):\n",
    "    '''\n",
    "    Breif: Prepares the entire circuit for implementing Grover's search.\n",
    "    Parameters:\n",
    "        n = Integer. The number of qubits.\n",
    "        marked = List of keys(integers).\n",
    "    return: The final Grover's search Circuit.\n",
    "    '''\n",
    "    qc = QuantumCircuit(n, n)\n",
    "    M = len(marked)\n",
    "    N = 2 ** n\n",
    "    \n",
    "    theta = 2 * np.arcsin(np.sqrt(M/N))\n",
    "    rounds = int(np.ceil((np.pi / (2 * theta)) - (1 / 2)))\n",
    "    \n",
    "    #Print the information that we have:\n",
    "    print(f\"Number of qubits:{n}\")\n",
    "    print(f\"Key(s) to search {marked}\")\n",
    "    print(f\"Number of rounds needed: {rounds}\")\n",
    "    \n",
    "    \n",
    "    #Step1: Prepare the supeposition states:\n",
    "    qc.h(range(n))\n",
    "    \n",
    "    for _ in range(rounds):\n",
    "        #Step 2 : Applying the phase oracle\n",
    "        qc.append(phase_oracle(n, marked), range(n))\n",
    "        #Step 3:\n",
    "        qc.append(diffuser(n),range(n))\n",
    "        \n",
    "    qc.measure(range(n), range(n))\n",
    "    return qc"
   ]
  },
  {
   "cell_type": "code",
   "execution_count": 38,
   "id": "c01c41c2-2b1e-4f87-b595-7fa0599259e5",
   "metadata": {},
   "outputs": [
    {
     "name": "stdin",
     "output_type": "stream",
     "text": [
      "Enter the number of qubits:= 3\n",
      "Enter the marked elements 6 1\n"
     ]
    },
    {
     "data": {
      "text/plain": [
       "[6, 1]"
      ]
     },
     "execution_count": 38,
     "metadata": {},
     "output_type": "execute_result"
    }
   ],
   "source": [
    "n = int(input(\"Enter the number of qubits:=\"))\n",
    "marked = list(map(int, input(\"Enter the marked elements\").split()))\n",
    "marked"
   ]
  },
  {
   "cell_type": "code",
   "execution_count": 39,
   "id": "d55ae634-7cb5-49c0-80b8-839122153713",
   "metadata": {},
   "outputs": [
    {
     "name": "stdout",
     "output_type": "stream",
     "text": [
      "Number of qubits:3\n",
      "Key(s) to search [6, 1]\n",
      "Number of rounds needed: 1\n",
      "Traceback \u001b[1;36m(most recent call last)\u001b[0m:\n",
      "  File \u001b[0;32m\"/tmp/ipykernel_807/3293796436.py\"\u001b[0m, line \u001b[0;32m1\u001b[0m, in \u001b[0;35m<module>\u001b[0m\n",
      "    gen_grover = groverSearch(n, marked)\n",
      "  File \u001b[0;32m\"/tmp/ipykernel_807/3023181246.py\"\u001b[0m, line \u001b[0;32m29\u001b[0m, in \u001b[0;35mgroverSearch\u001b[0m\n",
      "    qc.append(diffuser(n),range(n))\n",
      "\u001b[1;36m  File \u001b[1;32m\"/tmp/ipykernel_807/3018930347.py\"\u001b[1;36m, line \u001b[1;32m19\u001b[1;36m, in \u001b[1;35mdiffuser\u001b[1;36m\u001b[0m\n",
      "\u001b[1;33m    diffuser_matrix = phase_oracle(n, except_zero)\u001b[0m\n",
      "\u001b[1;31mNameError\u001b[0m\u001b[1;31m:\u001b[0m name 'except_zero' is not defined\n",
      "\n",
      "Use %tb to get the full traceback.\n"
     ]
    },
    {
     "data": {
      "text/html": [
       "\n",
       "<style>\n",
       ".button {\n",
       "  border: none;\n",
       "  color: white;\n",
       "  padding: 4px 8px;\n",
       "  text-align: center;\n",
       "  text-decoration: none;\n",
       "  display: inline-block;\n",
       "  font-size: 12px;\n",
       "  margin: 4px 2px;\n",
       "  transition-duration: 0.2s;\n",
       "  cursor: pointer;\n",
       "}\n",
       ".iqx-button {\n",
       "  background-color: #0f62fe; \n",
       "  color: white; \n",
       "}\n",
       ".iqx-button:hover {\n",
       "  background-color: #0043ce;\n",
       "  color: white;\n",
       "}\n",
       "</style>\n",
       "<a href=\"https://stackoverflow.com/search?q=NameError: name 'except_zero' is not defined\" target='_blank'><button class='button iqx-button'>Search for solution online</button></a>\n"
      ],
      "text/plain": [
       "<IPython.core.display.HTML object>"
      ]
     },
     "metadata": {},
     "output_type": "display_data"
    }
   ],
   "source": [
    "gen_grover = groverSearch(n, marked)"
   ]
  },
  {
   "cell_type": "code",
   "execution_count": 40,
   "id": "6b068645-8296-482f-9928-a4f1afb09400",
   "metadata": {},
   "outputs": [
    {
     "name": "stdout",
     "output_type": "stream",
     "text": [
      "Traceback \u001b[1;36m(most recent call last)\u001b[0m:\n",
      "\u001b[1;36m  File \u001b[1;32m\"/tmp/ipykernel_807/751841960.py\"\u001b[1;36m, line \u001b[1;32m1\u001b[1;36m, in \u001b[1;35m<module>\u001b[1;36m\u001b[0m\n",
      "\u001b[1;33m    gen_grover.draw()\u001b[0m\n",
      "\u001b[1;31mNameError\u001b[0m\u001b[1;31m:\u001b[0m name 'gen_grover' is not defined\n",
      "\n",
      "Use %tb to get the full traceback.\n"
     ]
    },
    {
     "data": {
      "text/html": [
       "\n",
       "<style>\n",
       ".button {\n",
       "  border: none;\n",
       "  color: white;\n",
       "  padding: 4px 8px;\n",
       "  text-align: center;\n",
       "  text-decoration: none;\n",
       "  display: inline-block;\n",
       "  font-size: 12px;\n",
       "  margin: 4px 2px;\n",
       "  transition-duration: 0.2s;\n",
       "  cursor: pointer;\n",
       "}\n",
       ".iqx-button {\n",
       "  background-color: #0f62fe; \n",
       "  color: white; \n",
       "}\n",
       ".iqx-button:hover {\n",
       "  background-color: #0043ce;\n",
       "  color: white;\n",
       "}\n",
       "</style>\n",
       "<a href=\"https://stackoverflow.com/search?q=NameError: name 'gen_grover' is not defined\" target='_blank'><button class='button iqx-button'>Search for solution online</button></a>\n"
      ],
      "text/plain": [
       "<IPython.core.display.HTML object>"
      ]
     },
     "metadata": {},
     "output_type": "display_data"
    }
   ],
   "source": [
    "gen_grover.draw()"
   ]
  },
  {
   "cell_type": "code",
   "execution_count": 41,
   "id": "eaf9a111-dbb8-440b-8fd8-53d0a9a40b88",
   "metadata": {},
   "outputs": [
    {
     "name": "stdout",
     "output_type": "stream",
     "text": [
      "Traceback \u001b[1;36m(most recent call last)\u001b[0m:\n",
      "\u001b[1;36m  File \u001b[1;32m\"/tmp/ipykernel_807/1855578582.py\"\u001b[1;36m, line \u001b[1;32m2\u001b[1;36m, in \u001b[1;35m<module>\u001b[1;36m\u001b[0m\n",
      "\u001b[1;33m    result = execute(gen_grover, backend = backend, shots = shots).result()\u001b[0m\n",
      "\u001b[1;31mNameError\u001b[0m\u001b[1;31m:\u001b[0m name 'gen_grover' is not defined\n",
      "\n",
      "Use %tb to get the full traceback.\n"
     ]
    },
    {
     "data": {
      "text/html": [
       "\n",
       "<style>\n",
       ".button {\n",
       "  border: none;\n",
       "  color: white;\n",
       "  padding: 4px 8px;\n",
       "  text-align: center;\n",
       "  text-decoration: none;\n",
       "  display: inline-block;\n",
       "  font-size: 12px;\n",
       "  margin: 4px 2px;\n",
       "  transition-duration: 0.2s;\n",
       "  cursor: pointer;\n",
       "}\n",
       ".iqx-button {\n",
       "  background-color: #0f62fe; \n",
       "  color: white; \n",
       "}\n",
       ".iqx-button:hover {\n",
       "  background-color: #0043ce;\n",
       "  color: white;\n",
       "}\n",
       "</style>\n",
       "<a href=\"https://stackoverflow.com/search?q=NameError: name 'gen_grover' is not defined\" target='_blank'><button class='button iqx-button'>Search for solution online</button></a>\n"
      ],
      "text/plain": [
       "<IPython.core.display.HTML object>"
      ]
     },
     "metadata": {},
     "output_type": "display_data"
    }
   ],
   "source": [
    "backend = BasicAer.get_backend('qasm_simulator')\n",
    "result = execute(gen_grover, backend = backend, shots = shots).result()\n",
    "counts = result.get_counts()\n",
    "plot_histogram(counts)"
   ]
  },
  {
   "cell_type": "code",
   "execution_count": null,
   "id": "1b6819f9-cb91-4d3a-9d65-6153dccec306",
   "metadata": {},
   "outputs": [],
   "source": []
  },
  {
   "cell_type": "code",
   "execution_count": null,
   "id": "5818849a-4c3b-4eba-8b69-fe8cb1f0dd60",
   "metadata": {},
   "outputs": [],
   "source": []
  },
  {
   "cell_type": "code",
   "execution_count": null,
   "id": "9231f2d0-5720-4a2b-bff3-735ab9a06756",
   "metadata": {},
   "outputs": [],
   "source": []
  },
  {
   "cell_type": "code",
   "execution_count": null,
   "id": "34a3f336-0651-4ad6-a053-7cd267d29289",
   "metadata": {},
   "outputs": [],
   "source": []
  },
  {
   "cell_type": "code",
   "execution_count": null,
   "id": "c0f1e9ba-9e85-41f7-900c-da1ac2cc2cbf",
   "metadata": {},
   "outputs": [],
   "source": []
  }
 ],
 "metadata": {
  "kernelspec": {
   "display_name": "Qiskit v0.30.1 (ipykernel)",
   "language": "python",
   "name": "python3"
  },
  "language_info": {
   "codemirror_mode": {
    "name": "ipython",
    "version": 3
   },
   "file_extension": ".py",
   "mimetype": "text/x-python",
   "name": "python",
   "nbconvert_exporter": "python",
   "pygments_lexer": "ipython3",
   "version": "3.8.10"
  },
  "widgets": {
   "application/vnd.jupyter.widget-state+json": {
    "state": {
     "008b3e119adf44cf8b59a1b22fd6da05": {
      "model_module": "@jupyter-widgets/controls",
      "model_module_version": "1.5.0",
      "model_name": "DescriptionStyleModel",
      "state": {
       "description_width": ""
      }
     },
     "023d364d630e49d5b5ff8f1133a86a9f": {
      "model_module": "@jupyter-widgets/controls",
      "model_module_version": "1.5.0",
      "model_name": "HTMLModel",
      "state": {
       "layout": "IPY_MODEL_92a8d73308ee444e9155e8f94fe1f068",
       "style": "IPY_MODEL_2ce1fe5174e548b9935a9333f999e2bd",
       "value": "job has successfully run"
      }
     },
     "05dbbc63fcb84c8188da5b620dd9e41d": {
      "model_module": "@jupyter-widgets/base",
      "model_module_version": "1.2.0",
      "model_name": "LayoutModel",
      "state": {
       "width": "95px"
      }
     },
     "0911dbb41e7741d2b8fe1770933de023": {
      "model_module": "@jupyter-widgets/controls",
      "model_module_version": "1.5.0",
      "model_name": "DescriptionStyleModel",
      "state": {
       "description_width": ""
      }
     },
     "0da90381ce8d4b0e9b8c3ff972bf19a5": {
      "model_module": "@jupyter-widgets/controls",
      "model_module_version": "1.5.0",
      "model_name": "DescriptionStyleModel",
      "state": {
       "description_width": ""
      }
     },
     "0fca7973f1ff47b99444b28bc1b6fc7a": {
      "model_module": "@jupyter-widgets/controls",
      "model_module_version": "1.5.0",
      "model_name": "DescriptionStyleModel",
      "state": {
       "description_width": ""
      }
     },
     "104b6a595047447aa98a3fb95ea8edcf": {
      "model_module": "@jupyter-widgets/controls",
      "model_module_version": "1.5.0",
      "model_name": "HTMLModel",
      "state": {
       "layout": "IPY_MODEL_b4c904b1dd294cc4bcf94082f86974f4",
       "style": "IPY_MODEL_5f54c611cb57410d83bd3fb13ac72211",
       "value": "job has successfully run"
      }
     },
     "1113bca96ca043f99b830adede36ec93": {
      "model_module": "@jupyter-widgets/controls",
      "model_module_version": "1.5.0",
      "model_name": "ButtonStyleModel",
      "state": {}
     },
     "234e91d7d9c54638aeb2bab255725762": {
      "model_module": "@jupyter-widgets/controls",
      "model_module_version": "1.5.0",
      "model_name": "ButtonModel",
      "state": {
       "icon": "close",
       "layout": "IPY_MODEL_eea30636e3b94356af6e91ccd768b120",
       "style": "IPY_MODEL_27fa505466a14706a369f5047b1c2e16"
      }
     },
     "262a89446e474fdeb22a76afb105ae42": {
      "model_module": "@jupyter-widgets/controls",
      "model_module_version": "1.5.0",
      "model_name": "DescriptionStyleModel",
      "state": {
       "description_width": ""
      }
     },
     "27fa505466a14706a369f5047b1c2e16": {
      "model_module": "@jupyter-widgets/controls",
      "model_module_version": "1.5.0",
      "model_name": "ButtonStyleModel",
      "state": {
       "button_color": "white"
      }
     },
     "2c2228977a764e48b7f2b796b8175b88": {
      "model_module": "@jupyter-widgets/base",
      "model_module_version": "1.2.0",
      "model_name": "LayoutModel",
      "state": {
       "width": "145px"
      }
     },
     "2c7a3976f7004b348d23762ddb4eeda9": {
      "model_module": "@jupyter-widgets/controls",
      "model_module_version": "1.5.0",
      "model_name": "DescriptionStyleModel",
      "state": {
       "description_width": ""
      }
     },
     "2ce1fe5174e548b9935a9333f999e2bd": {
      "model_module": "@jupyter-widgets/controls",
      "model_module_version": "1.5.0",
      "model_name": "DescriptionStyleModel",
      "state": {
       "description_width": ""
      }
     },
     "2ff6c648099f4d2baa3da88ea3c2e49b": {
      "model_module": "@jupyter-widgets/base",
      "model_module_version": "1.2.0",
      "model_name": "LayoutModel",
      "state": {
       "margin": "0px 0px 10px 0px"
      }
     },
     "31fe505eadb349e9bf3c1cf026df5dd0": {
      "model_module": "@jupyter-widgets/base",
      "model_module_version": "1.2.0",
      "model_name": "LayoutModel",
      "state": {
       "width": "70px"
      }
     },
     "355f0771e0fd4e34a3cf8bdfc4fafae2": {
      "model_module": "@jupyter-widgets/controls",
      "model_module_version": "1.5.0",
      "model_name": "HTMLModel",
      "state": {
       "layout": "IPY_MODEL_84401acd24eb451392c143342f0533e8",
       "style": "IPY_MODEL_f2dd92d1de3a400ea1df5ff5f937eb5c",
       "value": "-"
      }
     },
     "3920e90b38ae455e82ad428d42778326": {
      "model_module": "@jupyter-widgets/controls",
      "model_module_version": "1.5.0",
      "model_name": "VBoxModel",
      "state": {
       "children": [
        "IPY_MODEL_ad122727e96f4a4697c391522870d9eb",
        "IPY_MODEL_a2f1852000e842b89a196b2df8dab9b8",
        "IPY_MODEL_92ebffe397ca41afa684257fdf95ed32",
        "IPY_MODEL_b6bfd7ffa98d4aef98faf02e90781569",
        "IPY_MODEL_40f2c579cb5f4e8a8c79d8f834229cf8"
       ],
       "layout": "IPY_MODEL_982b0cf74fd047cda25dc82c992e3728"
      }
     },
     "3966d514b2624df9b3835c8018134664": {
      "model_module": "@jupyter-widgets/controls",
      "model_module_version": "1.5.0",
      "model_name": "ButtonModel",
      "state": {
       "icon": "close",
       "layout": "IPY_MODEL_6249d10ad8f04563a1ee92d21e1ad568",
       "style": "IPY_MODEL_8fb709f6e6814b838ecd895e259a6cf6"
      }
     },
     "3b7a7e1180bd48139f4de689ee039bb0": {
      "model_module": "@jupyter-widgets/controls",
      "model_module_version": "1.5.0",
      "model_name": "DescriptionStyleModel",
      "state": {
       "description_width": ""
      }
     },
     "3cd4b512bb6440738781d0b962e4f4af": {
      "model_module": "@jupyter-widgets/controls",
      "model_module_version": "1.5.0",
      "model_name": "HTMLModel",
      "state": {
       "layout": "IPY_MODEL_7ecbcee8e4b94c718536dab84052ca7a",
       "style": "IPY_MODEL_a5a9a966c6864024af8774ac346dfa73",
       "value": "<h5>Message</h5>"
      }
     },
     "40b5c471da654e79821e57a61d7a3aa1": {
      "model_module": "@jupyter-widgets/base",
      "model_module_version": "1.2.0",
      "model_name": "LayoutModel",
      "state": {
       "width": "95px"
      }
     },
     "40f2c579cb5f4e8a8c79d8f834229cf8": {
      "model_module": "@jupyter-widgets/controls",
      "model_module_version": "1.5.0",
      "model_name": "HBoxModel",
      "state": {
       "children": [
        "IPY_MODEL_3966d514b2624df9b3835c8018134664",
        "IPY_MODEL_748d462c8a004e1d9a4b72503fc475a8",
        "IPY_MODEL_a5ab35a7456d4fc380c69234a30d70dc",
        "IPY_MODEL_a71c6759102a45479e4e212c6f113a8d",
        "IPY_MODEL_355f0771e0fd4e34a3cf8bdfc4fafae2",
        "IPY_MODEL_023d364d630e49d5b5ff8f1133a86a9f"
       ],
       "layout": "IPY_MODEL_76bd9e2ed05a4085b9b39f1c98d8a717"
      }
     },
     "44476437389e47e882dbb5b6b2c57cc8": {
      "model_module": "@jupyter-widgets/base",
      "model_module_version": "1.2.0",
      "model_name": "LayoutModel",
      "state": {
       "max_width": "700px",
       "min_width": "700px"
      }
     },
     "49d5425a83b54d61b6e73cb23a095905": {
      "model_module": "@jupyter-widgets/controls",
      "model_module_version": "1.5.0",
      "model_name": "DescriptionStyleModel",
      "state": {
       "description_width": ""
      }
     },
     "4b0bf20c38ac4542abc799d468eca59d": {
      "model_module": "@jupyter-widgets/controls",
      "model_module_version": "1.5.0",
      "model_name": "DescriptionStyleModel",
      "state": {
       "description_width": ""
      }
     },
     "5407145eb6f14430b7b6d960208a0f48": {
      "model_module": "@jupyter-widgets/base",
      "model_module_version": "1.2.0",
      "model_name": "LayoutModel",
      "state": {
       "max_width": "700px",
       "min_width": "700px"
      }
     },
     "579562ba13bf46f98bee17e1db0909b5": {
      "model_module": "@jupyter-widgets/controls",
      "model_module_version": "1.5.0",
      "model_name": "HTMLModel",
      "state": {
       "layout": "IPY_MODEL_9d03e7f6ae9845a493363b0687e45c9d",
       "style": "IPY_MODEL_5d68d5fe0e414c82a08d3ad8379e249e",
       "value": "<font style='color:#34BC6E'>DONE</font>"
      }
     },
     "5d68d5fe0e414c82a08d3ad8379e249e": {
      "model_module": "@jupyter-widgets/controls",
      "model_module_version": "1.5.0",
      "model_name": "DescriptionStyleModel",
      "state": {
       "description_width": ""
      }
     },
     "5ea78a251c444d9ba52b1404492cb043": {
      "model_module": "@jupyter-widgets/base",
      "model_module_version": "1.2.0",
      "model_name": "LayoutModel",
      "state": {
       "overflow_x": "scroll"
      }
     },
     "5f54c611cb57410d83bd3fb13ac72211": {
      "model_module": "@jupyter-widgets/controls",
      "model_module_version": "1.5.0",
      "model_name": "DescriptionStyleModel",
      "state": {
       "description_width": ""
      }
     },
     "5f82c2a151304df1a50c95c2d05241f1": {
      "model_module": "@jupyter-widgets/base",
      "model_module_version": "1.2.0",
      "model_name": "LayoutModel",
      "state": {
       "margin": "0px 5px 0px 0px",
       "width": "32px"
      }
     },
     "600ce8a5d9f34c978b114aa42087163d": {
      "model_module": "@jupyter-widgets/controls",
      "model_module_version": "1.5.0",
      "model_name": "ButtonModel",
      "state": {
       "button_style": "primary",
       "description": "Clear",
       "layout": "IPY_MODEL_dc81ab0065794253b873adf8068e63a3",
       "style": "IPY_MODEL_1113bca96ca043f99b830adede36ec93"
      }
     },
     "6166859d00184e72bb6e17d7f849d127": {
      "model_module": "@jupyter-widgets/controls",
      "model_module_version": "1.5.0",
      "model_name": "HTMLModel",
      "state": {
       "layout": "IPY_MODEL_c14d0f25dca147feb9836ad5bd063a64",
       "style": "IPY_MODEL_0da90381ce8d4b0e9b8c3ff972bf19a5",
       "value": "-"
      }
     },
     "6249d10ad8f04563a1ee92d21e1ad568": {
      "model_module": "@jupyter-widgets/base",
      "model_module_version": "1.2.0",
      "model_name": "LayoutModel",
      "state": {
       "margin": "0px 5px 0px 0px",
       "width": "32px"
      }
     },
     "664efacfce4643f2b222cd178ece4405": {
      "model_module": "@jupyter-widgets/controls",
      "model_module_version": "1.5.0",
      "model_name": "DescriptionStyleModel",
      "state": {
       "description_width": ""
      }
     },
     "73997e34a36b49a6935a400c25e40fe3": {
      "model_module": "@jupyter-widgets/controls",
      "model_module_version": "1.5.0",
      "model_name": "HTMLModel",
      "state": {
       "layout": "IPY_MODEL_f180df74ba884185b1edfc4fa2716ed4",
       "style": "IPY_MODEL_664efacfce4643f2b222cd178ece4405",
       "value": "<font style='color:#34BC6E'>DONE</font>"
      }
     },
     "747e15f7792f41b9891865698894395c": {
      "model_module": "@jupyter-widgets/controls",
      "model_module_version": "1.5.0",
      "model_name": "HTMLModel",
      "state": {
       "layout": "IPY_MODEL_98172289f1464e408c1a0dddb0cbcc6b",
       "style": "IPY_MODEL_3b7a7e1180bd48139f4de689ee039bb0",
       "value": "-"
      }
     },
     "748d462c8a004e1d9a4b72503fc475a8": {
      "model_module": "@jupyter-widgets/controls",
      "model_module_version": "1.5.0",
      "model_name": "HTMLModel",
      "state": {
       "layout": "IPY_MODEL_b2e09dd137a74023b8e8dbeb25fff59e",
       "style": "IPY_MODEL_49d5425a83b54d61b6e73cb23a095905",
       "value": "615afccb059e1b972ca6535c"
      }
     },
     "75bb9aedbe444cbdbd13a17136c0edb7": {
      "model_module": "@jupyter-widgets/controls",
      "model_module_version": "1.5.0",
      "model_name": "AccordionModel",
      "state": {
       "_dom_classes": [
        "job_widget"
       ],
       "_titles": {
        "0": "IBMQ Jobs"
       },
       "children": [
        "IPY_MODEL_3920e90b38ae455e82ad428d42778326"
       ],
       "layout": "IPY_MODEL_ed6a49445ecd4a11805bca95769b67f6",
       "selected_index": null
      }
     },
     "76bd9e2ed05a4085b9b39f1c98d8a717": {
      "model_module": "@jupyter-widgets/base",
      "model_module_version": "1.2.0",
      "model_name": "LayoutModel",
      "state": {
       "max_width": "700px",
       "min_width": "700px"
      }
     },
     "7caeb64eeffb48ab85268093df5f15c9": {
      "model_module": "@jupyter-widgets/base",
      "model_module_version": "1.2.0",
      "model_name": "LayoutModel",
      "state": {
       "width": "190px"
      }
     },
     "7ecbcee8e4b94c718536dab84052ca7a": {
      "model_module": "@jupyter-widgets/base",
      "model_module_version": "1.2.0",
      "model_name": "LayoutModel",
      "state": {}
     },
     "84401acd24eb451392c143342f0533e8": {
      "model_module": "@jupyter-widgets/base",
      "model_module_version": "1.2.0",
      "model_name": "LayoutModel",
      "state": {
       "width": "70px"
      }
     },
     "85a27e307482460c8c5de294804dcf5c": {
      "model_module": "@jupyter-widgets/controls",
      "model_module_version": "1.5.0",
      "model_name": "HTMLModel",
      "state": {
       "layout": "IPY_MODEL_b22f292240504912a9b8cf04d44c5a8e",
       "style": "IPY_MODEL_8da1bc8456e74b3ba7908e5282819c39",
       "value": "615afccdceec1b00cc6f9cb5"
      }
     },
     "878ce676a03d4373afe84a034635bbb0": {
      "model_module": "@jupyter-widgets/controls",
      "model_module_version": "1.5.0",
      "model_name": "HTMLModel",
      "state": {
       "layout": "IPY_MODEL_fd2eb2f1f420424296f19bb38ea00c34",
       "style": "IPY_MODEL_a73eb79b714d450589b51ecd5ba26d54",
       "value": "ibmq_lima"
      }
     },
     "8bb4a329a61a43e6abc146b9cb7cfa11": {
      "model_module": "@jupyter-widgets/controls",
      "model_module_version": "1.5.0",
      "model_name": "ButtonStyleModel",
      "state": {
       "button_color": "white"
      }
     },
     "8da1bc8456e74b3ba7908e5282819c39": {
      "model_module": "@jupyter-widgets/controls",
      "model_module_version": "1.5.0",
      "model_name": "DescriptionStyleModel",
      "state": {
       "description_width": ""
      }
     },
     "8dcc97c8574548b5afe9a02597b32bef": {
      "model_module": "@jupyter-widgets/base",
      "model_module_version": "1.2.0",
      "model_name": "LayoutModel",
      "state": {
       "margin": "0px 0px 0px 37px",
       "width": "600px"
      }
     },
     "8fb709f6e6814b838ecd895e259a6cf6": {
      "model_module": "@jupyter-widgets/controls",
      "model_module_version": "1.5.0",
      "model_name": "ButtonStyleModel",
      "state": {
       "button_color": "white"
      }
     },
     "92797ba2cee7473c8907cdefb669198f": {
      "model_module": "@jupyter-widgets/base",
      "model_module_version": "1.2.0",
      "model_name": "LayoutModel",
      "state": {
       "width": "145px"
      }
     },
     "92a8d73308ee444e9155e8f94fe1f068": {
      "model_module": "@jupyter-widgets/base",
      "model_module_version": "1.2.0",
      "model_name": "LayoutModel",
      "state": {
       "overflow_x": "scroll"
      }
     },
     "92ebffe397ca41afa684257fdf95ed32": {
      "model_module": "@jupyter-widgets/controls",
      "model_module_version": "1.5.0",
      "model_name": "HBoxModel",
      "state": {
       "children": [
        "IPY_MODEL_9ab4743ee424495699c3f607c95f1a52",
        "IPY_MODEL_d1e02b24369d475b807f42fe6b3e391e",
        "IPY_MODEL_878ce676a03d4373afe84a034635bbb0",
        "IPY_MODEL_73997e34a36b49a6935a400c25e40fe3",
        "IPY_MODEL_6166859d00184e72bb6e17d7f849d127",
        "IPY_MODEL_f0739ffccdc14b72921eaffa2ecc65e6"
       ],
       "layout": "IPY_MODEL_44476437389e47e882dbb5b6b2c57cc8"
      }
     },
     "931f308934034737af0c986e048c2e2d": {
      "model_module": "@jupyter-widgets/controls",
      "model_module_version": "1.5.0",
      "model_name": "HTMLModel",
      "state": {
       "layout": "IPY_MODEL_2ff6c648099f4d2baa3da88ea3c2e49b",
       "style": "IPY_MODEL_2c7a3976f7004b348d23762ddb4eeda9",
       "value": "<p style='font-family: IBM Plex Sans, Arial, Helvetica, sans-serif; font-size: 20px; font-weight: medium;'>Circuit Properties</p>"
      }
     },
     "98172289f1464e408c1a0dddb0cbcc6b": {
      "model_module": "@jupyter-widgets/base",
      "model_module_version": "1.2.0",
      "model_name": "LayoutModel",
      "state": {
       "width": "70px"
      }
     },
     "982b0cf74fd047cda25dc82c992e3728": {
      "model_module": "@jupyter-widgets/base",
      "model_module_version": "1.2.0",
      "model_name": "LayoutModel",
      "state": {
       "max_width": "710px",
       "min_width": "710px"
      }
     },
     "9ab4743ee424495699c3f607c95f1a52": {
      "model_module": "@jupyter-widgets/controls",
      "model_module_version": "1.5.0",
      "model_name": "ButtonModel",
      "state": {
       "icon": "close",
       "layout": "IPY_MODEL_5f82c2a151304df1a50c95c2d05241f1",
       "style": "IPY_MODEL_8bb4a329a61a43e6abc146b9cb7cfa11"
      }
     },
     "9c7dfa0d62ac4ea084c94070b9a137d2": {
      "model_module": "@jupyter-widgets/controls",
      "model_module_version": "1.5.0",
      "model_name": "HTMLModel",
      "state": {
       "layout": "IPY_MODEL_40b5c471da654e79821e57a61d7a3aa1",
       "style": "IPY_MODEL_f5a9265cda1f44f394a9f545a46bf40c",
       "value": "<h5>Status</h5>"
      }
     },
     "9d03e7f6ae9845a493363b0687e45c9d": {
      "model_module": "@jupyter-widgets/base",
      "model_module_version": "1.2.0",
      "model_name": "LayoutModel",
      "state": {
       "width": "95px"
      }
     },
     "a2f1852000e842b89a196b2df8dab9b8": {
      "model_module": "@jupyter-widgets/controls",
      "model_module_version": "1.5.0",
      "model_name": "HBoxModel",
      "state": {
       "children": [
        "IPY_MODEL_fc4ae30d012c45939484ac1a54e295d6",
        "IPY_MODEL_d0630e8b5fc94fadb7453e565927b697",
        "IPY_MODEL_9c7dfa0d62ac4ea084c94070b9a137d2",
        "IPY_MODEL_a8f5d7f2d3304c32b8674af5c9d71c9a",
        "IPY_MODEL_3cd4b512bb6440738781d0b962e4f4af"
       ],
       "layout": "IPY_MODEL_8dcc97c8574548b5afe9a02597b32bef"
      }
     },
     "a5a9a966c6864024af8774ac346dfa73": {
      "model_module": "@jupyter-widgets/controls",
      "model_module_version": "1.5.0",
      "model_name": "DescriptionStyleModel",
      "state": {
       "description_width": ""
      }
     },
     "a5ab35a7456d4fc380c69234a30d70dc": {
      "model_module": "@jupyter-widgets/controls",
      "model_module_version": "1.5.0",
      "model_name": "HTMLModel",
      "state": {
       "layout": "IPY_MODEL_ef850b96fbec4886a1e31d58baf059f9",
       "style": "IPY_MODEL_ce0556d4286049eabfded9da39bd3fcf",
       "value": "ibmq_belem"
      }
     },
     "a60c08dc3bb14bd19822c9f3da73e2e4": {
      "model_module": "@jupyter-widgets/base",
      "model_module_version": "1.2.0",
      "model_name": "LayoutModel",
      "state": {
       "width": "190px"
      }
     },
     "a71c6759102a45479e4e212c6f113a8d": {
      "model_module": "@jupyter-widgets/controls",
      "model_module_version": "1.5.0",
      "model_name": "HTMLModel",
      "state": {
       "layout": "IPY_MODEL_05dbbc63fcb84c8188da5b620dd9e41d",
       "style": "IPY_MODEL_008b3e119adf44cf8b59a1b22fd6da05",
       "value": "<font style='color:#34BC6E'>DONE</font>"
      }
     },
     "a73eb79b714d450589b51ecd5ba26d54": {
      "model_module": "@jupyter-widgets/controls",
      "model_module_version": "1.5.0",
      "model_name": "DescriptionStyleModel",
      "state": {
       "description_width": ""
      }
     },
     "a8f5d7f2d3304c32b8674af5c9d71c9a": {
      "model_module": "@jupyter-widgets/controls",
      "model_module_version": "1.5.0",
      "model_name": "HTMLModel",
      "state": {
       "layout": "IPY_MODEL_31fe505eadb349e9bf3c1cf026df5dd0",
       "style": "IPY_MODEL_262a89446e474fdeb22a76afb105ae42",
       "value": "<h5>Queue</h5>"
      }
     },
     "ad122727e96f4a4697c391522870d9eb": {
      "model_module": "@jupyter-widgets/controls",
      "model_module_version": "1.5.0",
      "model_name": "GridBoxModel",
      "state": {
       "children": [
        "IPY_MODEL_600ce8a5d9f34c978b114aa42087163d"
       ],
       "layout": "IPY_MODEL_cbf2d4fb90ab4e49972e7023b78649ad"
      }
     },
     "b22f292240504912a9b8cf04d44c5a8e": {
      "model_module": "@jupyter-widgets/base",
      "model_module_version": "1.2.0",
      "model_name": "LayoutModel",
      "state": {
       "width": "190px"
      }
     },
     "b2e09dd137a74023b8e8dbeb25fff59e": {
      "model_module": "@jupyter-widgets/base",
      "model_module_version": "1.2.0",
      "model_name": "LayoutModel",
      "state": {
       "width": "190px"
      }
     },
     "b4c904b1dd294cc4bcf94082f86974f4": {
      "model_module": "@jupyter-widgets/base",
      "model_module_version": "1.2.0",
      "model_name": "LayoutModel",
      "state": {
       "overflow_x": "scroll"
      }
     },
     "b6bfd7ffa98d4aef98faf02e90781569": {
      "model_module": "@jupyter-widgets/controls",
      "model_module_version": "1.5.0",
      "model_name": "HBoxModel",
      "state": {
       "children": [
        "IPY_MODEL_234e91d7d9c54638aeb2bab255725762",
        "IPY_MODEL_85a27e307482460c8c5de294804dcf5c",
        "IPY_MODEL_bd6652f24bef48098562110ae2f071cc",
        "IPY_MODEL_579562ba13bf46f98bee17e1db0909b5",
        "IPY_MODEL_747e15f7792f41b9891865698894395c",
        "IPY_MODEL_104b6a595047447aa98a3fb95ea8edcf"
       ],
       "layout": "IPY_MODEL_5407145eb6f14430b7b6d960208a0f48"
      }
     },
     "bd6652f24bef48098562110ae2f071cc": {
      "model_module": "@jupyter-widgets/controls",
      "model_module_version": "1.5.0",
      "model_name": "HTMLModel",
      "state": {
       "layout": "IPY_MODEL_2c2228977a764e48b7f2b796b8175b88",
       "style": "IPY_MODEL_4b0bf20c38ac4542abc799d468eca59d",
       "value": "ibmq_lima"
      }
     },
     "c14d0f25dca147feb9836ad5bd063a64": {
      "model_module": "@jupyter-widgets/base",
      "model_module_version": "1.2.0",
      "model_name": "LayoutModel",
      "state": {
       "width": "70px"
      }
     },
     "cbf2d4fb90ab4e49972e7023b78649ad": {
      "model_module": "@jupyter-widgets/base",
      "model_module_version": "1.2.0",
      "model_name": "LayoutModel",
      "state": {
       "grid_template_areas": "\n                                       \". . . . right \"\n                                        ",
       "grid_template_columns": "20% 20% 20% 20% 20%",
       "width": "100%"
      }
     },
     "ce0556d4286049eabfded9da39bd3fcf": {
      "model_module": "@jupyter-widgets/controls",
      "model_module_version": "1.5.0",
      "model_name": "DescriptionStyleModel",
      "state": {
       "description_width": ""
      }
     },
     "d0630e8b5fc94fadb7453e565927b697": {
      "model_module": "@jupyter-widgets/controls",
      "model_module_version": "1.5.0",
      "model_name": "HTMLModel",
      "state": {
       "layout": "IPY_MODEL_92797ba2cee7473c8907cdefb669198f",
       "style": "IPY_MODEL_d7bd2e3d5eae42ea9ec800298815ede3",
       "value": "<h5>Backend</h5>"
      }
     },
     "d1e02b24369d475b807f42fe6b3e391e": {
      "model_module": "@jupyter-widgets/controls",
      "model_module_version": "1.5.0",
      "model_name": "HTMLModel",
      "state": {
       "layout": "IPY_MODEL_a60c08dc3bb14bd19822c9f3da73e2e4",
       "style": "IPY_MODEL_0911dbb41e7741d2b8fe1770933de023",
       "value": "615afd18ceec1b6f0b6f9cb7"
      }
     },
     "d7bd2e3d5eae42ea9ec800298815ede3": {
      "model_module": "@jupyter-widgets/controls",
      "model_module_version": "1.5.0",
      "model_name": "DescriptionStyleModel",
      "state": {
       "description_width": ""
      }
     },
     "dc81ab0065794253b873adf8068e63a3": {
      "model_module": "@jupyter-widgets/base",
      "model_module_version": "1.2.0",
      "model_name": "LayoutModel",
      "state": {
       "grid_area": "right",
       "padding": "0px 0px 0px 0px",
       "width": "70px"
      }
     },
     "ed6a49445ecd4a11805bca95769b67f6": {
      "model_module": "@jupyter-widgets/base",
      "model_module_version": "1.2.0",
      "model_name": "LayoutModel",
      "state": {
       "max_height": "500px",
       "max_width": "750px",
       "overflow_x": "hidden",
       "overflow_y": "scroll",
       "visibility": "visible",
       "width": "auto"
      }
     },
     "eea30636e3b94356af6e91ccd768b120": {
      "model_module": "@jupyter-widgets/base",
      "model_module_version": "1.2.0",
      "model_name": "LayoutModel",
      "state": {
       "margin": "0px 5px 0px 0px",
       "width": "32px"
      }
     },
     "ef850b96fbec4886a1e31d58baf059f9": {
      "model_module": "@jupyter-widgets/base",
      "model_module_version": "1.2.0",
      "model_name": "LayoutModel",
      "state": {
       "width": "145px"
      }
     },
     "f0739ffccdc14b72921eaffa2ecc65e6": {
      "model_module": "@jupyter-widgets/controls",
      "model_module_version": "1.5.0",
      "model_name": "HTMLModel",
      "state": {
       "layout": "IPY_MODEL_5ea78a251c444d9ba52b1404492cb043",
       "style": "IPY_MODEL_0fca7973f1ff47b99444b28bc1b6fc7a",
       "value": "job has successfully run"
      }
     },
     "f180df74ba884185b1edfc4fa2716ed4": {
      "model_module": "@jupyter-widgets/base",
      "model_module_version": "1.2.0",
      "model_name": "LayoutModel",
      "state": {
       "width": "95px"
      }
     },
     "f2dd92d1de3a400ea1df5ff5f937eb5c": {
      "model_module": "@jupyter-widgets/controls",
      "model_module_version": "1.5.0",
      "model_name": "DescriptionStyleModel",
      "state": {
       "description_width": ""
      }
     },
     "f5a9265cda1f44f394a9f545a46bf40c": {
      "model_module": "@jupyter-widgets/controls",
      "model_module_version": "1.5.0",
      "model_name": "DescriptionStyleModel",
      "state": {
       "description_width": ""
      }
     },
     "f82e00206fc64c0eb0b8e299cd46b898": {
      "model_module": "@jupyter-widgets/controls",
      "model_module_version": "1.5.0",
      "model_name": "DescriptionStyleModel",
      "state": {
       "description_width": ""
      }
     },
     "fc4ae30d012c45939484ac1a54e295d6": {
      "model_module": "@jupyter-widgets/controls",
      "model_module_version": "1.5.0",
      "model_name": "HTMLModel",
      "state": {
       "layout": "IPY_MODEL_7caeb64eeffb48ab85268093df5f15c9",
       "style": "IPY_MODEL_f82e00206fc64c0eb0b8e299cd46b898",
       "value": "<h5>Job ID</h5>"
      }
     },
     "fd2eb2f1f420424296f19bb38ea00c34": {
      "model_module": "@jupyter-widgets/base",
      "model_module_version": "1.2.0",
      "model_name": "LayoutModel",
      "state": {
       "width": "145px"
      }
     }
    },
    "version_major": 2,
    "version_minor": 0
   }
  }
 },
 "nbformat": 4,
 "nbformat_minor": 5
}
