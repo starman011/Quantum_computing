{
 "cells": [
  {
   "cell_type": "code",
   "execution_count": 2,
   "id": "5dd19bc2",
   "metadata": {},
   "outputs": [
    {
     "name": "stdout",
     "output_type": "stream",
     "text": [
      "Requirement already satisfied: qiskit in c:\\users\\md saqlain khan\\anaconda3\\lib\\site-packages (0.30.0)\n",
      "Requirement already satisfied: qiskit-aqua==0.9.5 in c:\\users\\md saqlain khan\\anaconda3\\lib\\site-packages (from qiskit) (0.9.5)\n",
      "Requirement already satisfied: qiskit-terra==0.18.2 in c:\\users\\md saqlain khan\\anaconda3\\lib\\site-packages (from qiskit) (0.18.2)\n",
      "Requirement already satisfied: qiskit-aer==0.9.0 in c:\\users\\md saqlain khan\\anaconda3\\lib\\site-packages (from qiskit) (0.9.0)\n",
      "Requirement already satisfied: qiskit-ibmq-provider==0.16.0 in c:\\users\\md saqlain khan\\anaconda3\\lib\\site-packages (from qiskit) (0.16.0)\n",
      "Requirement already satisfied: qiskit-ignis==0.6.0 in c:\\users\\md saqlain khan\\anaconda3\\lib\\site-packages (from qiskit) (0.6.0)\n",
      "Requirement already satisfied: scipy>=1.0 in c:\\users\\md saqlain khan\\anaconda3\\lib\\site-packages (from qiskit-aer==0.9.0->qiskit) (1.6.2)\n",
      "Requirement already satisfied: numpy>=1.16.3 in c:\\users\\md saqlain khan\\anaconda3\\lib\\site-packages (from qiskit-aer==0.9.0->qiskit) (1.20.1)\n",
      "Requirement already satisfied: pybind11>=2.6 in c:\\users\\md saqlain khan\\anaconda3\\lib\\site-packages (from qiskit-aer==0.9.0->qiskit) (2.7.1)\n",
      "Requirement already satisfied: retworkx>=0.8.0 in c:\\users\\md saqlain khan\\anaconda3\\lib\\site-packages (from qiskit-aqua==0.9.5->qiskit) (0.10.2)\n",
      "Requirement already satisfied: psutil>=5 in c:\\users\\md saqlain khan\\anaconda3\\lib\\site-packages (from qiskit-aqua==0.9.5->qiskit) (5.8.0)\n",
      "Requirement already satisfied: sympy>=1.3 in c:\\users\\md saqlain khan\\anaconda3\\lib\\site-packages (from qiskit-aqua==0.9.5->qiskit) (1.8)\n",
      "Requirement already satisfied: docplex>=2.21.207 in c:\\users\\md saqlain khan\\anaconda3\\lib\\site-packages (from qiskit-aqua==0.9.5->qiskit) (2.22.213)\n",
      "Requirement already satisfied: pandas in c:\\users\\md saqlain khan\\anaconda3\\lib\\site-packages (from qiskit-aqua==0.9.5->qiskit) (1.2.4)\n",
      "Requirement already satisfied: quandl in c:\\users\\md saqlain khan\\anaconda3\\lib\\site-packages (from qiskit-aqua==0.9.5->qiskit) (3.6.1)\n",
      "Requirement already satisfied: yfinance>=0.1.62 in c:\\users\\md saqlain khan\\anaconda3\\lib\\site-packages (from qiskit-aqua==0.9.5->qiskit) (0.1.63)\n",
      "Requirement already satisfied: setuptools>=40.1.0 in c:\\users\\md saqlain khan\\anaconda3\\lib\\site-packages (from qiskit-aqua==0.9.5->qiskit) (52.0.0.post20210125)\n",
      "Requirement already satisfied: scikit-learn>=0.20.0 in c:\\users\\md saqlain khan\\anaconda3\\lib\\site-packages (from qiskit-aqua==0.9.5->qiskit) (0.24.1)\n",
      "Requirement already satisfied: dlx<=1.0.4 in c:\\users\\md saqlain khan\\anaconda3\\lib\\site-packages (from qiskit-aqua==0.9.5->qiskit) (1.0.4)\n",
      "Requirement already satisfied: fastdtw<=0.3.4 in c:\\users\\md saqlain khan\\anaconda3\\lib\\site-packages (from qiskit-aqua==0.9.5->qiskit) (0.3.4)\n",
      "Requirement already satisfied: h5py<3.3.0 in c:\\users\\md saqlain khan\\anaconda3\\lib\\site-packages (from qiskit-aqua==0.9.5->qiskit) (2.10.0)\n",
      "Requirement already satisfied: python-dateutil>=2.8.0 in c:\\users\\md saqlain khan\\anaconda3\\lib\\site-packages (from qiskit-ibmq-provider==0.16.0->qiskit) (2.8.1)\n",
      "Requirement already satisfied: requests-ntlm>=1.1.0 in c:\\users\\md saqlain khan\\anaconda3\\lib\\site-packages (from qiskit-ibmq-provider==0.16.0->qiskit) (1.1.0)\n",
      "Requirement already satisfied: urllib3>=1.21.1 in c:\\users\\md saqlain khan\\anaconda3\\lib\\site-packages (from qiskit-ibmq-provider==0.16.0->qiskit) (1.26.4)\n",
      "Requirement already satisfied: requests>=2.19 in c:\\users\\md saqlain khan\\anaconda3\\lib\\site-packages (from qiskit-ibmq-provider==0.16.0->qiskit) (2.25.1)\n",
      "Requirement already satisfied: websocket-client>=1.0.1 in c:\\users\\md saqlain khan\\anaconda3\\lib\\site-packages (from qiskit-ibmq-provider==0.16.0->qiskit) (1.2.1)\n",
      "Requirement already satisfied: dill>=0.3 in c:\\users\\md saqlain khan\\anaconda3\\lib\\site-packages (from qiskit-terra==0.18.2->qiskit) (0.3.4)\n",
      "Requirement already satisfied: fastjsonschema>=2.10 in c:\\users\\md saqlain khan\\anaconda3\\lib\\site-packages (from qiskit-terra==0.18.2->qiskit) (2.15.1)\n",
      "Requirement already satisfied: tweedledum<2.0,>=1.1 in c:\\users\\md saqlain khan\\anaconda3\\lib\\site-packages (from qiskit-terra==0.18.2->qiskit) (1.1.1)\n",
      "Requirement already satisfied: jsonschema>=2.6 in c:\\users\\md saqlain khan\\anaconda3\\lib\\site-packages (from qiskit-terra==0.18.2->qiskit) (3.2.0)\n",
      "Requirement already satisfied: python-constraint>=1.4 in c:\\users\\md saqlain khan\\anaconda3\\lib\\site-packages (from qiskit-terra==0.18.2->qiskit) (1.4.0)\n",
      "Requirement already satisfied: ply>=3.10 in c:\\users\\md saqlain khan\\anaconda3\\lib\\site-packages (from qiskit-terra==0.18.2->qiskit) (3.11)\n",
      "Requirement already satisfied: six in c:\\users\\md saqlain khan\\anaconda3\\lib\\site-packages (from docplex>=2.21.207->qiskit-aqua==0.9.5->qiskit) (1.15.0)\n",
      "Requirement already satisfied: pyrsistent>=0.14.0 in c:\\users\\md saqlain khan\\anaconda3\\lib\\site-packages (from jsonschema>=2.6->qiskit-terra==0.18.2->qiskit) (0.17.3)\n",
      "Requirement already satisfied: attrs>=17.4.0 in c:\\users\\md saqlain khan\\anaconda3\\lib\\site-packages (from jsonschema>=2.6->qiskit-terra==0.18.2->qiskit) (20.3.0)\n",
      "Requirement already satisfied: idna<3,>=2.5 in c:\\users\\md saqlain khan\\anaconda3\\lib\\site-packages (from requests>=2.19->qiskit-ibmq-provider==0.16.0->qiskit) (2.10)\n",
      "Requirement already satisfied: chardet<5,>=3.0.2 in c:\\users\\md saqlain khan\\anaconda3\\lib\\site-packages (from requests>=2.19->qiskit-ibmq-provider==0.16.0->qiskit) (4.0.0)\n",
      "Requirement already satisfied: certifi>=2017.4.17 in c:\\users\\md saqlain khan\\anaconda3\\lib\\site-packages (from requests>=2.19->qiskit-ibmq-provider==0.16.0->qiskit) (2020.12.5)\n",
      "Requirement already satisfied: cryptography>=1.3 in c:\\users\\md saqlain khan\\anaconda3\\lib\\site-packages (from requests-ntlm>=1.1.0->qiskit-ibmq-provider==0.16.0->qiskit) (3.4.7)\n",
      "Requirement already satisfied: ntlm-auth>=1.0.2 in c:\\users\\md saqlain khan\\anaconda3\\lib\\site-packages (from requests-ntlm>=1.1.0->qiskit-ibmq-provider==0.16.0->qiskit) (1.5.0)\n",
      "Requirement already satisfied: cffi>=1.12 in c:\\users\\md saqlain khan\\anaconda3\\lib\\site-packages (from cryptography>=1.3->requests-ntlm>=1.1.0->qiskit-ibmq-provider==0.16.0->qiskit) (1.14.5)\n",
      "Requirement already satisfied: pycparser in c:\\users\\md saqlain khan\\anaconda3\\lib\\site-packages (from cffi>=1.12->cryptography>=1.3->requests-ntlm>=1.1.0->qiskit-ibmq-provider==0.16.0->qiskit) (2.20)\n",
      "Requirement already satisfied: joblib>=0.11 in c:\\users\\md saqlain khan\\anaconda3\\lib\\site-packages (from scikit-learn>=0.20.0->qiskit-aqua==0.9.5->qiskit) (1.0.1)\n",
      "Requirement already satisfied: threadpoolctl>=2.0.0 in c:\\users\\md saqlain khan\\anaconda3\\lib\\site-packages (from scikit-learn>=0.20.0->qiskit-aqua==0.9.5->qiskit) (2.1.0)\n",
      "Requirement already satisfied: mpmath>=0.19 in c:\\users\\md saqlain khan\\anaconda3\\lib\\site-packages (from sympy>=1.3->qiskit-aqua==0.9.5->qiskit) (1.2.1)\n",
      "Requirement already satisfied: multitasking>=0.0.7 in c:\\users\\md saqlain khan\\anaconda3\\lib\\site-packages (from yfinance>=0.1.62->qiskit-aqua==0.9.5->qiskit) (0.0.9)\n",
      "Requirement already satisfied: lxml>=4.5.1 in c:\\users\\md saqlain khan\\anaconda3\\lib\\site-packages (from yfinance>=0.1.62->qiskit-aqua==0.9.5->qiskit) (4.6.3)\n",
      "Requirement already satisfied: pytz>=2017.3 in c:\\users\\md saqlain khan\\anaconda3\\lib\\site-packages (from pandas->qiskit-aqua==0.9.5->qiskit) (2021.1)\n",
      "Requirement already satisfied: more-itertools in c:\\users\\md saqlain khan\\anaconda3\\lib\\site-packages (from quandl->qiskit-aqua==0.9.5->qiskit) (8.7.0)\n",
      "Requirement already satisfied: inflection>=0.3.1 in c:\\users\\md saqlain khan\\anaconda3\\lib\\site-packages (from quandl->qiskit-aqua==0.9.5->qiskit) (0.5.1)\n"
     ]
    }
   ],
   "source": [
    "!pip install qiskit\n"
   ]
  },
  {
   "cell_type": "code",
   "execution_count": 3,
   "id": "ae71f578",
   "metadata": {},
   "outputs": [],
   "source": [
    "from qiskit import *\n"
   ]
  },
  {
   "cell_type": "code",
   "execution_count": 4,
   "id": "fee48a92",
   "metadata": {},
   "outputs": [],
   "source": [
    "qr=QuantumRegister(1)"
   ]
  },
  {
   "cell_type": "code",
   "execution_count": 5,
   "id": "599758a1",
   "metadata": {},
   "outputs": [],
   "source": [
    "cr=ClassicalRegister(1)"
   ]
  },
  {
   "cell_type": "code",
   "execution_count": 6,
   "id": "e8b85019",
   "metadata": {},
   "outputs": [],
   "source": [
    "qc=QuantumCircuit(qr,cr)"
   ]
  },
  {
   "cell_type": "code",
   "execution_count": 7,
   "id": "d9039852",
   "metadata": {},
   "outputs": [
    {
     "data": {
      "text/html": [
       "<pre style=\"word-wrap: normal;white-space: pre;background: #fff0;line-height: 1.1;font-family: &quot;Courier New&quot;,Courier,monospace\">      \n",
       "q0_0: \n",
       "      \n",
       "c0: 1/\n",
       "      </pre>"
      ],
      "text/plain": [
       "      \n",
       "q0_0: \n",
       "      \n",
       "c0: 1/\n",
       "      "
      ]
     },
     "execution_count": 7,
     "metadata": {},
     "output_type": "execute_result"
    }
   ],
   "source": [
    "qc.draw()"
   ]
  },
  {
   "cell_type": "code",
   "execution_count": 8,
   "id": "c0ccbed3",
   "metadata": {},
   "outputs": [
    {
     "data": {
      "text/plain": [
       "<qiskit.circuit.instructionset.InstructionSet at 0x132199cd100>"
      ]
     },
     "execution_count": 8,
     "metadata": {},
     "output_type": "execute_result"
    }
   ],
   "source": [
    "qc.x(qr[0])"
   ]
  },
  {
   "cell_type": "code",
   "execution_count": 9,
   "id": "7ffb883e",
   "metadata": {},
   "outputs": [
    {
     "data": {
      "text/html": [
       "<pre style=\"word-wrap: normal;white-space: pre;background: #fff0;line-height: 1.1;font-family: &quot;Courier New&quot;,Courier,monospace\">      ┌───┐\n",
       "q0_0: ┤ X ├\n",
       "      └───┘\n",
       "c0: 1/═════\n",
       "           </pre>"
      ],
      "text/plain": [
       "      ┌───┐\n",
       "q0_0: ┤ X ├\n",
       "      └───┘\n",
       "c0: 1/═════\n",
       "           "
      ]
     },
     "execution_count": 9,
     "metadata": {},
     "output_type": "execute_result"
    }
   ],
   "source": [
    "qc.draw()"
   ]
  },
  {
   "cell_type": "code",
   "execution_count": 10,
   "id": "8d3c0aea",
   "metadata": {},
   "outputs": [
    {
     "data": {
      "text/plain": [
       "<qiskit.circuit.instructionset.InstructionSet at 0x132199cd070>"
      ]
     },
     "execution_count": 10,
     "metadata": {},
     "output_type": "execute_result"
    }
   ],
   "source": [
    "qc.measure(qr,cr)"
   ]
  },
  {
   "cell_type": "code",
   "execution_count": 11,
   "id": "7cf3b94c",
   "metadata": {},
   "outputs": [
    {
     "data": {
      "text/html": [
       "<pre style=\"word-wrap: normal;white-space: pre;background: #fff0;line-height: 1.1;font-family: &quot;Courier New&quot;,Courier,monospace\">      ┌───┐┌─┐\n",
       "q0_0: ┤ X ├┤M├\n",
       "      └───┘└╥┘\n",
       "c0: 1/══════╩═\n",
       "            0 </pre>"
      ],
      "text/plain": [
       "      ┌───┐┌─┐\n",
       "q0_0: ┤ X ├┤M├\n",
       "      └───┘└╥┘\n",
       "c0: 1/══════╩═\n",
       "            0 "
      ]
     },
     "execution_count": 11,
     "metadata": {},
     "output_type": "execute_result"
    }
   ],
   "source": [
    "qc.draw()"
   ]
  },
  {
   "cell_type": "code",
   "execution_count": 12,
   "id": "87a8714a",
   "metadata": {},
   "outputs": [],
   "source": [
    "simulator=BasicAer.get_backend('qasm_simulator')"
   ]
  },
  {
   "cell_type": "code",
   "execution_count": 13,
   "id": "db054feb",
   "metadata": {},
   "outputs": [],
   "source": [
    "result=execute(qc,backend=simulator).result()"
   ]
  },
  {
   "cell_type": "code",
   "execution_count": 14,
   "id": "ec0c7b64",
   "metadata": {},
   "outputs": [],
   "source": [
    "from qiskit.tools.visualization import plot_histogram"
   ]
  },
  {
   "cell_type": "code",
   "execution_count": 15,
   "id": "d6457c1b",
   "metadata": {},
   "outputs": [
    {
     "data": {
      "image/png": "[encoded data removed]",
      "text/plain": [
       "<Figure size 504x360 with 1 Axes>"
      ]
     },
     "execution_count": 15,
     "metadata": {},
     "output_type": "execute_result"
    }
   ],
   "source": [
    "plot_histogram(result.get_counts(qc))"
   ]
  },
  {
   "cell_type": "code",
   "execution_count": 17,
   "id": "a0591a65",
   "metadata": {},
   "outputs": [
    {
     "name": "stderr",
     "output_type": "stream",
     "text": [
      "configrc.store_credentials:WARNING:2021-09-28 18:58:13,352: Credentials already present. Set overwrite=True to overwrite.\n"
     ]
    }
   ],
   "source": [
    "IBMQ.save_account('6b8f6bc643bbe325fc725caa9e48e2204cde894b951d7284e117705f946cc125dd4679a833b4317e9381149116d89402ff55e67388ca19af6454c6562bb93731')"
   ]
  },
  {
   "cell_type": "code",
   "execution_count": 19,
   "id": "aa5d8ff7",
   "metadata": {},
   "outputs": [
    {
     "name": "stderr",
     "output_type": "stream",
     "text": [
      "ibmqfactory.load_account:WARNING:2021-09-28 19:01:32,539: Credentials are already in use. The existing account in the session will be replaced.\n"
     ]
    },
    {
     "data": {
      "text/plain": [
       "<AccountProvider for IBMQ(hub='ibm-q', group='open', project='main')>"
      ]
     },
     "execution_count": 19,
     "metadata": {},
     "output_type": "execute_result"
    }
   ],
   "source": [
    "IBMQ.load_account()"
   ]
  },
  {
   "cell_type": "code",
   "execution_count": 22,
   "id": "7dbdc16b",
   "metadata": {},
   "outputs": [],
   "source": [
    "provider=IBMQ.get_provider('ibm-q')"
   ]
  },
  {
   "cell_type": "code",
   "execution_count": 23,
   "id": "39f513e2",
   "metadata": {},
   "outputs": [],
   "source": [
    "qcomp=provider.get_backend('ibmq_armonk')"
   ]
  },
  {
   "cell_type": "code",
   "execution_count": 25,
   "id": "62cddc63",
   "metadata": {},
   "outputs": [],
   "source": [
    "job=execute(qc,backend=qcomp)"
   ]
  },
  {
   "cell_type": "code",
   "execution_count": 27,
   "id": "3effdb7d",
   "metadata": {},
   "outputs": [],
   "source": [
    "from qiskit.tools.monitor import job_monitor"
   ]
  },
  {
   "cell_type": "code",
   "execution_count": 28,
   "id": "1d185622",
   "metadata": {},
   "outputs": [
    {
     "name": "stdout",
     "output_type": "stream",
     "text": [
      "\r",
      "Job Status: job has successfully run\n"
     ]
    }
   ],
   "source": [
    "job_monitor(job)"
   ]
  },
  {
   "cell_type": "code",
   "execution_count": 29,
   "id": "1c65b3c6",
   "metadata": {},
   "outputs": [],
   "source": [
    "result=job.result()"
   ]
  },
  {
   "cell_type": "code",
   "execution_count": 30,
   "id": "12a5749b",
   "metadata": {},
   "outputs": [
    {
     "data": {
      "image/png": "[encoded data removed]",
      "text/plain": [
       "<Figure size 504x360 with 1 Axes>"
      ]
     },
     "execution_count": 30,
     "metadata": {},
     "output_type": "execute_result"
    }
   ],
   "source": [
    "plot_histogram(result.get_counts(qc))"
   ]
  },
  {
   "cell_type": "code",
   "execution_count": 46,
   "id": "0d8adb1c",
   "metadata": {},
   "outputs": [],
   "source": [
    "provider=IBMQ.get_provider('ibm-q')"
   ]
  },
  {
   "cell_type": "code",
   "execution_count": 42,
   "id": "3cbb37e3",
   "metadata": {},
   "outputs": [],
   "source": [
    "qcomp=provider.get_backend('ibmq_santiago')"
   ]
  },
  {
   "cell_type": "code",
   "execution_count": 45,
   "id": "d045226d",
   "metadata": {},
   "outputs": [],
   "source": [
    "job=execute(qc,backend=qcomp)"
   ]
  },
  {
   "cell_type": "code",
   "execution_count": 44,
   "id": "c2641803",
   "metadata": {},
   "outputs": [],
   "source": [
    "from qiskit.tools.monitor import job_monitor"
   ]
  },
  {
   "cell_type": "code",
   "execution_count": 47,
   "id": "865241f7",
   "metadata": {},
   "outputs": [
    {
     "name": "stdout",
     "output_type": "stream",
     "text": [
      "Job Status: job has successfully run\n"
     ]
    }
   ],
   "source": [
    "job_monitor(job)"
   ]
  },
  {
   "cell_type": "code",
   "execution_count": 48,
   "id": "3402869b",
   "metadata": {},
   "outputs": [],
   "source": [
    "result=job.result()"
   ]
  },
  {
   "cell_type": "code",
   "execution_count": 50,
   "id": "4665142e",
   "metadata": {},
   "outputs": [
    {
     "data": {
      "image/png": "[encoded data removed]",
      "text/plain": [
       "<Figure size 504x360 with 1 Axes>"
      ]
     },
     "execution_count": 50,
     "metadata": {},
     "output_type": "execute_result"
    }
   ],
   "source": [
    "plot_histogram(result.get_counts(qc))"
   ]
  },
  {
   "cell_type": "code",
   "execution_count": 51,
   "id": "033fe7c1",
   "metadata": {},
   "outputs": [],
   "source": [
    "from qiskit import *"
   ]
  },
  {
   "cell_type": "code",
   "execution_count": 52,
   "id": "c236fff0",
   "metadata": {},
   "outputs": [],
   "source": [
    "qrH=QuantumRegister(2)"
   ]
  },
  {
   "cell_type": "code",
   "execution_count": 53,
   "id": "8ec6060f",
   "metadata": {},
   "outputs": [],
   "source": [
    "crH=ClassicalRegister(2)"
   ]
  },
  {
   "cell_type": "code",
   "execution_count": 56,
   "id": "7d3299a9",
   "metadata": {},
   "outputs": [],
   "source": [
    "qcH=QuantumCircuit(qrH,crH)"
   ]
  },
  {
   "cell_type": "code",
   "execution_count": 57,
   "id": "ca515a06",
   "metadata": {},
   "outputs": [
    {
     "data": {
      "text/html": [
       "<pre style=\"word-wrap: normal;white-space: pre;background: #fff0;line-height: 1.1;font-family: &quot;Courier New&quot;,Courier,monospace\">       \n",
       "q41_0: \n",
       "       \n",
       "q41_1: \n",
       "       \n",
       " c1: 2/\n",
       "       </pre>"
      ],
      "text/plain": [
       "       \n",
       "q41_0: \n",
       "       \n",
       "q41_1: \n",
       "       \n",
       " c1: 2/\n",
       "       "
      ]
     },
     "execution_count": 57,
     "metadata": {},
     "output_type": "execute_result"
    }
   ],
   "source": [
    "qcH.draw()"
   ]
  },
  {
   "cell_type": "code",
   "execution_count": 58,
   "id": "3b09033c",
   "metadata": {},
   "outputs": [
    {
     "data": {
      "text/plain": [
       "<qiskit.circuit.instructionset.InstructionSet at 0x1321e525e50>"
      ]
     },
     "execution_count": 58,
     "metadata": {},
     "output_type": "execute_result"
    }
   ],
   "source": [
    "qcH.h(qrH[0])"
   ]
  },
  {
   "cell_type": "code",
   "execution_count": 59,
   "id": "45c9b5a8",
   "metadata": {},
   "outputs": [
    {
     "data": {
      "text/html": [
       "<pre style=\"word-wrap: normal;white-space: pre;background: #fff0;line-height: 1.1;font-family: &quot;Courier New&quot;,Courier,monospace\">       ┌───┐\n",
       "q41_0: ┤ H ├\n",
       "       └───┘\n",
       "q41_1: ─────\n",
       "            \n",
       " c1: 2/═════\n",
       "            </pre>"
      ],
      "text/plain": [
       "       ┌───┐\n",
       "q41_0: ┤ H ├\n",
       "       └───┘\n",
       "q41_1: ─────\n",
       "            \n",
       " c1: 2/═════\n",
       "            "
      ]
     },
     "execution_count": 59,
     "metadata": {},
     "output_type": "execute_result"
    }
   ],
   "source": [
    "qcH.draw()"
   ]
  },
  {
   "cell_type": "code",
   "execution_count": 60,
   "id": "c4e9fb14",
   "metadata": {},
   "outputs": [
    {
     "data": {
      "text/plain": [
       "<qiskit.circuit.instructionset.InstructionSet at 0x1321e5143a0>"
      ]
     },
     "execution_count": 60,
     "metadata": {},
     "output_type": "execute_result"
    }
   ],
   "source": [
    "qcH.cx(qrH[0],qrH[1])"
   ]
  },
  {
   "cell_type": "code",
   "execution_count": 61,
   "id": "9059c8c5",
   "metadata": {},
   "outputs": [
    {
     "data": {
      "text/html": [
       "<pre style=\"word-wrap: normal;white-space: pre;background: #fff0;line-height: 1.1;font-family: &quot;Courier New&quot;,Courier,monospace\">       ┌───┐     \n",
       "q41_0: ┤ H ├──■──\n",
       "       └───┘┌─┴─┐\n",
       "q41_1: ─────┤ X ├\n",
       "            └───┘\n",
       " c1: 2/══════════\n",
       "                 </pre>"
      ],
      "text/plain": [
       "       ┌───┐     \n",
       "q41_0: ┤ H ├──■──\n",
       "       └───┘┌─┴─┐\n",
       "q41_1: ─────┤ X ├\n",
       "            └───┘\n",
       " c1: 2/══════════\n",
       "                 "
      ]
     },
     "execution_count": 61,
     "metadata": {},
     "output_type": "execute_result"
    }
   ],
   "source": [
    "qcH.draw()"
   ]
  },
  {
   "cell_type": "code",
   "execution_count": 62,
   "id": "8a0aa17e",
   "metadata": {},
   "outputs": [
    {
     "data": {
      "text/plain": [
       "<qiskit.circuit.instructionset.InstructionSet at 0x1321e525f70>"
      ]
     },
     "execution_count": 62,
     "metadata": {},
     "output_type": "execute_result"
    }
   ],
   "source": [
    "qcH.measure(qrH,crH)"
   ]
  },
  {
   "cell_type": "code",
   "execution_count": 63,
   "id": "084f6fd3",
   "metadata": {},
   "outputs": [
    {
     "data": {
      "text/html": [
       "<pre style=\"word-wrap: normal;white-space: pre;background: #fff0;line-height: 1.1;font-family: &quot;Courier New&quot;,Courier,monospace\">       ┌───┐     ┌─┐   \n",
       "q41_0: ┤ H ├──■──┤M├───\n",
       "       └───┘┌─┴─┐└╥┘┌─┐\n",
       "q41_1: ─────┤ X ├─╫─┤M├\n",
       "            └───┘ ║ └╥┘\n",
       " c1: 2/═══════════╩══╩═\n",
       "                  0  1 </pre>"
      ],
      "text/plain": [
       "       ┌───┐     ┌─┐   \n",
       "q41_0: ┤ H ├──■──┤M├───\n",
       "       └───┘┌─┴─┐└╥┘┌─┐\n",
       "q41_1: ─────┤ X ├─╫─┤M├\n",
       "            └───┘ ║ └╥┘\n",
       " c1: 2/═══════════╩══╩═\n",
       "                  0  1 "
      ]
     },
     "execution_count": 63,
     "metadata": {},
     "output_type": "execute_result"
    }
   ],
   "source": [
    "qcH.draw()"
   ]
  },
  {
   "cell_type": "code",
   "execution_count": 64,
   "id": "6ccfce68",
   "metadata": {},
   "outputs": [],
   "source": [
    "simulator=Aer.get_backend('qasm_simulator')"
   ]
  },
  {
   "cell_type": "code",
   "execution_count": 65,
   "id": "43c3bf96",
   "metadata": {},
   "outputs": [],
   "source": [
    "result=execute(qcH,backend=simulator).result()"
   ]
  },
  {
   "cell_type": "code",
   "execution_count": 66,
   "id": "47c5bd48",
   "metadata": {},
   "outputs": [
    {
     "data": {
      "image/png": "[encoded data removed]",
      "text/plain": [
       "<Figure size 504x360 with 1 Axes>"
      ]
     },
     "execution_count": 66,
     "metadata": {},
     "output_type": "execute_result"
    }
   ],
   "source": [
    "plot_histogram(result.get_counts(qcH))"
   ]
  },
  {
   "cell_type": "code",
   "execution_count": 67,
   "id": "44f4ae13",
   "metadata": {},
   "outputs": [
    {
     "name": "stderr",
     "output_type": "stream",
     "text": [
      "ibmqfactory.load_account:WARNING:2021-09-28 19:53:00,013: Credentials are already in use. The existing account in the session will be replaced.\n"
     ]
    },
    {
     "data": {
      "text/plain": [
       "<AccountProvider for IBMQ(hub='ibm-q', group='open', project='main')>"
      ]
     },
     "execution_count": 67,
     "metadata": {},
     "output_type": "execute_result"
    }
   ],
   "source": [
    "IBMQ.load_account()"
   ]
  },
  {
   "cell_type": "code",
   "execution_count": 68,
   "id": "ce4c9858",
   "metadata": {},
   "outputs": [],
   "source": [
    "provider=IBMQ.get_provider('ibm-q')"
   ]
  },
  {
   "cell_type": "code",
   "execution_count": 73,
   "id": "5860374f",
   "metadata": {},
   "outputs": [],
   "source": [
    "qcomp=provider.get_backend('ibmq_quito')"
   ]
  },
  {
   "cell_type": "code",
   "execution_count": 71,
   "id": "2976fc10",
   "metadata": {},
   "outputs": [],
   "source": [
    "job=execute(qcH,backend=qcomp)"
   ]
  },
  {
   "cell_type": "code",
   "execution_count": 74,
   "id": "ed069ec5",
   "metadata": {},
   "outputs": [
    {
     "name": "stdout",
     "output_type": "stream",
     "text": [
      "Job Status: job has successfully run\n"
     ]
    }
   ],
   "source": [
    "job_monitor(job)"
   ]
  },
  {
   "cell_type": "code",
   "execution_count": 75,
   "id": "5a166ce0",
   "metadata": {},
   "outputs": [],
   "source": [
    "result=job.result()"
   ]
  },
  {
   "cell_type": "code",
   "execution_count": 76,
   "id": "fcf33bcd",
   "metadata": {},
   "outputs": [
    {
     "data": {
      "image/png": "[encoded data removed]",
      "text/plain": [
       "<Figure size 504x360 with 1 Axes>"
      ]
     },
     "execution_count": 76,
     "metadata": {},
     "output_type": "execute_result"
    }
   ],
   "source": [
    "plot_histogram(result.get_counts(qcH))"
   ]
  }
 ],
 "metadata": {
  "kernelspec": {
   "display_name": "Python 3",
   "language": "python",
   "name": "python3"
  },
  "language_info": {
   "codemirror_mode": {
    "name": "ipython",
    "version": 3
   },
   "file_extension": ".py",
   "mimetype": "text/x-python",
   "name": "python",
   "nbconvert_exporter": "python",
   "pygments_lexer": "ipython3",
   "version": "3.8.8"
  }
 },
 "nbformat": 4,
 "nbformat_minor": 5
}
