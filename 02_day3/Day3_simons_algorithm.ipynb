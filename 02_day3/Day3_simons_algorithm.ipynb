{
 "cells": [
  {
   "cell_type": "code",
   "execution_count": 244,
   "id": "93e52aa9",
   "metadata": {},
   "outputs": [],
   "source": [
    "#Bernstein-Vairani Algorithm"
   ]
  },
  {
   "cell_type": "code",
   "execution_count": 245,
   "id": "37d2ab9b",
   "metadata": {},
   "outputs": [],
   "source": [
    "from qiskit import *"
   ]
  },
  {
   "cell_type": "code",
   "execution_count": 246,
   "id": "47344add",
   "metadata": {},
   "outputs": [],
   "source": [
    "from qiskit.tools.visualization import plot_histogram"
   ]
  },
  {
   "cell_type": "code",
   "execution_count": 247,
   "id": "4da2cf6b",
   "metadata": {},
   "outputs": [],
   "source": [
    "secnum='1101'"
   ]
  },
  {
   "cell_type": "code",
   "execution_count": 248,
   "id": "63bbbc73",
   "metadata": {},
   "outputs": [],
   "source": [
    "qr=QuantumRegister(len(secnum)+1)"
   ]
  },
  {
   "cell_type": "code",
   "execution_count": 249,
   "id": "54c7ca32",
   "metadata": {},
   "outputs": [],
   "source": [
    "cr=ClassicalRegister(len(secnum))"
   ]
  },
  {
   "cell_type": "code",
   "execution_count": 250,
   "id": "915865c6",
   "metadata": {},
   "outputs": [],
   "source": [
    "qc=QuantumCircuit(qr,cr)"
   ]
  },
  {
   "cell_type": "code",
   "execution_count": 251,
   "id": "8560ac74",
   "metadata": {},
   "outputs": [
    {
     "data": {
      "text/html": [
       "<pre style=\"word-wrap: normal;white-space: pre;background: #fff0;line-height: 1.1;font-family: &quot;Courier New&quot;,Courier,monospace\">        \n",
       "q181_0: \n",
       "        \n",
       "q181_1: \n",
       "        \n",
       "q181_2: \n",
       "        \n",
       "q181_3: \n",
       "        \n",
       "q181_4: \n",
       "        \n",
       " c13: 4/\n",
       "        </pre>"
      ],
      "text/plain": [
       "        \n",
       "q181_0: \n",
       "        \n",
       "q181_1: \n",
       "        \n",
       "q181_2: \n",
       "        \n",
       "q181_3: \n",
       "        \n",
       "q181_4: \n",
       "        \n",
       " c13: 4/\n",
       "        "
      ]
     },
     "execution_count": 251,
     "metadata": {},
     "output_type": "execute_result"
    }
   ],
   "source": [
    "qc.draw()"
   ]
  },
  {
   "cell_type": "code",
   "execution_count": 252,
   "id": "f40487cf",
   "metadata": {},
   "outputs": [
    {
     "data": {
      "text/plain": [
       "<qiskit.circuit.instructionset.InstructionSet at 0x21f5ba4f310>"
      ]
     },
     "execution_count": 252,
     "metadata": {},
     "output_type": "execute_result"
    }
   ],
   "source": [
    "qc.h(range(len(secnum)))"
   ]
  },
  {
   "cell_type": "code",
   "execution_count": 253,
   "id": "109cd7a3",
   "metadata": {},
   "outputs": [
    {
     "data": {
      "text/plain": [
       "<qiskit.circuit.instructionset.InstructionSet at 0x21f5ba4f520>"
      ]
     },
     "execution_count": 253,
     "metadata": {},
     "output_type": "execute_result"
    }
   ],
   "source": [
    "qc.x(len(secnum))"
   ]
  },
  {
   "cell_type": "code",
   "execution_count": 254,
   "id": "e9d36bc9",
   "metadata": {},
   "outputs": [
    {
     "data": {
      "text/plain": [
       "<qiskit.circuit.instructionset.InstructionSet at 0x21f5ba4f7f0>"
      ]
     },
     "execution_count": 254,
     "metadata": {},
     "output_type": "execute_result"
    }
   ],
   "source": [
    "qc.h(len(secnum))"
   ]
  },
  {
   "cell_type": "code",
   "execution_count": 255,
   "id": "e3cd7784",
   "metadata": {},
   "outputs": [
    {
     "data": {
      "text/plain": [
       "<qiskit.circuit.instructionset.InstructionSet at 0x21f5ba4f790>"
      ]
     },
     "execution_count": 255,
     "metadata": {},
     "output_type": "execute_result"
    }
   ],
   "source": [
    "qc.barrier()"
   ]
  },
  {
   "cell_type": "code",
   "execution_count": 256,
   "id": "261d0997",
   "metadata": {},
   "outputs": [
    {
     "data": {
      "text/html": [
       "<pre style=\"word-wrap: normal;white-space: pre;background: #fff0;line-height: 1.1;font-family: &quot;Courier New&quot;,Courier,monospace\">        ┌───┐      ░ \n",
       "q181_0: ┤ H ├──────░─\n",
       "        ├───┤      ░ \n",
       "q181_1: ┤ H ├──────░─\n",
       "        ├───┤      ░ \n",
       "q181_2: ┤ H ├──────░─\n",
       "        ├───┤      ░ \n",
       "q181_3: ┤ H ├──────░─\n",
       "        ├───┤┌───┐ ░ \n",
       "q181_4: ┤ X ├┤ H ├─░─\n",
       "        └───┘└───┘ ░ \n",
       " c13: 4/═════════════\n",
       "                     </pre>"
      ],
      "text/plain": [
       "        ┌───┐      ░ \n",
       "q181_0: ┤ H ├──────░─\n",
       "        ├───┤      ░ \n",
       "q181_1: ┤ H ├──────░─\n",
       "        ├───┤      ░ \n",
       "q181_2: ┤ H ├──────░─\n",
       "        ├───┤      ░ \n",
       "q181_3: ┤ H ├──────░─\n",
       "        ├───┤┌───┐ ░ \n",
       "q181_4: ┤ X ├┤ H ├─░─\n",
       "        └───┘└───┘ ░ \n",
       " c13: 4/═════════════\n",
       "                     "
      ]
     },
     "execution_count": 256,
     "metadata": {},
     "output_type": "execute_result"
    }
   ],
   "source": [
    "qc.draw()"
   ]
  },
  {
   "cell_type": "code",
   "execution_count": 257,
   "id": "19af53d7",
   "metadata": {},
   "outputs": [],
   "source": [
    "for ii, yesno in enumerate(reversed(secnum)):\n",
    "    if yesno == '1':\n",
    "        qc.cx(ii,len(secnum))"
   ]
  },
  {
   "cell_type": "code",
   "execution_count": 258,
   "id": "4aec02c7",
   "metadata": {},
   "outputs": [
    {
     "data": {
      "text/html": [
       "<pre style=\"word-wrap: normal;white-space: pre;background: #fff0;line-height: 1.1;font-family: &quot;Courier New&quot;,Courier,monospace\">        ┌───┐      ░                \n",
       "q181_0: ┤ H ├──────░───■────────────\n",
       "        ├───┤      ░   │            \n",
       "q181_1: ┤ H ├──────░───┼────────────\n",
       "        ├───┤      ░   │            \n",
       "q181_2: ┤ H ├──────░───┼────■───────\n",
       "        ├───┤      ░   │    │       \n",
       "q181_3: ┤ H ├──────░───┼────┼────■──\n",
       "        ├───┤┌───┐ ░ ┌─┴─┐┌─┴─┐┌─┴─┐\n",
       "q181_4: ┤ X ├┤ H ├─░─┤ X ├┤ X ├┤ X ├\n",
       "        └───┘└───┘ ░ └───┘└───┘└───┘\n",
       " c13: 4/════════════════════════════\n",
       "                                    </pre>"
      ],
      "text/plain": [
       "        ┌───┐      ░                \n",
       "q181_0: ┤ H ├──────░───■────────────\n",
       "        ├───┤      ░   │            \n",
       "q181_1: ┤ H ├──────░───┼────────────\n",
       "        ├───┤      ░   │            \n",
       "q181_2: ┤ H ├──────░───┼────■───────\n",
       "        ├───┤      ░   │    │       \n",
       "q181_3: ┤ H ├──────░───┼────┼────■──\n",
       "        ├───┤┌───┐ ░ ┌─┴─┐┌─┴─┐┌─┴─┐\n",
       "q181_4: ┤ X ├┤ H ├─░─┤ X ├┤ X ├┤ X ├\n",
       "        └───┘└───┘ ░ └───┘└───┘└───┘\n",
       " c13: 4/════════════════════════════\n",
       "                                    "
      ]
     },
     "execution_count": 258,
     "metadata": {},
     "output_type": "execute_result"
    }
   ],
   "source": [
    "qc.draw()"
   ]
  },
  {
   "cell_type": "code",
   "execution_count": 259,
   "id": "c33653c5",
   "metadata": {},
   "outputs": [
    {
     "data": {
      "text/plain": [
       "<qiskit.circuit.instructionset.InstructionSet at 0x21f59b442b0>"
      ]
     },
     "execution_count": 259,
     "metadata": {},
     "output_type": "execute_result"
    }
   ],
   "source": [
    "qc.barrier()"
   ]
  },
  {
   "cell_type": "code",
   "execution_count": 260,
   "id": "36e1e673",
   "metadata": {},
   "outputs": [
    {
     "data": {
      "text/plain": [
       "<qiskit.circuit.instructionset.InstructionSet at 0x21f5ba6c280>"
      ]
     },
     "execution_count": 260,
     "metadata": {},
     "output_type": "execute_result"
    }
   ],
   "source": [
    "qc.h(range(len(secnum)))"
   ]
  },
  {
   "cell_type": "code",
   "execution_count": 261,
   "id": "8300b5da",
   "metadata": {},
   "outputs": [
    {
     "data": {
      "text/plain": [
       "<qiskit.circuit.instructionset.InstructionSet at 0x21f5ba6ca60>"
      ]
     },
     "execution_count": 261,
     "metadata": {},
     "output_type": "execute_result"
    }
   ],
   "source": [
    "qc.barrier()"
   ]
  },
  {
   "cell_type": "code",
   "execution_count": 262,
   "id": "91ec5bbd",
   "metadata": {},
   "outputs": [
    {
     "data": {
      "text/plain": [
       "<qiskit.circuit.instructionset.InstructionSet at 0x21f5ba4ad90>"
      ]
     },
     "execution_count": 262,
     "metadata": {},
     "output_type": "execute_result"
    }
   ],
   "source": [
    "qc.measure(range(len(secnum)),range(len(secnum)))"
   ]
  },
  {
   "cell_type": "code",
   "execution_count": 263,
   "id": "4292913f",
   "metadata": {},
   "outputs": [
    {
     "data": {
      "text/html": [
       "<pre style=\"word-wrap: normal;white-space: pre;background: #fff0;line-height: 1.1;font-family: &quot;Courier New&quot;,Courier,monospace\">        ┌───┐      ░                 ░ ┌───┐ ░ ┌─┐         \n",
       "q181_0: ┤ H ├──────░───■─────────────░─┤ H ├─░─┤M├─────────\n",
       "        ├───┤      ░   │             ░ ├───┤ ░ └╥┘┌─┐      \n",
       "q181_1: ┤ H ├──────░───┼─────────────░─┤ H ├─░──╫─┤M├──────\n",
       "        ├───┤      ░   │             ░ ├───┤ ░  ║ └╥┘┌─┐   \n",
       "q181_2: ┤ H ├──────░───┼────■────────░─┤ H ├─░──╫──╫─┤M├───\n",
       "        ├───┤      ░   │    │        ░ ├───┤ ░  ║  ║ └╥┘┌─┐\n",
       "q181_3: ┤ H ├──────░───┼────┼────■───░─┤ H ├─░──╫──╫──╫─┤M├\n",
       "        ├───┤┌───┐ ░ ┌─┴─┐┌─┴─┐┌─┴─┐ ░ └───┘ ░  ║  ║  ║ └╥┘\n",
       "q181_4: ┤ X ├┤ H ├─░─┤ X ├┤ X ├┤ X ├─░───────░──╫──╫──╫──╫─\n",
       "        └───┘└───┘ ░ └───┘└───┘└───┘ ░       ░  ║  ║  ║  ║ \n",
       " c13: 4/════════════════════════════════════════╩══╩══╩══╩═\n",
       "                                                0  1  2  3 </pre>"
      ],
      "text/plain": [
       "        ┌───┐      ░                 ░ ┌───┐ ░ ┌─┐         \n",
       "q181_0: ┤ H ├──────░───■─────────────░─┤ H ├─░─┤M├─────────\n",
       "        ├───┤      ░   │             ░ ├───┤ ░ └╥┘┌─┐      \n",
       "q181_1: ┤ H ├──────░───┼─────────────░─┤ H ├─░──╫─┤M├──────\n",
       "        ├───┤      ░   │             ░ ├───┤ ░  ║ └╥┘┌─┐   \n",
       "q181_2: ┤ H ├──────░───┼────■────────░─┤ H ├─░──╫──╫─┤M├───\n",
       "        ├───┤      ░   │    │        ░ ├───┤ ░  ║  ║ └╥┘┌─┐\n",
       "q181_3: ┤ H ├──────░───┼────┼────■───░─┤ H ├─░──╫──╫──╫─┤M├\n",
       "        ├───┤┌───┐ ░ ┌─┴─┐┌─┴─┐┌─┴─┐ ░ └───┘ ░  ║  ║  ║ └╥┘\n",
       "q181_4: ┤ X ├┤ H ├─░─┤ X ├┤ X ├┤ X ├─░───────░──╫──╫──╫──╫─\n",
       "        └───┘└───┘ ░ └───┘└───┘└───┘ ░       ░  ║  ║  ║  ║ \n",
       " c13: 4/════════════════════════════════════════╩══╩══╩══╩═\n",
       "                                                0  1  2  3 "
      ]
     },
     "execution_count": 263,
     "metadata": {},
     "output_type": "execute_result"
    }
   ],
   "source": [
    "qc.draw()"
   ]
  },
  {
   "cell_type": "code",
   "execution_count": 264,
   "id": "490d7a0e",
   "metadata": {},
   "outputs": [],
   "source": [
    "simulator=BasicAer.get_backend('qasm_simulator')"
   ]
  },
  {
   "cell_type": "code",
   "execution_count": 265,
   "id": "fb6a5633",
   "metadata": {},
   "outputs": [],
   "source": [
    "result=execute(qc,backend=simulator,shots=1).result()"
   ]
  },
  {
   "cell_type": "code",
   "execution_count": 266,
   "id": "dd7e3eab",
   "metadata": {},
   "outputs": [],
   "source": [
    "counts=result.get_counts()"
   ]
  },
  {
   "cell_type": "code",
   "execution_count": 267,
   "id": "65f74b7f",
   "metadata": {},
   "outputs": [
    {
     "name": "stdout",
     "output_type": "stream",
     "text": [
      "{'1101': 1}\n"
     ]
    }
   ],
   "source": [
    "print(counts)"
   ]
  },
  {
   "cell_type": "code",
   "execution_count": 268,
   "id": "642f131c",
   "metadata": {},
   "outputs": [
    {
     "name": "stderr",
     "output_type": "stream",
     "text": [
      "configrc.store_credentials:WARNING:2021-09-30 18:23:39,774: Credentials already present. Set overwrite=True to overwrite.\n"
     ]
    }
   ],
   "source": [
    "IBMQ.save_account('6b8f6bc643bbe325fc725caa9e48e2204cde894b951d7284e117705f946cc125dd4679a833b4317e9381149116d89402ff55e67388ca19af6454c6562bb93731')"
   ]
  },
  {
   "cell_type": "code",
   "execution_count": 269,
   "id": "81dfbf04",
   "metadata": {},
   "outputs": [
    {
     "name": "stderr",
     "output_type": "stream",
     "text": [
      "ibmqfactory.load_account:WARNING:2021-09-30 18:23:41,009: Credentials are already in use. The existing account in the session will be replaced.\n"
     ]
    },
    {
     "data": {
      "text/plain": [
       "<AccountProvider for IBMQ(hub='ibm-q', group='open', project='main')>"
      ]
     },
     "execution_count": 269,
     "metadata": {},
     "output_type": "execute_result"
    }
   ],
   "source": [
    "IBMQ.load_account()"
   ]
  },
  {
   "cell_type": "code",
   "execution_count": 270,
   "id": "c833e9b6",
   "metadata": {},
   "outputs": [],
   "source": [
    "provider=IBMQ.get_provider('ibm-q')"
   ]
  },
  {
   "cell_type": "code",
   "execution_count": 276,
   "id": "1225567f",
   "metadata": {},
   "outputs": [],
   "source": [
    "qcomp=provider.get_backend('ibmq_belem')"
   ]
  },
  {
   "cell_type": "code",
   "execution_count": 277,
   "id": "ebd07bb7",
   "metadata": {},
   "outputs": [],
   "source": [
    "job=execute(qc,backend=qcomp)"
   ]
  },
  {
   "cell_type": "code",
   "execution_count": 278,
   "id": "9c74a3db",
   "metadata": {},
   "outputs": [],
   "source": [
    "from qiskit.tools.monitor import job_monitor"
   ]
  },
  {
   "cell_type": "code",
   "execution_count": 279,
   "id": "30a654b7",
   "metadata": {},
   "outputs": [
    {
     "name": "stdout",
     "output_type": "stream",
     "text": [
      "Job Status: job has successfully run\n"
     ]
    }
   ],
   "source": [
    "job_monitor(job)"
   ]
  },
  {
   "cell_type": "code",
   "execution_count": 280,
   "id": "c9a753fe",
   "metadata": {},
   "outputs": [],
   "source": [
    "result=job.result()"
   ]
  },
  {
   "cell_type": "code",
   "execution_count": 281,
   "id": "74e9422e",
   "metadata": {},
   "outputs": [],
   "source": [
    "counts=result.get_counts()"
   ]
  },
  {
   "cell_type": "code",
   "execution_count": 282,
   "id": "a7c631ae",
   "metadata": {
    "scrolled": false
   },
   "outputs": [
    {
     "name": "stdout",
     "output_type": "stream",
     "text": [
      "{'0000': 48, '0001': 37, '0010': 8, '0011': 5, '0100': 24, '0101': 84, '0110': 8, '0111': 21, '1000': 95, '1001': 102, '1010': 19, '1011': 21, '1100': 59, '1101': 426, '1110': 30, '1111': 37}\n"
     ]
    }
   ],
   "source": [
    "print(counts)"
   ]
  },
  {
   "cell_type": "code",
   "execution_count": null,
   "id": "2b8b6c32",
   "metadata": {},
   "outputs": [],
   "source": [
    "#simons algorithm"
   ]
  },
  {
   "cell_type": "code",
   "execution_count": 364,
   "id": "4bb9d9c5",
   "metadata": {},
   "outputs": [],
   "source": [
    "from qiskit import *"
   ]
  },
  {
   "cell_type": "code",
   "execution_count": 365,
   "id": "e7cb7715",
   "metadata": {},
   "outputs": [],
   "source": [
    "b='110'"
   ]
  },
  {
   "cell_type": "code",
   "execution_count": 366,
   "id": "7f151b43",
   "metadata": {},
   "outputs": [],
   "source": [
    "n=len(b)"
   ]
  },
  {
   "cell_type": "code",
   "execution_count": 367,
   "id": "e30f7138",
   "metadata": {},
   "outputs": [],
   "source": [
    "qr=QuantumRegister(2*n)"
   ]
  },
  {
   "cell_type": "code",
   "execution_count": 368,
   "id": "a0f52c89",
   "metadata": {},
   "outputs": [],
   "source": [
    "cr=ClassicalRegister(n)"
   ]
  },
  {
   "cell_type": "code",
   "execution_count": 369,
   "id": "e896296e",
   "metadata": {},
   "outputs": [],
   "source": [
    "qc=QuantumCircuit(qr,cr)"
   ]
  },
  {
   "cell_type": "code",
   "execution_count": 370,
   "id": "4b91271a",
   "metadata": {},
   "outputs": [
    {
     "data": {
      "text/html": [
       "<pre style=\"word-wrap: normal;white-space: pre;background: #fff0;line-height: 1.1;font-family: &quot;Courier New&quot;,Courier,monospace\">        \n",
       "q270_0: \n",
       "        \n",
       "q270_1: \n",
       "        \n",
       "q270_2: \n",
       "        \n",
       "q270_3: \n",
       "        \n",
       "q270_4: \n",
       "        \n",
       "q270_5: \n",
       "        \n",
       " c19: 3/\n",
       "        </pre>"
      ],
      "text/plain": [
       "        \n",
       "q270_0: \n",
       "        \n",
       "q270_1: \n",
       "        \n",
       "q270_2: \n",
       "        \n",
       "q270_3: \n",
       "        \n",
       "q270_4: \n",
       "        \n",
       "q270_5: \n",
       "        \n",
       " c19: 3/\n",
       "        "
      ]
     },
     "execution_count": 370,
     "metadata": {},
     "output_type": "execute_result"
    }
   ],
   "source": [
    "qc.draw()"
   ]
  },
  {
   "cell_type": "code",
   "execution_count": 371,
   "id": "d2877c64",
   "metadata": {},
   "outputs": [
    {
     "data": {
      "text/plain": [
       "<qiskit.circuit.instructionset.InstructionSet at 0x21f5bb5d4f0>"
      ]
     },
     "execution_count": 371,
     "metadata": {},
     "output_type": "execute_result"
    }
   ],
   "source": [
    "qc.barrier()"
   ]
  },
  {
   "cell_type": "code",
   "execution_count": 372,
   "id": "5aeeee79",
   "metadata": {},
   "outputs": [
    {
     "data": {
      "text/html": [
       "<pre style=\"word-wrap: normal;white-space: pre;background: #fff0;line-height: 1.1;font-family: &quot;Courier New&quot;,Courier,monospace\">         ░ \n",
       "q270_0: ─░─\n",
       "         ░ \n",
       "q270_1: ─░─\n",
       "         ░ \n",
       "q270_2: ─░─\n",
       "         ░ \n",
       "q270_3: ─░─\n",
       "         ░ \n",
       "q270_4: ─░─\n",
       "         ░ \n",
       "q270_5: ─░─\n",
       "         ░ \n",
       " c19: 3/═══\n",
       "           </pre>"
      ],
      "text/plain": [
       "         ░ \n",
       "q270_0: ─░─\n",
       "         ░ \n",
       "q270_1: ─░─\n",
       "         ░ \n",
       "q270_2: ─░─\n",
       "         ░ \n",
       "q270_3: ─░─\n",
       "         ░ \n",
       "q270_4: ─░─\n",
       "         ░ \n",
       "q270_5: ─░─\n",
       "         ░ \n",
       " c19: 3/═══\n",
       "           "
      ]
     },
     "execution_count": 372,
     "metadata": {},
     "output_type": "execute_result"
    }
   ],
   "source": [
    "qc.draw()"
   ]
  },
  {
   "cell_type": "code",
   "execution_count": 373,
   "id": "3782596a",
   "metadata": {},
   "outputs": [
    {
     "data": {
      "text/plain": [
       "<qiskit.circuit.instructionset.InstructionSet at 0x21f5bb8a370>"
      ]
     },
     "execution_count": 373,
     "metadata": {},
     "output_type": "execute_result"
    }
   ],
   "source": [
    "qc.cx(qr[0],qr[3])\n",
    "qc.cx(qr[1],qr[4])\n",
    "qc.cx(qr[2],qr[5])\n",
    "qc.cx(qr[1],qr[4])\n",
    "qc.cx(qr[1],qr[5])"
   ]
  },
  {
   "cell_type": "code",
   "execution_count": 374,
   "id": "e688df38",
   "metadata": {},
   "outputs": [
    {
     "data": {
      "text/plain": [
       "<qiskit.circuit.instructionset.InstructionSet at 0x21f5bb5b760>"
      ]
     },
     "execution_count": 374,
     "metadata": {},
     "output_type": "execute_result"
    }
   ],
   "source": [
    "qc.barrier()"
   ]
  },
  {
   "cell_type": "code",
   "execution_count": 375,
   "id": "ac00d382",
   "metadata": {},
   "outputs": [
    {
     "data": {
      "text/html": [
       "<pre style=\"word-wrap: normal;white-space: pre;background: #fff0;line-height: 1.1;font-family: &quot;Courier New&quot;,Courier,monospace\">         ░                           ░ \n",
       "q270_0: ─░───■───────────────────────░─\n",
       "         ░   │                       ░ \n",
       "q270_1: ─░───┼────■─────────■────■───░─\n",
       "         ░   │    │         │    │   ░ \n",
       "q270_2: ─░───┼────┼────■────┼────┼───░─\n",
       "         ░ ┌─┴─┐  │    │    │    │   ░ \n",
       "q270_3: ─░─┤ X ├──┼────┼────┼────┼───░─\n",
       "         ░ └───┘┌─┴─┐  │  ┌─┴─┐  │   ░ \n",
       "q270_4: ─░──────┤ X ├──┼──┤ X ├──┼───░─\n",
       "         ░      └───┘┌─┴─┐└───┘┌─┴─┐ ░ \n",
       "q270_5: ─░───────────┤ X ├─────┤ X ├─░─\n",
       "         ░           └───┘     └───┘ ░ \n",
       " c19: 3/═══════════════════════════════\n",
       "                                       </pre>"
      ],
      "text/plain": [
       "         ░                           ░ \n",
       "q270_0: ─░───■───────────────────────░─\n",
       "         ░   │                       ░ \n",
       "q270_1: ─░───┼────■─────────■────■───░─\n",
       "         ░   │    │         │    │   ░ \n",
       "q270_2: ─░───┼────┼────■────┼────┼───░─\n",
       "         ░ ┌─┴─┐  │    │    │    │   ░ \n",
       "q270_3: ─░─┤ X ├──┼────┼────┼────┼───░─\n",
       "         ░ └───┘┌─┴─┐  │  ┌─┴─┐  │   ░ \n",
       "q270_4: ─░──────┤ X ├──┼──┤ X ├──┼───░─\n",
       "         ░      └───┘┌─┴─┐└───┘┌─┴─┐ ░ \n",
       "q270_5: ─░───────────┤ X ├─────┤ X ├─░─\n",
       "         ░           └───┘     └───┘ ░ \n",
       " c19: 3/═══════════════════════════════\n",
       "                                       "
      ]
     },
     "execution_count": 375,
     "metadata": {},
     "output_type": "execute_result"
    }
   ],
   "source": [
    "qc.draw()"
   ]
  },
  {
   "cell_type": "code",
   "execution_count": 376,
   "id": "5079a996",
   "metadata": {},
   "outputs": [
    {
     "data": {
      "text/plain": [
       "<qiskit.circuit.instructionset.InstructionSet at 0x21f5bb5b5b0>"
      ]
     },
     "execution_count": 376,
     "metadata": {},
     "output_type": "execute_result"
    }
   ],
   "source": [
    "qc.barrier()"
   ]
  },
  {
   "cell_type": "code",
   "execution_count": 377,
   "id": "7e19d711",
   "metadata": {},
   "outputs": [
    {
     "data": {
      "text/plain": [
       "<qiskit.circuit.instructionset.InstructionSet at 0x21f5bb5b100>"
      ]
     },
     "execution_count": 377,
     "metadata": {},
     "output_type": "execute_result"
    }
   ],
   "source": [
    "qc.h(range(n))"
   ]
  },
  {
   "cell_type": "code",
   "execution_count": 378,
   "id": "fe041f30",
   "metadata": {},
   "outputs": [
    {
     "data": {
      "text/html": [
       "<pre style=\"word-wrap: normal;white-space: pre;background: #fff0;line-height: 1.1;font-family: &quot;Courier New&quot;,Courier,monospace\">         ░                           ░  ░ ┌───┐\n",
       "q270_0: ─░───■───────────────────────░──░─┤ H ├\n",
       "         ░   │                       ░  ░ ├───┤\n",
       "q270_1: ─░───┼────■─────────■────■───░──░─┤ H ├\n",
       "         ░   │    │         │    │   ░  ░ ├───┤\n",
       "q270_2: ─░───┼────┼────■────┼────┼───░──░─┤ H ├\n",
       "         ░ ┌─┴─┐  │    │    │    │   ░  ░ └───┘\n",
       "q270_3: ─░─┤ X ├──┼────┼────┼────┼───░──░──────\n",
       "         ░ └───┘┌─┴─┐  │  ┌─┴─┐  │   ░  ░      \n",
       "q270_4: ─░──────┤ X ├──┼──┤ X ├──┼───░──░──────\n",
       "         ░      └───┘┌─┴─┐└───┘┌─┴─┐ ░  ░      \n",
       "q270_5: ─░───────────┤ X ├─────┤ X ├─░──░──────\n",
       "         ░           └───┘     └───┘ ░  ░      \n",
       " c19: 3/═══════════════════════════════════════\n",
       "                                               </pre>"
      ],
      "text/plain": [
       "         ░                           ░  ░ ┌───┐\n",
       "q270_0: ─░───■───────────────────────░──░─┤ H ├\n",
       "         ░   │                       ░  ░ ├───┤\n",
       "q270_1: ─░───┼────■─────────■────■───░──░─┤ H ├\n",
       "         ░   │    │         │    │   ░  ░ ├───┤\n",
       "q270_2: ─░───┼────┼────■────┼────┼───░──░─┤ H ├\n",
       "         ░ ┌─┴─┐  │    │    │    │   ░  ░ └───┘\n",
       "q270_3: ─░─┤ X ├──┼────┼────┼────┼───░──░──────\n",
       "         ░ └───┘┌─┴─┐  │  ┌─┴─┐  │   ░  ░      \n",
       "q270_4: ─░──────┤ X ├──┼──┤ X ├──┼───░──░──────\n",
       "         ░      └───┘┌─┴─┐└───┘┌─┴─┐ ░  ░      \n",
       "q270_5: ─░───────────┤ X ├─────┤ X ├─░──░──────\n",
       "         ░           └───┘     └───┘ ░  ░      \n",
       " c19: 3/═══════════════════════════════════════\n",
       "                                               "
      ]
     },
     "execution_count": 378,
     "metadata": {},
     "output_type": "execute_result"
    }
   ],
   "source": [
    "qc.draw()"
   ]
  },
  {
   "cell_type": "code",
   "execution_count": 379,
   "id": "eb563068",
   "metadata": {},
   "outputs": [
    {
     "data": {
      "text/plain": [
       "<qiskit.circuit.instructionset.InstructionSet at 0x21f5bb5b2e0>"
      ]
     },
     "execution_count": 379,
     "metadata": {},
     "output_type": "execute_result"
    }
   ],
   "source": [
    "qc.measure(range(n),range(n))"
   ]
  },
  {
   "cell_type": "code",
   "execution_count": 380,
   "id": "83f12df5",
   "metadata": {},
   "outputs": [
    {
     "data": {
      "text/html": [
       "<pre style=\"word-wrap: normal;white-space: pre;background: #fff0;line-height: 1.1;font-family: &quot;Courier New&quot;,Courier,monospace\">         ░                           ░  ░ ┌───┐┌─┐      \n",
       "q270_0: ─░───■───────────────────────░──░─┤ H ├┤M├──────\n",
       "         ░   │                       ░  ░ ├───┤└╥┘┌─┐   \n",
       "q270_1: ─░───┼────■─────────■────■───░──░─┤ H ├─╫─┤M├───\n",
       "         ░   │    │         │    │   ░  ░ ├───┤ ║ └╥┘┌─┐\n",
       "q270_2: ─░───┼────┼────■────┼────┼───░──░─┤ H ├─╫──╫─┤M├\n",
       "         ░ ┌─┴─┐  │    │    │    │   ░  ░ └───┘ ║  ║ └╥┘\n",
       "q270_3: ─░─┤ X ├──┼────┼────┼────┼───░──░───────╫──╫──╫─\n",
       "         ░ └───┘┌─┴─┐  │  ┌─┴─┐  │   ░  ░       ║  ║  ║ \n",
       "q270_4: ─░──────┤ X ├──┼──┤ X ├──┼───░──░───────╫──╫──╫─\n",
       "         ░      └───┘┌─┴─┐└───┘┌─┴─┐ ░  ░       ║  ║  ║ \n",
       "q270_5: ─░───────────┤ X ├─────┤ X ├─░──░───────╫──╫──╫─\n",
       "         ░           └───┘     └───┘ ░  ░       ║  ║  ║ \n",
       " c19: 3/════════════════════════════════════════╩══╩══╩═\n",
       "                                                0  1  2 </pre>"
      ],
      "text/plain": [
       "         ░                           ░  ░ ┌───┐┌─┐      \n",
       "q270_0: ─░───■───────────────────────░──░─┤ H ├┤M├──────\n",
       "         ░   │                       ░  ░ ├───┤└╥┘┌─┐   \n",
       "q270_1: ─░───┼────■─────────■────■───░──░─┤ H ├─╫─┤M├───\n",
       "         ░   │    │         │    │   ░  ░ ├───┤ ║ └╥┘┌─┐\n",
       "q270_2: ─░───┼────┼────■────┼────┼───░──░─┤ H ├─╫──╫─┤M├\n",
       "         ░ ┌─┴─┐  │    │    │    │   ░  ░ └───┘ ║  ║ └╥┘\n",
       "q270_3: ─░─┤ X ├──┼────┼────┼────┼───░──░───────╫──╫──╫─\n",
       "         ░ └───┘┌─┴─┐  │  ┌─┴─┐  │   ░  ░       ║  ║  ║ \n",
       "q270_4: ─░──────┤ X ├──┼──┤ X ├──┼───░──░───────╫──╫──╫─\n",
       "         ░      └───┘┌─┴─┐└───┘┌─┴─┐ ░  ░       ║  ║  ║ \n",
       "q270_5: ─░───────────┤ X ├─────┤ X ├─░──░───────╫──╫──╫─\n",
       "         ░           └───┘     └───┘ ░  ░       ║  ║  ║ \n",
       " c19: 3/════════════════════════════════════════╩══╩══╩═\n",
       "                                                0  1  2 "
      ]
     },
     "execution_count": 380,
     "metadata": {},
     "output_type": "execute_result"
    }
   ],
   "source": [
    "qc.draw()"
   ]
  },
  {
   "cell_type": "code",
   "execution_count": 381,
   "id": "1dd108be",
   "metadata": {},
   "outputs": [],
   "source": [
    "simulator=BasicAer.get_backend('qasm_simulator')"
   ]
  },
  {
   "cell_type": "code",
   "execution_count": 392,
   "id": "4d5c6da5",
   "metadata": {},
   "outputs": [],
   "source": [
    "result=execute(qc,backend=simulator,shots=1024)"
   ]
  },
  {
   "cell_type": "code",
   "execution_count": 393,
   "id": "9c9b9b40",
   "metadata": {},
   "outputs": [],
   "source": [
    "from qiskit.tools.visualization import plot_histogram"
   ]
  },
  {
   "cell_type": "code",
   "execution_count": 398,
   "id": "8b8180a2",
   "metadata": {},
   "outputs": [
    {
     "ename": "AttributeError",
     "evalue": "'BasicAerJob' object has no attribute 'get_counts'",
     "output_type": "error",
     "traceback": [
      "\u001b[1;31m---------------------------------------------------------------------------\u001b[0m",
      "\u001b[1;31mAttributeError\u001b[0m                            Traceback (most recent call last)",
      "\u001b[1;32m<ipython-input-398-7e943466db8d>\u001b[0m in \u001b[0;36m<module>\u001b[1;34m\u001b[0m\n\u001b[1;32m----> 1\u001b[1;33m \u001b[0mplot_histogram\u001b[0m\u001b[1;33m(\u001b[0m\u001b[0mresult\u001b[0m\u001b[1;33m.\u001b[0m\u001b[0mget_counts\u001b[0m\u001b[1;33m(\u001b[0m\u001b[0mqc\u001b[0m\u001b[1;33m)\u001b[0m\u001b[1;33m)\u001b[0m\u001b[1;33m\u001b[0m\u001b[1;33m\u001b[0m\u001b[0m\n\u001b[0m",
      "\u001b[1;31mAttributeError\u001b[0m: 'BasicAerJob' object has no attribute 'get_counts'"
     ]
    }
   ],
   "source": [
    "plot_histogram(result.get_counts(qc))"
   ]
  },
  {
   "cell_type": "code",
   "execution_count": 397,
   "id": "879a224f",
   "metadata": {},
   "outputs": [
    {
     "data": {
      "text/html": [
       "<pre style=\"word-wrap: normal;white-space: pre;background: #fff0;line-height: 1.1;font-family: &quot;Courier New&quot;,Courier,monospace\">         ░                           ░  ░ ┌───┐┌─┐      \n",
       "q270_0: ─░───■───────────────────────░──░─┤ H ├┤M├──────\n",
       "         ░   │                       ░  ░ ├───┤└╥┘┌─┐   \n",
       "q270_1: ─░───┼────■─────────■────■───░──░─┤ H ├─╫─┤M├───\n",
       "         ░   │    │         │    │   ░  ░ ├───┤ ║ └╥┘┌─┐\n",
       "q270_2: ─░───┼────┼────■────┼────┼───░──░─┤ H ├─╫──╫─┤M├\n",
       "         ░ ┌─┴─┐  │    │    │    │   ░  ░ └───┘ ║  ║ └╥┘\n",
       "q270_3: ─░─┤ X ├──┼────┼────┼────┼───░──░───────╫──╫──╫─\n",
       "         ░ └───┘┌─┴─┐  │  ┌─┴─┐  │   ░  ░       ║  ║  ║ \n",
       "q270_4: ─░──────┤ X ├──┼──┤ X ├──┼───░──░───────╫──╫──╫─\n",
       "         ░      └───┘┌─┴─┐└───┘┌─┴─┐ ░  ░       ║  ║  ║ \n",
       "q270_5: ─░───────────┤ X ├─────┤ X ├─░──░───────╫──╫──╫─\n",
       "         ░           └───┘     └───┘ ░  ░       ║  ║  ║ \n",
       " c19: 3/════════════════════════════════════════╩══╩══╩═\n",
       "                                                0  1  2 </pre>"
      ],
      "text/plain": [
       "         ░                           ░  ░ ┌───┐┌─┐      \n",
       "q270_0: ─░───■───────────────────────░──░─┤ H ├┤M├──────\n",
       "         ░   │                       ░  ░ ├───┤└╥┘┌─┐   \n",
       "q270_1: ─░───┼────■─────────■────■───░──░─┤ H ├─╫─┤M├───\n",
       "         ░   │    │         │    │   ░  ░ ├───┤ ║ └╥┘┌─┐\n",
       "q270_2: ─░───┼────┼────■────┼────┼───░──░─┤ H ├─╫──╫─┤M├\n",
       "         ░ ┌─┴─┐  │    │    │    │   ░  ░ └───┘ ║  ║ └╥┘\n",
       "q270_3: ─░─┤ X ├──┼────┼────┼────┼───░──░───────╫──╫──╫─\n",
       "         ░ └───┘┌─┴─┐  │  ┌─┴─┐  │   ░  ░       ║  ║  ║ \n",
       "q270_4: ─░──────┤ X ├──┼──┤ X ├──┼───░──░───────╫──╫──╫─\n",
       "         ░      └───┘┌─┴─┐└───┘┌─┴─┐ ░  ░       ║  ║  ║ \n",
       "q270_5: ─░───────────┤ X ├─────┤ X ├─░──░───────╫──╫──╫─\n",
       "         ░           └───┘     └───┘ ░  ░       ║  ║  ║ \n",
       " c19: 3/════════════════════════════════════════╩══╩══╩═\n",
       "                                                0  1  2 "
      ]
     },
     "execution_count": 397,
     "metadata": {},
     "output_type": "execute_result"
    }
   ],
   "source": [
    "qc.draw()"
   ]
  }
 ],
 "metadata": {
  "kernelspec": {
   "display_name": "Python 3",
   "language": "python",
   "name": "python3"
  },
  "language_info": {
   "codemirror_mode": {
    "name": "ipython",
    "version": 3
   },
   "file_extension": ".py",
   "mimetype": "text/x-python",
   "name": "python",
   "nbconvert_exporter": "python",
   "pygments_lexer": "ipython3",
   "version": "3.8.8"
  }
 },
 "nbformat": 4,
 "nbformat_minor": 5
}
