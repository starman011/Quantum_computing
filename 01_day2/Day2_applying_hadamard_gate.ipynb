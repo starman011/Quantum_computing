{
 "cells": [
  {
   "cell_type": "code",
   "execution_count": 43,
   "id": "045eecda",
   "metadata": {},
   "outputs": [],
   "source": [
    "from qiskit import *"
   ]
  },
  {
   "cell_type": "code",
   "execution_count": 44,
   "id": "d4e169c9",
   "metadata": {},
   "outputs": [],
   "source": [
    "from math import pi"
   ]
  },
  {
   "cell_type": "code",
   "execution_count": 45,
   "id": "180f744c",
   "metadata": {},
   "outputs": [],
   "source": [
    "qr=QuantumRegister(1)"
   ]
  },
  {
   "cell_type": "code",
   "execution_count": 46,
   "id": "db2e2806",
   "metadata": {},
   "outputs": [],
   "source": [
    "cr=ClassicalRegister(1)"
   ]
  },
  {
   "cell_type": "code",
   "execution_count": 47,
   "id": "9509ed07",
   "metadata": {},
   "outputs": [],
   "source": [
    "qc=QuantumCircuit(qr,cr)"
   ]
  },
  {
   "cell_type": "code",
   "execution_count": null,
   "id": "e101bd7d",
   "metadata": {},
   "outputs": [],
   "source": []
  },
  {
   "cell_type": "code",
   "execution_count": 5,
   "id": "e1f45cb0",
   "metadata": {},
   "outputs": [
    {
     "data": {
      "text/html": [
       "<pre style=\"word-wrap: normal;white-space: pre;background: #fff0;line-height: 1.1;font-family: &quot;Courier New&quot;,Courier,monospace\">      \n",
       "q0_0: \n",
       "      \n",
       "c0: 1/\n",
       "      </pre>"
      ],
      "text/plain": [
       "      \n",
       "q0_0: \n",
       "      \n",
       "c0: 1/\n",
       "      "
      ]
     },
     "execution_count": 5,
     "metadata": {},
     "output_type": "execute_result"
    }
   ],
   "source": [
    "qc.draw()"
   ]
  },
  {
   "cell_type": "code",
   "execution_count": 48,
   "id": "a8dcec6d",
   "metadata": {},
   "outputs": [
    {
     "data": {
      "text/plain": [
       "<qiskit.circuit.instructionset.InstructionSet at 0x26676a88d90>"
      ]
     },
     "execution_count": 48,
     "metadata": {},
     "output_type": "execute_result"
    }
   ],
   "source": [
    "qc.x(qr[0])"
   ]
  },
  {
   "cell_type": "code",
   "execution_count": 55,
   "id": "37b66113",
   "metadata": {},
   "outputs": [
    {
     "data": {
      "text/plain": [
       "<qiskit.circuit.instructionset.InstructionSet at 0x26676b67940>"
      ]
     },
     "execution_count": 55,
     "metadata": {},
     "output_type": "execute_result"
    }
   ],
   "source": [
    "qc.u3(0,0,pi,qr[0])"
   ]
  },
  {
   "cell_type": "code",
   "execution_count": 54,
   "id": "5fced0be",
   "metadata": {},
   "outputs": [
    {
     "data": {
      "text/plain": [
       "<qiskit.circuit.instructionset.InstructionSet at 0x26676b67a30>"
      ]
     },
     "execution_count": 54,
     "metadata": {},
     "output_type": "execute_result"
    }
   ],
   "source": [
    "qc.measure(qr,cr)"
   ]
  },
  {
   "cell_type": "code",
   "execution_count": 53,
   "id": "f401ed20",
   "metadata": {},
   "outputs": [
    {
     "data": {
      "text/html": [
       "<pre style=\"word-wrap: normal;white-space: pre;background: #fff0;line-height: 1.1;font-family: &quot;Courier New&quot;,Courier,monospace\">       ┌───┐┌───────────┐\n",
       "q36_0: ┤ X ├┤ U3(0,0,π) ├\n",
       "       └───┘└───────────┘\n",
       " c1: 1/══════════════════\n",
       "                         </pre>"
      ],
      "text/plain": [
       "       ┌───┐┌───────────┐\n",
       "q36_0: ┤ X ├┤ U3(0,0,π) ├\n",
       "       └───┘└───────────┘\n",
       " c1: 1/══════════════════\n",
       "                         "
      ]
     },
     "execution_count": 53,
     "metadata": {},
     "output_type": "execute_result"
    }
   ],
   "source": [
    "qc.draw()"
   ]
  },
  {
   "cell_type": "code",
   "execution_count": 51,
   "id": "0e1166a1",
   "metadata": {},
   "outputs": [],
   "source": [
    "simulator=BasicAer.get_backend('qasm_simulator')"
   ]
  },
  {
   "cell_type": "code",
   "execution_count": 56,
   "id": "5f994768",
   "metadata": {},
   "outputs": [
    {
     "data": {
      "text/plain": [
       "<qiskit.providers.basicaer.basicaerjob.BasicAerJob at 0x26676b67820>"
      ]
     },
     "execution_count": 56,
     "metadata": {},
     "output_type": "execute_result"
    }
   ],
   "source": [
    "execute(qc,backend=simulator)"
   ]
  },
  {
   "cell_type": "code",
   "execution_count": 57,
   "id": "03d01265",
   "metadata": {},
   "outputs": [],
   "source": [
    "result=execute(qc,backend=simulator).result()"
   ]
  },
  {
   "cell_type": "code",
   "execution_count": 58,
   "id": "61867bba",
   "metadata": {},
   "outputs": [],
   "source": [
    "from qiskit.tools.visualization import plot_histogram"
   ]
  },
  {
   "cell_type": "code",
   "execution_count": 59,
   "id": "51f51f00",
   "metadata": {},
   "outputs": [
    {
     "data": {
      "image/png": "[encoded data removed]",
      "text/plain": [
       "<Figure size 504x360 with 1 Axes>"
      ]
     },
     "execution_count": 59,
     "metadata": {},
     "output_type": "execute_result"
    }
   ],
   "source": [
    "plot_histogram(result.get_counts(qc))"
   ]
  },
  {
   "cell_type": "code",
   "execution_count": 60,
   "id": "6f9e94c8",
   "metadata": {},
   "outputs": [
    {
     "name": "stderr",
     "output_type": "stream",
     "text": [
      "ibmqfactory.load_account:WARNING:2021-09-29 17:11:21,220: Credentials are already in use. The existing account in the session will be replaced.\n"
     ]
    },
    {
     "data": {
      "text/plain": [
       "<AccountProvider for IBMQ(hub='ibm-q', group='open', project='main')>"
      ]
     },
     "execution_count": 60,
     "metadata": {},
     "output_type": "execute_result"
    }
   ],
   "source": [
    "IBMQ.load_account()"
   ]
  },
  {
   "cell_type": "code",
   "execution_count": 61,
   "id": "e2129eba",
   "metadata": {},
   "outputs": [],
   "source": [
    "provider=IBMQ.get_provider('ibm-q')"
   ]
  },
  {
   "cell_type": "code",
   "execution_count": 62,
   "id": "f3d1c5ed",
   "metadata": {},
   "outputs": [],
   "source": [
    "qcomp=provider.get_backend('ibmq_armonk')"
   ]
  },
  {
   "cell_type": "code",
   "execution_count": 63,
   "id": "af1234a1",
   "metadata": {},
   "outputs": [],
   "source": [
    "job=execute(qc,backend=qcomp)"
   ]
  },
  {
   "cell_type": "code",
   "execution_count": 64,
   "id": "40af0fef",
   "metadata": {},
   "outputs": [],
   "source": [
    "from qiskit.tools.monitor import job_monitor"
   ]
  },
  {
   "cell_type": "code",
   "execution_count": 65,
   "id": "aabf0082",
   "metadata": {},
   "outputs": [
    {
     "name": "stdout",
     "output_type": "stream",
     "text": [
      "Job Status: job has successfully run\n"
     ]
    }
   ],
   "source": [
    "job_monitor(job)"
   ]
  },
  {
   "cell_type": "code",
   "execution_count": 69,
   "id": "8310994d",
   "metadata": {},
   "outputs": [],
   "source": [
    "result=job.result()"
   ]
  },
  {
   "cell_type": "code",
   "execution_count": 70,
   "id": "5e5263f9",
   "metadata": {},
   "outputs": [
    {
     "data": {
      "image/png": "[encoded data removed]",
      "text/plain": [
       "<Figure size 504x360 with 1 Axes>"
      ]
     },
     "execution_count": 70,
     "metadata": {},
     "output_type": "execute_result"
    }
   ],
   "source": [
    "plot_histogram(result.get_counts(qc))"
   ]
  },
  {
   "cell_type": "code",
   "execution_count": 71,
   "id": "e3126b3e",
   "metadata": {},
   "outputs": [],
   "source": [
    "qrr=QuantumRegister(1)"
   ]
  },
  {
   "cell_type": "code",
   "execution_count": 72,
   "id": "002f086c",
   "metadata": {},
   "outputs": [],
   "source": [
    "crr=ClassicalRegister(1)"
   ]
  },
  {
   "cell_type": "code",
   "execution_count": 74,
   "id": "29b45843",
   "metadata": {},
   "outputs": [],
   "source": [
    "qcc=QuantumCircuit(qrr,crr)"
   ]
  },
  {
   "cell_type": "code",
   "execution_count": 121,
   "id": "014a7609",
   "metadata": {},
   "outputs": [
    {
     "data": {
      "text/plain": [
       "<qiskit.circuit.instructionset.InstructionSet at 0x2667581cf40>"
      ]
     },
     "execution_count": 121,
     "metadata": {},
     "output_type": "execute_result"
    }
   ],
   "source": [
    "qcc.x(qrr[0])\n",
    "qcc.h(qrr[0])\n",
    "qcc.x(qrr[0])\n",
    "qcc.h(qrr[0])"
   ]
  },
  {
   "cell_type": "code",
   "execution_count": null,
   "id": "50d04930",
   "metadata": {},
   "outputs": [],
   "source": []
  },
  {
   "cell_type": "code",
   "execution_count": 122,
   "id": "74ff8a26",
   "metadata": {},
   "outputs": [
    {
     "data": {
      "text/plain": [
       "<qiskit.circuit.instructionset.InstructionSet at 0x26676cba970>"
      ]
     },
     "execution_count": 122,
     "metadata": {},
     "output_type": "execute_result"
    }
   ],
   "source": [
    "qcc.z(qrr[0])"
   ]
  },
  {
   "cell_type": "code",
   "execution_count": 123,
   "id": "a122d466",
   "metadata": {},
   "outputs": [
    {
     "data": {
      "text/html": [
       "<pre style=\"word-wrap: normal;white-space: pre;background: #fff0;line-height: 1.1;font-family: &quot;Courier New&quot;,Courier,monospace\">       ┌───┐┌───┐┌─┐┌───┐┌───┐┌───┐┌───┐┌─┐┌───┐┌───┐┌───┐┌───┐┌─┐┌───┐┌───┐»\n",
       "q86_0: ┤ X ├┤ Z ├┤M├┤ H ├┤ Z ├┤ H ├┤ Z ├┤M├┤ H ├┤ X ├┤ H ├┤ Z ├┤M├┤ X ├┤ H ├»\n",
       "       └───┘└───┘└╥┘└───┘└───┘└───┘└───┘└╥┘└───┘└───┘└───┘└───┘└╥┘└───┘└───┘»\n",
       " c2: 1/═══════════╩══════════════════════╩══════════════════════╩═══════════»\n",
       "                  0                      0                      0           »\n",
       "«       ┌───┐┌───┐┌───┐┌─┐┌───┐┌───┐┌───┐┌───┐┌─┐┌───┐┌───┐┌───┐┌───┐┌───┐┌───┐»\n",
       "«q86_0: ┤ X ├┤ H ├┤ Z ├┤M├┤ X ├┤ Z ├┤ X ├┤ Z ├┤M├┤ X ├┤ Z ├┤ X ├┤ H ├┤ Z ├┤ X ├»\n",
       "«       └───┘└───┘└───┘└╥┘└───┘└───┘└───┘└───┘└╥┘└───┘└───┘└───┘└───┘└───┘└───┘»\n",
       "« c2: 1/════════════════╩══════════════════════╩═══════════════════════════════»\n",
       "«                       0                      0                               »\n",
       "«       ┌───┐┌───┐┌───┐┌───┐┌─┐┌─┐┌───┐┌───┐┌───┐┌───┐┌───┐\n",
       "«q86_0: ┤ H ├┤ X ├┤ H ├┤ Z ├┤M├┤M├┤ X ├┤ H ├┤ X ├┤ H ├┤ Z ├\n",
       "«       └───┘└───┘└───┘└───┘└╥┘└╥┘└───┘└───┘└───┘└───┘└───┘\n",
       "« c2: 1/═════════════════════╩══╩══════════════════════════\n",
       "«                            0  0                          </pre>"
      ],
      "text/plain": [
       "       ┌───┐┌───┐┌─┐┌───┐┌───┐┌───┐┌───┐┌─┐┌───┐┌───┐┌───┐┌───┐┌─┐┌───┐┌───┐»\n",
       "q86_0: ┤ X ├┤ Z ├┤M├┤ H ├┤ Z ├┤ H ├┤ Z ├┤M├┤ H ├┤ X ├┤ H ├┤ Z ├┤M├┤ X ├┤ H ├»\n",
       "       └───┘└───┘└╥┘└───┘└───┘└───┘└───┘└╥┘└───┘└───┘└───┘└───┘└╥┘└───┘└───┘»\n",
       " c2: 1/═══════════╩══════════════════════╩══════════════════════╩═══════════»\n",
       "                  0                      0                      0           »\n",
       "«       ┌───┐┌───┐┌───┐┌─┐┌───┐┌───┐┌───┐┌───┐┌─┐┌───┐┌───┐┌───┐┌───┐┌───┐┌───┐»\n",
       "«q86_0: ┤ X ├┤ H ├┤ Z ├┤M├┤ X ├┤ Z ├┤ X ├┤ Z ├┤M├┤ X ├┤ Z ├┤ X ├┤ H ├┤ Z ├┤ X ├»\n",
       "«       └───┘└───┘└───┘└╥┘└───┘└───┘└───┘└───┘└╥┘└───┘└───┘└───┘└───┘└───┘└───┘»\n",
       "« c2: 1/════════════════╩══════════════════════╩═══════════════════════════════»\n",
       "«                       0                      0                               »\n",
       "«       ┌───┐┌───┐┌───┐┌───┐┌─┐┌─┐┌───┐┌───┐┌───┐┌───┐┌───┐\n",
       "«q86_0: ┤ H ├┤ X ├┤ H ├┤ Z ├┤M├┤M├┤ X ├┤ H ├┤ X ├┤ H ├┤ Z ├\n",
       "«       └───┘└───┘└───┘└───┘└╥┘└╥┘└───┘└───┘└───┘└───┘└───┘\n",
       "« c2: 1/═════════════════════╩══╩══════════════════════════\n",
       "«                            0  0                          "
      ]
     },
     "execution_count": 123,
     "metadata": {},
     "output_type": "execute_result"
    }
   ],
   "source": [
    "qcc.draw()"
   ]
  },
  {
   "cell_type": "code",
   "execution_count": 124,
   "id": "b1080d1f",
   "metadata": {},
   "outputs": [
    {
     "data": {
      "text/plain": [
       "<qiskit.circuit.instructionset.InstructionSet at 0x26676aea040>"
      ]
     },
     "execution_count": 124,
     "metadata": {},
     "output_type": "execute_result"
    }
   ],
   "source": [
    "qcc.measure(qrr,crr)"
   ]
  },
  {
   "cell_type": "code",
   "execution_count": 125,
   "id": "2a108846",
   "metadata": {},
   "outputs": [],
   "source": [
    "simulator=BasicAer.get_backend('qasm_simulator')"
   ]
  },
  {
   "cell_type": "code",
   "execution_count": 126,
   "id": "386b2899",
   "metadata": {},
   "outputs": [],
   "source": [
    "result=execute(qcc,backend=simulator).result()"
   ]
  },
  {
   "cell_type": "code",
   "execution_count": 127,
   "id": "fccb5317",
   "metadata": {},
   "outputs": [
    {
     "data": {
      "image/png": "[encoded data removed]",
      "text/plain": [
       "<Figure size 504x360 with 1 Axes>"
      ]
     },
     "execution_count": 127,
     "metadata": {},
     "output_type": "execute_result"
    }
   ],
   "source": [
    "plot_histogram(result.get_counts(qcc))"
   ]
  },
  {
   "cell_type": "code",
   "execution_count": 128,
   "id": "7566d37f",
   "metadata": {},
   "outputs": [],
   "source": [
    "qr2=QuantumRegister(2)"
   ]
  },
  {
   "cell_type": "code",
   "execution_count": null,
   "id": "eeb4a3ff",
   "metadata": {},
   "outputs": [],
   "source": [
    "#bell state coding"
   ]
  },
  {
   "cell_type": "code",
   "execution_count": 129,
   "id": "d43c9c97",
   "metadata": {},
   "outputs": [],
   "source": [
    "cr2=ClassicalRegister(2)"
   ]
  },
  {
   "cell_type": "code",
   "execution_count": 130,
   "id": "227fd5d3",
   "metadata": {},
   "outputs": [],
   "source": [
    "qc2=QuantumCircuit(qr2,cr2)"
   ]
  },
  {
   "cell_type": "code",
   "execution_count": 158,
   "id": "e2d854a5",
   "metadata": {},
   "outputs": [
    {
     "data": {
      "text/plain": [
       "<qiskit.circuit.instructionset.InstructionSet at 0x26678108e80>"
      ]
     },
     "execution_count": 158,
     "metadata": {},
     "output_type": "execute_result"
    }
   ],
   "source": [
    "#creating /phi+>\n",
    "\n",
    "qc2.h(qr2[0])\n",
    "qc2.x(qr2[1])\n",
    "qc2.cx(qr2[0],qr2[1])"
   ]
  },
  {
   "cell_type": "code",
   "execution_count": 159,
   "id": "7d6937a3",
   "metadata": {},
   "outputs": [
    {
     "data": {
      "text/html": [
       "<pre style=\"word-wrap: normal;white-space: pre;background: #fff0;line-height: 1.1;font-family: &quot;Courier New&quot;,Courier,monospace\">        ┌───┐┌───┐     ┌─┐┌───┐          \n",
       "q176_0: ┤ H ├┤ H ├──■──┤M├┤ H ├───────■──\n",
       "        └───┘└───┘┌─┴─┐└╥┘└┬─┬┘┌───┐┌─┴─┐\n",
       "q176_1: ──────────┤ X ├─╫──┤M├─┤ X ├┤ X ├\n",
       "                  └───┘ ║  └╥┘ └───┘└───┘\n",
       "  c3: 2/════════════════╩═══╩════════════\n",
       "                        0   1            </pre>"
      ],
      "text/plain": [
       "        ┌───┐┌───┐     ┌─┐┌───┐          \n",
       "q176_0: ┤ H ├┤ H ├──■──┤M├┤ H ├───────■──\n",
       "        └───┘└───┘┌─┴─┐└╥┘└┬─┬┘┌───┐┌─┴─┐\n",
       "q176_1: ──────────┤ X ├─╫──┤M├─┤ X ├┤ X ├\n",
       "                  └───┘ ║  └╥┘ └───┘└───┘\n",
       "  c3: 2/════════════════╩═══╩════════════\n",
       "                        0   1            "
      ]
     },
     "execution_count": 159,
     "metadata": {},
     "output_type": "execute_result"
    }
   ],
   "source": [
    "qc2.draw()"
   ]
  },
  {
   "cell_type": "code",
   "execution_count": 134,
   "id": "b8cc96f3",
   "metadata": {},
   "outputs": [
    {
     "data": {
      "text/plain": [
       "<qiskit.circuit.instructionset.InstructionSet at 0x26677f2e1c0>"
      ]
     },
     "execution_count": 134,
     "metadata": {},
     "output_type": "execute_result"
    }
   ],
   "source": [
    "qc2.measure(qr2,cr2)"
   ]
  },
  {
   "cell_type": "code",
   "execution_count": 160,
   "id": "91b141bf",
   "metadata": {},
   "outputs": [
    {
     "data": {
      "text/html": [
       "<pre style=\"word-wrap: normal;white-space: pre;background: #fff0;line-height: 1.1;font-family: &quot;Courier New&quot;,Courier,monospace\">        ┌───┐┌───┐     ┌─┐┌───┐          \n",
       "q176_0: ┤ H ├┤ H ├──■──┤M├┤ H ├───────■──\n",
       "        └───┘└───┘┌─┴─┐└╥┘└┬─┬┘┌───┐┌─┴─┐\n",
       "q176_1: ──────────┤ X ├─╫──┤M├─┤ X ├┤ X ├\n",
       "                  └───┘ ║  └╥┘ └───┘└───┘\n",
       "  c3: 2/════════════════╩═══╩════════════\n",
       "                        0   1            </pre>"
      ],
      "text/plain": [
       "        ┌───┐┌───┐     ┌─┐┌───┐          \n",
       "q176_0: ┤ H ├┤ H ├──■──┤M├┤ H ├───────■──\n",
       "        └───┘└───┘┌─┴─┐└╥┘└┬─┬┘┌───┐┌─┴─┐\n",
       "q176_1: ──────────┤ X ├─╫──┤M├─┤ X ├┤ X ├\n",
       "                  └───┘ ║  └╥┘ └───┘└───┘\n",
       "  c3: 2/════════════════╩═══╩════════════\n",
       "                        0   1            "
      ]
     },
     "execution_count": 160,
     "metadata": {},
     "output_type": "execute_result"
    }
   ],
   "source": [
    "qc2.draw()"
   ]
  },
  {
   "cell_type": "code",
   "execution_count": 161,
   "id": "e8b8114a",
   "metadata": {},
   "outputs": [],
   "source": [
    "simulator=BasicAer.get_backend('qasm_simulator')"
   ]
  },
  {
   "cell_type": "code",
   "execution_count": 162,
   "id": "4287984a",
   "metadata": {},
   "outputs": [],
   "source": [
    "result=execute(qc2,backend=simulator).result()"
   ]
  },
  {
   "cell_type": "code",
   "execution_count": 163,
   "id": "2cf8641e",
   "metadata": {},
   "outputs": [
    {
     "data": {
      "image/png": "[encoded data removed]",
      "text/plain": [
       "<Figure size 504x360 with 1 Axes>"
      ]
     },
     "execution_count": 163,
     "metadata": {},
     "output_type": "execute_result"
    }
   ],
   "source": [
    "plot_histogram(result.get_counts(qc2))"
   ]
  },
  {
   "cell_type": "code",
   "execution_count": null,
   "id": "4bd0c629",
   "metadata": {},
   "outputs": [],
   "source": [
    "IBMQ.load_account()"
   ]
  },
  {
   "cell_type": "code",
   "execution_count": 152,
   "id": "9da19c1f",
   "metadata": {},
   "outputs": [],
   "source": [
    "provider=IBMQ.get_provider('ibm-q')"
   ]
  },
  {
   "cell_type": "code",
   "execution_count": 153,
   "id": "a2ef4820",
   "metadata": {},
   "outputs": [],
   "source": [
    "qcomp=provider.get_backend('ibmq_quito')"
   ]
  },
  {
   "cell_type": "code",
   "execution_count": 154,
   "id": "4490a256",
   "metadata": {},
   "outputs": [],
   "source": [
    "job=execute(qc2,backend=qcomp)"
   ]
  },
  {
   "cell_type": "code",
   "execution_count": 155,
   "id": "ee06c3af",
   "metadata": {},
   "outputs": [
    {
     "name": "stdout",
     "output_type": "stream",
     "text": [
      "Job Status: job has successfully run\n"
     ]
    }
   ],
   "source": [
    "job_monitor(job)"
   ]
  },
  {
   "cell_type": "code",
   "execution_count": 156,
   "id": "b23db9e4",
   "metadata": {},
   "outputs": [],
   "source": [
    "result=job.result()"
   ]
  },
  {
   "cell_type": "code",
   "execution_count": 157,
   "id": "3293710a",
   "metadata": {},
   "outputs": [
    {
     "data": {
      "image/png": "[encoded data removed]",
      "text/plain": [
       "<Figure size 504x360 with 1 Axes>"
      ]
     },
     "execution_count": 157,
     "metadata": {},
     "output_type": "execute_result"
    }
   ],
   "source": [
    "plot_histogram(result.get_counts(qc2))"
   ]
  }
 ],
 "metadata": {
  "kernelspec": {
   "display_name": "Python 3",
   "language": "python",
   "name": "python3"
  },
  "language_info": {
   "codemirror_mode": {
    "name": "ipython",
    "version": 3
   },
   "file_extension": ".py",
   "mimetype": "text/x-python",
   "name": "python",
   "nbconvert_exporter": "python",
   "pygments_lexer": "ipython3",
   "version": "3.8.8"
  }
 },
 "nbformat": 4,
 "nbformat_minor": 5
}
