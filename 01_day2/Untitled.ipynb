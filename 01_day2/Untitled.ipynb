{
 "cells": [
  {
   "cell_type": "code",
   "execution_count": 2,
   "id": "cbb15878",
   "metadata": {},
   "outputs": [
    {
     "name": "stdout",
     "output_type": "stream",
     "text": [
      "Requirement already satisfied: qiskit in c:\\users\\md saqlain khan\\anaconda3\\lib\\site-packages (0.30.0)\n",
      "Requirement already satisfied: qiskit-terra==0.18.2 in c:\\users\\md saqlain khan\\anaconda3\\lib\\site-packages (from qiskit) (0.18.2)\n",
      "Requirement already satisfied: qiskit-aer==0.9.0 in c:\\users\\md saqlain khan\\anaconda3\\lib\\site-packages (from qiskit) (0.9.0)\n",
      "Requirement already satisfied: qiskit-ibmq-provider==0.16.0 in c:\\users\\md saqlain khan\\anaconda3\\lib\\site-packages (from qiskit) (0.16.0)\n",
      "Requirement already satisfied: qiskit-aqua==0.9.5 in c:\\users\\md saqlain khan\\anaconda3\\lib\\site-packages (from qiskit) (0.9.5)\n",
      "Requirement already satisfied: qiskit-ignis==0.6.0 in c:\\users\\md saqlain khan\\anaconda3\\lib\\site-packages (from qiskit) (0.6.0)\n",
      "Requirement already satisfied: numpy>=1.16.3 in c:\\users\\md saqlain khan\\anaconda3\\lib\\site-packages (from qiskit-aer==0.9.0->qiskit) (1.20.1)\n",
      "Requirement already satisfied: pybind11>=2.6 in c:\\users\\md saqlain khan\\anaconda3\\lib\\site-packages (from qiskit-aer==0.9.0->qiskit) (2.7.1)\n",
      "Requirement already satisfied: scipy>=1.0 in c:\\users\\md saqlain khan\\anaconda3\\lib\\site-packages (from qiskit-aer==0.9.0->qiskit) (1.6.2)\n",
      "Requirement already satisfied: retworkx>=0.8.0 in c:\\users\\md saqlain khan\\anaconda3\\lib\\site-packages (from qiskit-aqua==0.9.5->qiskit) (0.10.2)\n",
      "Requirement already satisfied: setuptools>=40.1.0 in c:\\users\\md saqlain khan\\anaconda3\\lib\\site-packages (from qiskit-aqua==0.9.5->qiskit) (52.0.0.post20210125)\n",
      "Requirement already satisfied: docplex>=2.21.207 in c:\\users\\md saqlain khan\\anaconda3\\lib\\site-packages (from qiskit-aqua==0.9.5->qiskit) (2.22.213)\n",
      "Requirement already satisfied: dlx<=1.0.4 in c:\\users\\md saqlain khan\\anaconda3\\lib\\site-packages (from qiskit-aqua==0.9.5->qiskit) (1.0.4)\n",
      "Requirement already satisfied: pandas in c:\\users\\md saqlain khan\\anaconda3\\lib\\site-packages (from qiskit-aqua==0.9.5->qiskit) (1.2.4)\n",
      "Requirement already satisfied: fastdtw<=0.3.4 in c:\\users\\md saqlain khan\\anaconda3\\lib\\site-packages (from qiskit-aqua==0.9.5->qiskit) (0.3.4)\n",
      "Requirement already satisfied: yfinance>=0.1.62 in c:\\users\\md saqlain khan\\anaconda3\\lib\\site-packages (from qiskit-aqua==0.9.5->qiskit) (0.1.63)\n",
      "Requirement already satisfied: h5py<3.3.0 in c:\\users\\md saqlain khan\\anaconda3\\lib\\site-packages (from qiskit-aqua==0.9.5->qiskit) (2.10.0)\n",
      "Requirement already satisfied: psutil>=5 in c:\\users\\md saqlain khan\\anaconda3\\lib\\site-packages (from qiskit-aqua==0.9.5->qiskit) (5.8.0)\n",
      "Requirement already satisfied: scikit-learn>=0.20.0 in c:\\users\\md saqlain khan\\anaconda3\\lib\\site-packages (from qiskit-aqua==0.9.5->qiskit) (0.24.1)\n",
      "Requirement already satisfied: quandl in c:\\users\\md saqlain khan\\anaconda3\\lib\\site-packages (from qiskit-aqua==0.9.5->qiskit) (3.6.1)\n",
      "Requirement already satisfied: sympy>=1.3 in c:\\users\\md saqlain khan\\anaconda3\\lib\\site-packages (from qiskit-aqua==0.9.5->qiskit) (1.8)\n",
      "Requirement already satisfied: urllib3>=1.21.1 in c:\\users\\md saqlain khan\\anaconda3\\lib\\site-packages (from qiskit-ibmq-provider==0.16.0->qiskit) (1.26.4)\n",
      "Requirement already satisfied: requests-ntlm>=1.1.0 in c:\\users\\md saqlain khan\\anaconda3\\lib\\site-packages (from qiskit-ibmq-provider==0.16.0->qiskit) (1.1.0)\n",
      "Requirement already satisfied: python-dateutil>=2.8.0 in c:\\users\\md saqlain khan\\anaconda3\\lib\\site-packages (from qiskit-ibmq-provider==0.16.0->qiskit) (2.8.1)\n",
      "Requirement already satisfied: websocket-client>=1.0.1 in c:\\users\\md saqlain khan\\anaconda3\\lib\\site-packages (from qiskit-ibmq-provider==0.16.0->qiskit) (1.2.1)\n",
      "Requirement already satisfied: requests>=2.19 in c:\\users\\md saqlain khan\\anaconda3\\lib\\site-packages (from qiskit-ibmq-provider==0.16.0->qiskit) (2.25.1)\n",
      "Requirement already satisfied: fastjsonschema>=2.10 in c:\\users\\md saqlain khan\\anaconda3\\lib\\site-packages (from qiskit-terra==0.18.2->qiskit) (2.15.1)\n",
      "Requirement already satisfied: tweedledum<2.0,>=1.1 in c:\\users\\md saqlain khan\\anaconda3\\lib\\site-packages (from qiskit-terra==0.18.2->qiskit) (1.1.1)\n",
      "Requirement already satisfied: ply>=3.10 in c:\\users\\md saqlain khan\\anaconda3\\lib\\site-packages (from qiskit-terra==0.18.2->qiskit) (3.11)\n",
      "Requirement already satisfied: python-constraint>=1.4 in c:\\users\\md saqlain khan\\anaconda3\\lib\\site-packages (from qiskit-terra==0.18.2->qiskit) (1.4.0)\n",
      "Requirement already satisfied: jsonschema>=2.6 in c:\\users\\md saqlain khan\\anaconda3\\lib\\site-packages (from qiskit-terra==0.18.2->qiskit) (3.2.0)\n",
      "Requirement already satisfied: dill>=0.3 in c:\\users\\md saqlain khan\\anaconda3\\lib\\site-packages (from qiskit-terra==0.18.2->qiskit) (0.3.4)\n",
      "Requirement already satisfied: six in c:\\users\\md saqlain khan\\anaconda3\\lib\\site-packages (from docplex>=2.21.207->qiskit-aqua==0.9.5->qiskit) (1.15.0)\n",
      "Requirement already satisfied: pyrsistent>=0.14.0 in c:\\users\\md saqlain khan\\anaconda3\\lib\\site-packages (from jsonschema>=2.6->qiskit-terra==0.18.2->qiskit) (0.17.3)\n",
      "Requirement already satisfied: attrs>=17.4.0 in c:\\users\\md saqlain khan\\anaconda3\\lib\\site-packages (from jsonschema>=2.6->qiskit-terra==0.18.2->qiskit) (20.3.0)\n",
      "Requirement already satisfied: chardet<5,>=3.0.2 in c:\\users\\md saqlain khan\\anaconda3\\lib\\site-packages (from requests>=2.19->qiskit-ibmq-provider==0.16.0->qiskit) (4.0.0)\n",
      "Requirement already satisfied: idna<3,>=2.5 in c:\\users\\md saqlain khan\\anaconda3\\lib\\site-packages (from requests>=2.19->qiskit-ibmq-provider==0.16.0->qiskit) (2.10)\n",
      "Requirement already satisfied: certifi>=2017.4.17 in c:\\users\\md saqlain khan\\anaconda3\\lib\\site-packages (from requests>=2.19->qiskit-ibmq-provider==0.16.0->qiskit) (2020.12.5)\n",
      "Requirement already satisfied: cryptography>=1.3 in c:\\users\\md saqlain khan\\anaconda3\\lib\\site-packages (from requests-ntlm>=1.1.0->qiskit-ibmq-provider==0.16.0->qiskit) (3.4.7)\n",
      "Requirement already satisfied: ntlm-auth>=1.0.2 in c:\\users\\md saqlain khan\\anaconda3\\lib\\site-packages (from requests-ntlm>=1.1.0->qiskit-ibmq-provider==0.16.0->qiskit) (1.5.0)\n",
      "Requirement already satisfied: cffi>=1.12 in c:\\users\\md saqlain khan\\anaconda3\\lib\\site-packages (from cryptography>=1.3->requests-ntlm>=1.1.0->qiskit-ibmq-provider==0.16.0->qiskit) (1.14.5)\n",
      "Requirement already satisfied: pycparser in c:\\users\\md saqlain khan\\anaconda3\\lib\\site-packages (from cffi>=1.12->cryptography>=1.3->requests-ntlm>=1.1.0->qiskit-ibmq-provider==0.16.0->qiskit) (2.20)\n",
      "Requirement already satisfied: joblib>=0.11 in c:\\users\\md saqlain khan\\anaconda3\\lib\\site-packages (from scikit-learn>=0.20.0->qiskit-aqua==0.9.5->qiskit) (1.0.1)\n",
      "Requirement already satisfied: threadpoolctl>=2.0.0 in c:\\users\\md saqlain khan\\anaconda3\\lib\\site-packages (from scikit-learn>=0.20.0->qiskit-aqua==0.9.5->qiskit) (2.1.0)\n",
      "Requirement already satisfied: mpmath>=0.19 in c:\\users\\md saqlain khan\\anaconda3\\lib\\site-packages (from sympy>=1.3->qiskit-aqua==0.9.5->qiskit) (1.2.1)\n",
      "Requirement already satisfied: multitasking>=0.0.7 in c:\\users\\md saqlain khan\\anaconda3\\lib\\site-packages (from yfinance>=0.1.62->qiskit-aqua==0.9.5->qiskit) (0.0.9)\n",
      "Requirement already satisfied: lxml>=4.5.1 in c:\\users\\md saqlain khan\\anaconda3\\lib\\site-packages (from yfinance>=0.1.62->qiskit-aqua==0.9.5->qiskit) (4.6.3)\n",
      "Requirement already satisfied: pytz>=2017.3 in c:\\users\\md saqlain khan\\anaconda3\\lib\\site-packages (from pandas->qiskit-aqua==0.9.5->qiskit) (2021.1)\n",
      "Requirement already satisfied: inflection>=0.3.1 in c:\\users\\md saqlain khan\\anaconda3\\lib\\site-packages (from quandl->qiskit-aqua==0.9.5->qiskit) (0.5.1)\n",
      "Requirement already satisfied: more-itertools in c:\\users\\md saqlain khan\\anaconda3\\lib\\site-packages (from quandl->qiskit-aqua==0.9.5->qiskit) (8.7.0)\n"
     ]
    }
   ],
   "source": [
    "!pip install qiskit\n"
   ]
  },
  {
   "cell_type": "code",
   "execution_count": 3,
   "id": "2436e0f4",
   "metadata": {},
   "outputs": [],
   "source": [
    "from qiskit import *"
   ]
  },
  {
   "cell_type": "code",
   "execution_count": 4,
   "id": "566ee87e",
   "metadata": {},
   "outputs": [],
   "source": [
    "qr=QuantumRegister(1)"
   ]
  },
  {
   "cell_type": "code",
   "execution_count": 5,
   "id": "0105f74f",
   "metadata": {},
   "outputs": [],
   "source": [
    "cr=ClassicalRegister(1)"
   ]
  },
  {
   "cell_type": "code",
   "execution_count": 6,
   "id": "5783f88c",
   "metadata": {},
   "outputs": [],
   "source": [
    "qc=QuantumCircuit(qr,cr)"
   ]
  },
  {
   "cell_type": "code",
   "execution_count": 7,
   "id": "d82ae865",
   "metadata": {},
   "outputs": [
    {
     "data": {
      "text/html": [
       "<pre style=\"word-wrap: normal;white-space: pre;background: #fff0;line-height: 1.1;font-family: &quot;Courier New&quot;,Courier,monospace\">      \n",
       "q0_0: \n",
       "      \n",
       "c0: 1/\n",
       "      </pre>"
      ],
      "text/plain": [
       "      \n",
       "q0_0: \n",
       "      \n",
       "c0: 1/\n",
       "      "
      ]
     },
     "execution_count": 7,
     "metadata": {},
     "output_type": "execute_result"
    }
   ],
   "source": [
    "qc.draw()"
   ]
  },
  {
   "cell_type": "code",
   "execution_count": 8,
   "id": "53dd830b",
   "metadata": {},
   "outputs": [
    {
     "data": {
      "text/plain": [
       "<qiskit.circuit.instructionset.InstructionSet at 0x24e21f9f0d0>"
      ]
     },
     "execution_count": 8,
     "metadata": {},
     "output_type": "execute_result"
    }
   ],
   "source": [
    "qc.x(qr[0])"
   ]
  },
  {
   "cell_type": "code",
   "execution_count": 9,
   "id": "47bc65fd",
   "metadata": {},
   "outputs": [
    {
     "data": {
      "text/plain": [
       "<qiskit.circuit.instructionset.InstructionSet at 0x24e21f9f100>"
      ]
     },
     "execution_count": 9,
     "metadata": {},
     "output_type": "execute_result"
    }
   ],
   "source": [
    "qc.x(qr[0])"
   ]
  },
  {
   "cell_type": "code",
   "execution_count": 10,
   "id": "66e123c2",
   "metadata": {},
   "outputs": [
    {
     "data": {
      "text/html": [
       "<pre style=\"word-wrap: normal;white-space: pre;background: #fff0;line-height: 1.1;font-family: &quot;Courier New&quot;,Courier,monospace\">      ┌───┐┌───┐\n",
       "q0_0: ┤ X ├┤ X ├\n",
       "      └───┘└───┘\n",
       "c0: 1/══════════\n",
       "                </pre>"
      ],
      "text/plain": [
       "      ┌───┐┌───┐\n",
       "q0_0: ┤ X ├┤ X ├\n",
       "      └───┘└───┘\n",
       "c0: 1/══════════\n",
       "                "
      ]
     },
     "execution_count": 10,
     "metadata": {},
     "output_type": "execute_result"
    }
   ],
   "source": [
    "qc.draw()"
   ]
  },
  {
   "cell_type": "code",
   "execution_count": 11,
   "id": "dada00e8",
   "metadata": {},
   "outputs": [
    {
     "data": {
      "text/plain": [
       "<qiskit.circuit.instructionset.InstructionSet at 0x24e21f9f1f0>"
      ]
     },
     "execution_count": 11,
     "metadata": {},
     "output_type": "execute_result"
    }
   ],
   "source": [
    "qc.measure(qr,cr)"
   ]
  },
  {
   "cell_type": "code",
   "execution_count": 12,
   "id": "f6c0a235",
   "metadata": {},
   "outputs": [
    {
     "data": {
      "text/html": [
       "<pre style=\"word-wrap: normal;white-space: pre;background: #fff0;line-height: 1.1;font-family: &quot;Courier New&quot;,Courier,monospace\">      ┌───┐┌───┐┌─┐\n",
       "q0_0: ┤ X ├┤ X ├┤M├\n",
       "      └───┘└───┘└╥┘\n",
       "c0: 1/═══════════╩═\n",
       "                 0 </pre>"
      ],
      "text/plain": [
       "      ┌───┐┌───┐┌─┐\n",
       "q0_0: ┤ X ├┤ X ├┤M├\n",
       "      └───┘└───┘└╥┘\n",
       "c0: 1/═══════════╩═\n",
       "                 0 "
      ]
     },
     "execution_count": 12,
     "metadata": {},
     "output_type": "execute_result"
    }
   ],
   "source": [
    "qc.draw()"
   ]
  },
  {
   "cell_type": "code",
   "execution_count": 13,
   "id": "5319bf21",
   "metadata": {},
   "outputs": [],
   "source": [
    "simulator=BasicAer.get_backend('qasm_simulator')"
   ]
  },
  {
   "cell_type": "code",
   "execution_count": 14,
   "id": "0a824a4c",
   "metadata": {},
   "outputs": [],
   "source": [
    "result=execute(qc,backend=simulator).result()"
   ]
  },
  {
   "cell_type": "code",
   "execution_count": 16,
   "id": "b542678c",
   "metadata": {},
   "outputs": [],
   "source": [
    "from qiskit.tools.visualization import plot_histogram"
   ]
  },
  {
   "cell_type": "code",
   "execution_count": 18,
   "id": "4634d3a9",
   "metadata": {},
   "outputs": [
    {
     "ename": "SyntaxError",
     "evalue": "unexpected EOF while parsing (<ipython-input-18-82d974b24aeb>, line 1)",
     "output_type": "error",
     "traceback": [
      "\u001b[1;36m  File \u001b[1;32m\"<ipython-input-18-82d974b24aeb>\"\u001b[1;36m, line \u001b[1;32m1\u001b[0m\n\u001b[1;33m    plot_histogram(result.get_count((qc))\u001b[0m\n\u001b[1;37m                                         ^\u001b[0m\n\u001b[1;31mSyntaxError\u001b[0m\u001b[1;31m:\u001b[0m unexpected EOF while parsing\n"
     ]
    }
   ],
   "source": [
    "plot_histogram(result.get_count((qc))"
   ]
  },
  {
   "cell_type": "code",
   "execution_count": 19,
   "id": "7ee0d781",
   "metadata": {},
   "outputs": [
    {
     "ename": "SyntaxError",
     "evalue": "unexpected EOF while parsing (<ipython-input-19-82d974b24aeb>, line 1)",
     "output_type": "error",
     "traceback": [
      "\u001b[1;36m  File \u001b[1;32m\"<ipython-input-19-82d974b24aeb>\"\u001b[1;36m, line \u001b[1;32m1\u001b[0m\n\u001b[1;33m    plot_histogram(result.get_count((qc))\u001b[0m\n\u001b[1;37m                                         ^\u001b[0m\n\u001b[1;31mSyntaxError\u001b[0m\u001b[1;31m:\u001b[0m unexpected EOF while parsing\n"
     ]
    }
   ],
   "source": [
    "plot_histogram(result.get_count((qc))"
   ]
  },
  {
   "cell_type": "code",
   "execution_count": null,
   "id": "fd53c861",
   "metadata": {},
   "outputs": [],
   "source": []
  }
 ],
 "metadata": {
  "kernelspec": {
   "display_name": "Python 3",
   "language": "python",
   "name": "python3"
  },
  "language_info": {
   "codemirror_mode": {
    "name": "ipython",
    "version": 3
   },
   "file_extension": ".py",
   "mimetype": "text/x-python",
   "name": "python",
   "nbconvert_exporter": "python",
   "pygments_lexer": "ipython3",
   "version": "3.8.8"
  }
 },
 "nbformat": 4,
 "nbformat_minor": 5
}
