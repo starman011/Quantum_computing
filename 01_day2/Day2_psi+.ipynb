{
 "cells": [
  {
   "cell_type": "code",
   "execution_count": null,
   "id": "dede05ef",
   "metadata": {},
   "outputs": [],
   "source": [
    "from qiskit import *"
   ]
  },
  {
   "cell_type": "code",
   "execution_count": null,
   "id": "e9b7f229",
   "metadata": {},
   "outputs": [],
   "source": [
    "from math import pi"
   ]
  },
  {
   "cell_type": "code",
   "execution_count": null,
   "id": "9434e2d3",
   "metadata": {},
   "outputs": [],
   "source": [
    "qr=QuantumRegister(1)"
   ]
  },
  {
   "cell_type": "code",
   "execution_count": null,
   "id": "35129fb4",
   "metadata": {},
   "outputs": [],
   "source": [
    "cr=ClassicalRegister(1)"
   ]
  },
  {
   "cell_type": "code",
   "execution_count": null,
   "id": "fe8cc4ed",
   "metadata": {},
   "outputs": [],
   "source": [
    "qc=QuantumCircuit(qr,cr)"
   ]
  },
  {
   "cell_type": "code",
   "execution_count": null,
   "id": "ea5f4c11",
   "metadata": {},
   "outputs": [],
   "source": []
  },
  {
   "cell_type": "code",
   "execution_count": null,
   "id": "209bf09f",
   "metadata": {},
   "outputs": [],
   "source": [
    "qc.draw()"
   ]
  },
  {
   "cell_type": "code",
   "execution_count": null,
   "id": "46eb1a7c",
   "metadata": {},
   "outputs": [],
   "source": [
    "qc.x(qr[0])"
   ]
  },
  {
   "cell_type": "code",
   "execution_count": null,
   "id": "f27f402d",
   "metadata": {},
   "outputs": [],
   "source": [
    "qc.u3(0,0,pi,qr[0])"
   ]
  },
  {
   "cell_type": "code",
   "execution_count": null,
   "id": "c6f3699b",
   "metadata": {},
   "outputs": [],
   "source": [
    "qc.measure(qr,cr)"
   ]
  },
  {
   "cell_type": "code",
   "execution_count": null,
   "id": "becd57a5",
   "metadata": {},
   "outputs": [],
   "source": [
    "qc.draw()"
   ]
  },
  {
   "cell_type": "code",
   "execution_count": null,
   "id": "ec347b6c",
   "metadata": {},
   "outputs": [],
   "source": [
    "simulator=BasicAer.get_backend('qasm_simulator')"
   ]
  },
  {
   "cell_type": "code",
   "execution_count": null,
   "id": "6b443d16",
   "metadata": {},
   "outputs": [],
   "source": [
    "execute(qc,backend=simulator)"
   ]
  },
  {
   "cell_type": "code",
   "execution_count": null,
   "id": "6285e104",
   "metadata": {},
   "outputs": [],
   "source": [
    "result=execute(qc,backend=simulator).result()"
   ]
  },
  {
   "cell_type": "code",
   "execution_count": null,
   "id": "e6f66802",
   "metadata": {},
   "outputs": [],
   "source": [
    "from qiskit.tools.visualization import plot_histogram"
   ]
  },
  {
   "cell_type": "code",
   "execution_count": null,
   "id": "75f8b359",
   "metadata": {},
   "outputs": [],
   "source": [
    "plot_histogram(result.get_counts(qc))"
   ]
  },
  {
   "cell_type": "code",
   "execution_count": null,
   "id": "f5c702f0",
   "metadata": {},
   "outputs": [],
   "source": [
    "IBMQ.load_account()"
   ]
  },
  {
   "cell_type": "code",
   "execution_count": null,
   "id": "b15af887",
   "metadata": {},
   "outputs": [],
   "source": [
    "provider=IBMQ.get_provider('ibm-q')"
   ]
  },
  {
   "cell_type": "code",
   "execution_count": null,
   "id": "164c29b8",
   "metadata": {},
   "outputs": [],
   "source": [
    "qcomp=provider.get_backend('ibmq_armonk')"
   ]
  },
  {
   "cell_type": "code",
   "execution_count": null,
   "id": "7235413f",
   "metadata": {},
   "outputs": [],
   "source": [
    "job=execute(qc,backend=qcomp)"
   ]
  },
  {
   "cell_type": "code",
   "execution_count": null,
   "id": "e802222d",
   "metadata": {},
   "outputs": [],
   "source": [
    "from qiskit.tools.monitor import job_monitor"
   ]
  },
  {
   "cell_type": "code",
   "execution_count": null,
   "id": "3f0b07f3",
   "metadata": {},
   "outputs": [],
   "source": [
    "job_monitor(job)"
   ]
  },
  {
   "cell_type": "code",
   "execution_count": null,
   "id": "979daf98",
   "metadata": {},
   "outputs": [],
   "source": [
    "result=job.result()"
   ]
  },
  {
   "cell_type": "code",
   "execution_count": null,
   "id": "9dbc3aa3",
   "metadata": {},
   "outputs": [],
   "source": [
    "plot_histogram(result.get_counts(qc))"
   ]
  },
  {
   "cell_type": "code",
   "execution_count": null,
   "id": "163f7b0c",
   "metadata": {},
   "outputs": [],
   "source": [
    "qrr=QuantumRegister(1)"
   ]
  },
  {
   "cell_type": "code",
   "execution_count": null,
   "id": "dd4c2897",
   "metadata": {},
   "outputs": [],
   "source": [
    "crr=ClassicalRegister(1)"
   ]
  },
  {
   "cell_type": "code",
   "execution_count": null,
   "id": "75dce7b9",
   "metadata": {},
   "outputs": [],
   "source": [
    "qcc=QuantumCircuit(qrr,crr)"
   ]
  },
  {
   "cell_type": "code",
   "execution_count": null,
   "id": "0d5b824b",
   "metadata": {},
   "outputs": [],
   "source": [
    "qcc.x(qrr[0])\n",
    "qcc.h(qrr[0])\n",
    "qcc.x(qrr[0])\n",
    "qcc.h(qrr[0])"
   ]
  },
  {
   "cell_type": "code",
   "execution_count": null,
   "id": "78929615",
   "metadata": {},
   "outputs": [],
   "source": []
  },
  {
   "cell_type": "code",
   "execution_count": null,
   "id": "9c5564b0",
   "metadata": {},
   "outputs": [],
   "source": [
    "qcc.z(qrr[0])"
   ]
  },
  {
   "cell_type": "code",
   "execution_count": null,
   "id": "82773630",
   "metadata": {},
   "outputs": [],
   "source": [
    "qcc.draw()"
   ]
  },
  {
   "cell_type": "code",
   "execution_count": null,
   "id": "20b6d86c",
   "metadata": {},
   "outputs": [],
   "source": [
    "qcc.measure(qrr,crr)"
   ]
  },
  {
   "cell_type": "code",
   "execution_count": null,
   "id": "9947465a",
   "metadata": {},
   "outputs": [],
   "source": [
    "simulator=BasicAer.get_backend('qasm_simulator')"
   ]
  },
  {
   "cell_type": "code",
   "execution_count": null,
   "id": "19ad9e85",
   "metadata": {},
   "outputs": [],
   "source": [
    "result=execute(qcc,backend=simulator).result()"
   ]
  },
  {
   "cell_type": "code",
   "execution_count": null,
   "id": "5ae78c50",
   "metadata": {},
   "outputs": [],
   "source": [
    "plot_histogram(result.get_counts(qcc))"
   ]
  },
  {
   "cell_type": "code",
   "execution_count": null,
   "id": "60a45081",
   "metadata": {},
   "outputs": [],
   "source": [
    "qr2=QuantumRegister(2)"
   ]
  },
  {
   "cell_type": "code",
   "execution_count": null,
   "id": "2049ec1f",
   "metadata": {},
   "outputs": [],
   "source": [
    "#bell state coding"
   ]
  },
  {
   "cell_type": "code",
   "execution_count": null,
   "id": "919f1073",
   "metadata": {},
   "outputs": [],
   "source": [
    "cr2=ClassicalRegister(2)"
   ]
  },
  {
   "cell_type": "code",
   "execution_count": null,
   "id": "a09631f0",
   "metadata": {},
   "outputs": [],
   "source": [
    "qc2=QuantumCircuit(qr2,cr2)"
   ]
  },
  {
   "cell_type": "code",
   "execution_count": null,
   "id": "f3d9190c",
   "metadata": {},
   "outputs": [],
   "source": [
    "#creating /phi+>\n",
    "\n",
    "qc2.h(qr2[0])\n",
    "qc2.x(qr2[1])\n",
    "qc2.cx(qr2[0],qr2[1])"
   ]
  },
  {
   "cell_type": "code",
   "execution_count": null,
   "id": "92695768",
   "metadata": {},
   "outputs": [],
   "source": [
    "qc2.draw()"
   ]
  },
  {
   "cell_type": "code",
   "execution_count": null,
   "id": "be597421",
   "metadata": {},
   "outputs": [],
   "source": [
    "qc2.measure(qr2,cr2)"
   ]
  },
  {
   "cell_type": "code",
   "execution_count": null,
   "id": "e68f61c7",
   "metadata": {},
   "outputs": [],
   "source": [
    "qc2.draw()"
   ]
  },
  {
   "cell_type": "code",
   "execution_count": null,
   "id": "7adfefe1",
   "metadata": {},
   "outputs": [],
   "source": [
    "simulator=BasicAer.get_backend('qasm_simulator')"
   ]
  },
  {
   "cell_type": "code",
   "execution_count": null,
   "id": "76771c03",
   "metadata": {},
   "outputs": [],
   "source": [
    "result=execute(qc2,backend=simulator).result()"
   ]
  },
  {
   "cell_type": "code",
   "execution_count": null,
   "id": "6d195164",
   "metadata": {},
   "outputs": [],
   "source": [
    "plot_histogram(result.get_counts(qc2))"
   ]
  },
  {
   "cell_type": "code",
   "execution_count": null,
   "id": "ec7f892a",
   "metadata": {},
   "outputs": [],
   "source": [
    "IBMQ.load_account()"
   ]
  },
  {
   "cell_type": "code",
   "execution_count": null,
   "id": "11886e1d",
   "metadata": {},
   "outputs": [],
   "source": [
    "provider=IBMQ.get_provider('ibm-q')"
   ]
  },
  {
   "cell_type": "code",
   "execution_count": null,
   "id": "6559a287",
   "metadata": {},
   "outputs": [],
   "source": [
    "qcomp=provider.get_backend('ibmq_quito')"
   ]
  },
  {
   "cell_type": "code",
   "execution_count": null,
   "id": "dcedcfaf",
   "metadata": {},
   "outputs": [],
   "source": [
    "job=execute(qc2,backend=qcomp)"
   ]
  },
  {
   "cell_type": "code",
   "execution_count": null,
   "id": "fdf64565",
   "metadata": {},
   "outputs": [],
   "source": [
    "job_monitor(job)"
   ]
  },
  {
   "cell_type": "code",
   "execution_count": null,
   "id": "e3191cf8",
   "metadata": {},
   "outputs": [],
   "source": [
    "result=job.result()"
   ]
  },
  {
   "cell_type": "code",
   "execution_count": null,
   "id": "afcdb0a2",
   "metadata": {},
   "outputs": [],
   "source": [
    "plot_histogram(result.get_counts(qc2))"
   ]
  },
  {
   "cell_type": "code",
   "execution_count": null,
   "id": "896a3514",
   "metadata": {},
   "outputs": [],
   "source": []
  },
  {
   "cell_type": "code",
   "execution_count": null,
   "id": "2e48b566",
   "metadata": {},
   "outputs": [],
   "source": []
  },
  {
   "cell_type": "code",
   "execution_count": null,
   "id": "88027c7c",
   "metadata": {},
   "outputs": [],
   "source": []
  },
  {
   "cell_type": "code",
   "execution_count": null,
   "id": "cd790eee",
   "metadata": {},
   "outputs": [],
   "source": []
  },
  {
   "cell_type": "code",
   "execution_count": null,
   "id": "16afff7d",
   "metadata": {},
   "outputs": [],
   "source": []
  }
 ],
 "metadata": {
  "kernelspec": {
   "display_name": "Python 3",
   "language": "python",
   "name": "python3"
  },
  "language_info": {
   "codemirror_mode": {
    "name": "ipython",
    "version": 3
   },
   "file_extension": ".py",
   "mimetype": "text/x-python",
   "name": "python",
   "nbconvert_exporter": "python",
   "pygments_lexer": "ipython3",
   "version": "3.8.8"
  }
 },
 "nbformat": 4,
 "nbformat_minor": 5
}
