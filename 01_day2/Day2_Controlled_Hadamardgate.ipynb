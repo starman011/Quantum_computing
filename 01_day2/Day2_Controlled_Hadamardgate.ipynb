{
 "cells": [
  {
   "cell_type": "code",
   "execution_count": 43,
   "id": "2ae6f4cb",
   "metadata": {},
   "outputs": [],
   "source": [
    "from qiskit import *"
   ]
  },
  {
   "cell_type": "code",
   "execution_count": 44,
   "id": "d40e02aa",
   "metadata": {},
   "outputs": [],
   "source": [
    "from math import pi"
   ]
  },
  {
   "cell_type": "code",
   "execution_count": 45,
   "id": "7fbb5301",
   "metadata": {},
   "outputs": [],
   "source": [
    "qr=QuantumRegister(1)"
   ]
  },
  {
   "cell_type": "code",
   "execution_count": 46,
   "id": "0ab70430",
   "metadata": {},
   "outputs": [],
   "source": [
    "cr=ClassicalRegister(1)"
   ]
  },
  {
   "cell_type": "code",
   "execution_count": 47,
   "id": "a36be298",
   "metadata": {},
   "outputs": [],
   "source": [
    "qc=QuantumCircuit(qr,cr)"
   ]
  },
  {
   "cell_type": "code",
   "execution_count": null,
   "id": "5cd4f9f0",
   "metadata": {},
   "outputs": [],
   "source": []
  },
  {
   "cell_type": "code",
   "execution_count": 5,
   "id": "4cb96bef",
   "metadata": {},
   "outputs": [
    {
     "data": {
      "text/html": [
       "<pre style=\"word-wrap: normal;white-space: pre;background: #fff0;line-height: 1.1;font-family: &quot;Courier New&quot;,Courier,monospace\">      \n",
       "q0_0: \n",
       "      \n",
       "c0: 1/\n",
       "      </pre>"
      ],
      "text/plain": [
       "      \n",
       "q0_0: \n",
       "      \n",
       "c0: 1/\n",
       "      "
      ]
     },
     "execution_count": 5,
     "metadata": {},
     "output_type": "execute_result"
    }
   ],
   "source": [
    "qc.draw()"
   ]
  },
  {
   "cell_type": "code",
   "execution_count": 48,
   "id": "2fc49daa",
   "metadata": {},
   "outputs": [
    {
     "data": {
      "text/plain": [
       "<qiskit.circuit.instructionset.InstructionSet at 0x26676a88d90>"
      ]
     },
     "execution_count": 48,
     "metadata": {},
     "output_type": "execute_result"
    }
   ],
   "source": [
    "qc.x(qr[0])"
   ]
  },
  {
   "cell_type": "code",
   "execution_count": 55,
   "id": "860923da",
   "metadata": {},
   "outputs": [
    {
     "data": {
      "text/plain": [
       "<qiskit.circuit.instructionset.InstructionSet at 0x26676b67940>"
      ]
     },
     "execution_count": 55,
     "metadata": {},
     "output_type": "execute_result"
    }
   ],
   "source": [
    "qc.u3(0,0,pi,qr[0])"
   ]
  },
  {
   "cell_type": "code",
   "execution_count": 54,
   "id": "1cefe86e",
   "metadata": {},
   "outputs": [
    {
     "data": {
      "text/plain": [
       "<qiskit.circuit.instructionset.InstructionSet at 0x26676b67a30>"
      ]
     },
     "execution_count": 54,
     "metadata": {},
     "output_type": "execute_result"
    }
   ],
   "source": [
    "qc.measure(qr,cr)"
   ]
  },
  {
   "cell_type": "code",
   "execution_count": 53,
   "id": "7d9768af",
   "metadata": {},
   "outputs": [
    {
     "data": {
      "text/html": [
       "<pre style=\"word-wrap: normal;white-space: pre;background: #fff0;line-height: 1.1;font-family: &quot;Courier New&quot;,Courier,monospace\">       ┌───┐┌───────────┐\n",
       "q36_0: ┤ X ├┤ U3(0,0,π) ├\n",
       "       └───┘└───────────┘\n",
       " c1: 1/══════════════════\n",
       "                         </pre>"
      ],
      "text/plain": [
       "       ┌───┐┌───────────┐\n",
       "q36_0: ┤ X ├┤ U3(0,0,π) ├\n",
       "       └───┘└───────────┘\n",
       " c1: 1/══════════════════\n",
       "                         "
      ]
     },
     "execution_count": 53,
     "metadata": {},
     "output_type": "execute_result"
    }
   ],
   "source": [
    "qc.draw()"
   ]
  },
  {
   "cell_type": "code",
   "execution_count": 51,
   "id": "e3e1a463",
   "metadata": {},
   "outputs": [],
   "source": [
    "simulator=BasicAer.get_backend('qasm_simulator')"
   ]
  },
  {
   "cell_type": "code",
   "execution_count": 56,
   "id": "101b5edd",
   "metadata": {},
   "outputs": [
    {
     "data": {
      "text/plain": [
       "<qiskit.providers.basicaer.basicaerjob.BasicAerJob at 0x26676b67820>"
      ]
     },
     "execution_count": 56,
     "metadata": {},
     "output_type": "execute_result"
    }
   ],
   "source": [
    "execute(qc,backend=simulator)"
   ]
  },
  {
   "cell_type": "code",
   "execution_count": 57,
   "id": "c218dee0",
   "metadata": {},
   "outputs": [],
   "source": [
    "result=execute(qc,backend=simulator).result()"
   ]
  },
  {
   "cell_type": "code",
   "execution_count": 58,
   "id": "2549417a",
   "metadata": {},
   "outputs": [],
   "source": [
    "from qiskit.tools.visualization import plot_histogram"
   ]
  },
  {
   "cell_type": "code",
   "execution_count": 59,
   "id": "3d07a240",
   "metadata": {},
   "outputs": [
    {
     "data": {
      "image/png": "[encoded data removed]",
      "text/plain": [
       "<Figure size 504x360 with 1 Axes>"
      ]
     },
     "execution_count": 59,
     "metadata": {},
     "output_type": "execute_result"
    }
   ],
   "source": [
    "plot_histogram(result.get_counts(qc))"
   ]
  },
  {
   "cell_type": "code",
   "execution_count": 60,
   "id": "caf57400",
   "metadata": {},
   "outputs": [
    {
     "name": "stderr",
     "output_type": "stream",
     "text": [
      "ibmqfactory.load_account:WARNING:2021-09-29 17:11:21,220: Credentials are already in use. The existing account in the session will be replaced.\n"
     ]
    },
    {
     "data": {
      "text/plain": [
       "<AccountProvider for IBMQ(hub='ibm-q', group='open', project='main')>"
      ]
     },
     "execution_count": 60,
     "metadata": {},
     "output_type": "execute_result"
    }
   ],
   "source": [
    "IBMQ.load_account()"
   ]
  },
  {
   "cell_type": "code",
   "execution_count": 61,
   "id": "b02cf8b8",
   "metadata": {},
   "outputs": [],
   "source": [
    "provider=IBMQ.get_provider('ibm-q')"
   ]
  },
  {
   "cell_type": "code",
   "execution_count": 62,
   "id": "a72b68cb",
   "metadata": {},
   "outputs": [],
   "source": [
    "qcomp=provider.get_backend('ibmq_armonk')"
   ]
  },
  {
   "cell_type": "code",
   "execution_count": 63,
   "id": "5ff4295a",
   "metadata": {},
   "outputs": [],
   "source": [
    "job=execute(qc,backend=qcomp)"
   ]
  },
  {
   "cell_type": "code",
   "execution_count": 64,
   "id": "edb02a21",
   "metadata": {},
   "outputs": [],
   "source": [
    "from qiskit.tools.monitor import job_monitor"
   ]
  },
  {
   "cell_type": "code",
   "execution_count": 65,
   "id": "6e2da28a",
   "metadata": {},
   "outputs": [
    {
     "name": "stdout",
     "output_type": "stream",
     "text": [
      "Job Status: job has successfully run\n"
     ]
    }
   ],
   "source": [
    "job_monitor(job)"
   ]
  },
  {
   "cell_type": "code",
   "execution_count": 69,
   "id": "ebff189e",
   "metadata": {},
   "outputs": [],
   "source": [
    "result=job.result()"
   ]
  },
  {
   "cell_type": "code",
   "execution_count": 70,
   "id": "ca834004",
   "metadata": {},
   "outputs": [
    {
     "data": {
      "image/png": "[encoded data removed]",
      "text/plain": [
       "<Figure size 504x360 with 1 Axes>"
      ]
     },
     "execution_count": 70,
     "metadata": {},
     "output_type": "execute_result"
    }
   ],
   "source": [
    "plot_histogram(result.get_counts(qc))"
   ]
  },
  {
   "cell_type": "code",
   "execution_count": 71,
   "id": "a71dc90b",
   "metadata": {},
   "outputs": [],
   "source": [
    "qrr=QuantumRegister(1)"
   ]
  },
  {
   "cell_type": "code",
   "execution_count": 72,
   "id": "6572c061",
   "metadata": {},
   "outputs": [],
   "source": [
    "crr=ClassicalRegister(1)"
   ]
  },
  {
   "cell_type": "code",
   "execution_count": 74,
   "id": "d09eebb8",
   "metadata": {},
   "outputs": [],
   "source": [
    "qcc=QuantumCircuit(qrr,crr)"
   ]
  },
  {
   "cell_type": "code",
   "execution_count": 121,
   "id": "5bcb83ae",
   "metadata": {},
   "outputs": [
    {
     "data": {
      "text/plain": [
       "<qiskit.circuit.instructionset.InstructionSet at 0x2667581cf40>"
      ]
     },
     "execution_count": 121,
     "metadata": {},
     "output_type": "execute_result"
    }
   ],
   "source": [
    "qcc.x(qrr[0])\n",
    "qcc.h(qrr[0])\n",
    "qcc.x(qrr[0])\n",
    "qcc.h(qrr[0])"
   ]
  },
  {
   "cell_type": "code",
   "execution_count": null,
   "id": "a0f17d4c",
   "metadata": {},
   "outputs": [],
   "source": []
  },
  {
   "cell_type": "code",
   "execution_count": 122,
   "id": "60ca2e85",
   "metadata": {},
   "outputs": [
    {
     "data": {
      "text/plain": [
       "<qiskit.circuit.instructionset.InstructionSet at 0x26676cba970>"
      ]
     },
     "execution_count": 122,
     "metadata": {},
     "output_type": "execute_result"
    }
   ],
   "source": [
    "qcc.z(qrr[0])"
   ]
  },
  {
   "cell_type": "code",
   "execution_count": 123,
   "id": "12960507",
   "metadata": {},
   "outputs": [
    {
     "data": {
      "text/html": [
       "<pre style=\"word-wrap: normal;white-space: pre;background: #fff0;line-height: 1.1;font-family: &quot;Courier New&quot;,Courier,monospace\">       ┌───┐┌───┐┌─┐┌───┐┌───┐┌───┐┌───┐┌─┐┌───┐┌───┐┌───┐┌───┐┌─┐┌───┐┌───┐»\n",
       "q86_0: ┤ X ├┤ Z ├┤M├┤ H ├┤ Z ├┤ H ├┤ Z ├┤M├┤ H ├┤ X ├┤ H ├┤ Z ├┤M├┤ X ├┤ H ├»\n",
       "       └───┘└───┘└╥┘└───┘└───┘└───┘└───┘└╥┘└───┘└───┘└───┘└───┘└╥┘└───┘└───┘»\n",
       " c2: 1/═══════════╩══════════════════════╩══════════════════════╩═══════════»\n",
       "                  0                      0                      0           »\n",
       "«       ┌───┐┌───┐┌───┐┌─┐┌───┐┌───┐┌───┐┌───┐┌─┐┌───┐┌───┐┌───┐┌───┐┌───┐┌───┐»\n",
       "«q86_0: ┤ X ├┤ H ├┤ Z ├┤M├┤ X ├┤ Z ├┤ X ├┤ Z ├┤M├┤ X ├┤ Z ├┤ X ├┤ H ├┤ Z ├┤ X ├»\n",
       "«       └───┘└───┘└───┘└╥┘└───┘└───┘└───┘└───┘└╥┘└───┘└───┘└───┘└───┘└───┘└───┘»\n",
       "« c2: 1/════════════════╩══════════════════════╩═══════════════════════════════»\n",
       "«                       0                      0                               »\n",
       "«       ┌───┐┌───┐┌───┐┌───┐┌─┐┌─┐┌───┐┌───┐┌───┐┌───┐┌───┐\n",
       "«q86_0: ┤ H ├┤ X ├┤ H ├┤ Z ├┤M├┤M├┤ X ├┤ H ├┤ X ├┤ H ├┤ Z ├\n",
       "«       └───┘└───┘└───┘└───┘└╥┘└╥┘└───┘└───┘└───┘└───┘└───┘\n",
       "« c2: 1/═════════════════════╩══╩══════════════════════════\n",
       "«                            0  0                          </pre>"
      ],
      "text/plain": [
       "       ┌───┐┌───┐┌─┐┌───┐┌───┐┌───┐┌───┐┌─┐┌───┐┌───┐┌───┐┌───┐┌─┐┌───┐┌───┐»\n",
       "q86_0: ┤ X ├┤ Z ├┤M├┤ H ├┤ Z ├┤ H ├┤ Z ├┤M├┤ H ├┤ X ├┤ H ├┤ Z ├┤M├┤ X ├┤ H ├»\n",
       "       └───┘└───┘└╥┘└───┘└───┘└───┘└───┘└╥┘└───┘└───┘└───┘└───┘└╥┘└───┘└───┘»\n",
       " c2: 1/═══════════╩══════════════════════╩══════════════════════╩═══════════»\n",
       "                  0                      0                      0           »\n",
       "«       ┌───┐┌───┐┌───┐┌─┐┌───┐┌───┐┌───┐┌───┐┌─┐┌───┐┌───┐┌───┐┌───┐┌───┐┌───┐»\n",
       "«q86_0: ┤ X ├┤ H ├┤ Z ├┤M├┤ X ├┤ Z ├┤ X ├┤ Z ├┤M├┤ X ├┤ Z ├┤ X ├┤ H ├┤ Z ├┤ X ├»\n",
       "«       └───┘└───┘└───┘└╥┘└───┘└───┘└───┘└───┘└╥┘└───┘└───┘└───┘└───┘└───┘└───┘»\n",
       "« c2: 1/════════════════╩══════════════════════╩═══════════════════════════════»\n",
       "«                       0                      0                               »\n",
       "«       ┌───┐┌───┐┌───┐┌───┐┌─┐┌─┐┌───┐┌───┐┌───┐┌───┐┌───┐\n",
       "«q86_0: ┤ H ├┤ X ├┤ H ├┤ Z ├┤M├┤M├┤ X ├┤ H ├┤ X ├┤ H ├┤ Z ├\n",
       "«       └───┘└───┘└───┘└───┘└╥┘└╥┘└───┘└───┘└───┘└───┘└───┘\n",
       "« c2: 1/═════════════════════╩══╩══════════════════════════\n",
       "«                            0  0                          "
      ]
     },
     "execution_count": 123,
     "metadata": {},
     "output_type": "execute_result"
    }
   ],
   "source": [
    "qcc.draw()"
   ]
  },
  {
   "cell_type": "code",
   "execution_count": 124,
   "id": "e54f2286",
   "metadata": {},
   "outputs": [
    {
     "data": {
      "text/plain": [
       "<qiskit.circuit.instructionset.InstructionSet at 0x26676aea040>"
      ]
     },
     "execution_count": 124,
     "metadata": {},
     "output_type": "execute_result"
    }
   ],
   "source": [
    "qcc.measure(qrr,crr)"
   ]
  },
  {
   "cell_type": "code",
   "execution_count": 125,
   "id": "bda49a43",
   "metadata": {},
   "outputs": [],
   "source": [
    "simulator=BasicAer.get_backend('qasm_simulator')"
   ]
  },
  {
   "cell_type": "code",
   "execution_count": 126,
   "id": "7b8ae628",
   "metadata": {},
   "outputs": [],
   "source": [
    "result=execute(qcc,backend=simulator).result()"
   ]
  },
  {
   "cell_type": "code",
   "execution_count": 127,
   "id": "87c8177b",
   "metadata": {},
   "outputs": [
    {
     "data": {
      "image/png": "[encoded data removed]",
      "text/plain": [
       "<Figure size 504x360 with 1 Axes>"
      ]
     },
     "execution_count": 127,
     "metadata": {},
     "output_type": "execute_result"
    }
   ],
   "source": [
    "plot_histogram(result.get_counts(qcc))"
   ]
  },
  {
   "cell_type": "code",
   "execution_count": 252,
   "id": "8fde92c9",
   "metadata": {},
   "outputs": [],
   "source": [
    "qr3=QuantumRegister(3)"
   ]
  },
  {
   "cell_type": "code",
   "execution_count": null,
   "id": "4d70adbc",
   "metadata": {},
   "outputs": [],
   "source": []
  },
  {
   "cell_type": "code",
   "execution_count": 253,
   "id": "935021c9",
   "metadata": {},
   "outputs": [],
   "source": [
    "cr3=ClassicalRegister(3)"
   ]
  },
  {
   "cell_type": "code",
   "execution_count": 254,
   "id": "8be51490",
   "metadata": {},
   "outputs": [],
   "source": [
    "qc3=QuantumCircuit(qr2,cr2)"
   ]
  },
  {
   "cell_type": "code",
   "execution_count": null,
   "id": "13b2515a",
   "metadata": {},
   "outputs": [],
   "source": []
  },
  {
   "cell_type": "code",
   "execution_count": 259,
   "id": "297252f7",
   "metadata": {
    "scrolled": true
   },
   "outputs": [
    {
     "ename": "CircuitError",
     "evalue": "'qargs not in this circuit'",
     "output_type": "error",
     "traceback": [
      "\u001b[1;31m---------------------------------------------------------------------------\u001b[0m",
      "\u001b[1;31mCircuitError\u001b[0m                              Traceback (most recent call last)",
      "\u001b[1;32m<ipython-input-259-643abfbb06f6>\u001b[0m in \u001b[0;36m<module>\u001b[1;34m\u001b[0m\n\u001b[0;32m      1\u001b[0m \u001b[1;31m#creating /GHZ state>\u001b[0m\u001b[1;33m\u001b[0m\u001b[1;33m\u001b[0m\u001b[1;33m\u001b[0m\u001b[0m\n\u001b[0;32m      2\u001b[0m \u001b[1;33m\u001b[0m\u001b[0m\n\u001b[1;32m----> 3\u001b[1;33m \u001b[0mqc2\u001b[0m\u001b[1;33m.\u001b[0m\u001b[0mh\u001b[0m\u001b[1;33m(\u001b[0m\u001b[0mqr3\u001b[0m\u001b[1;33m[\u001b[0m\u001b[1;36m0\u001b[0m\u001b[1;33m]\u001b[0m\u001b[1;33m)\u001b[0m\u001b[1;33m\u001b[0m\u001b[1;33m\u001b[0m\u001b[0m\n\u001b[0m",
      "\u001b[1;32m~\\anaconda3\\lib\\site-packages\\qiskit\\circuit\\quantumcircuit.py\u001b[0m in \u001b[0;36mh\u001b[1;34m(self, qubit)\u001b[0m\n\u001b[0;32m   2385\u001b[0m         \u001b[1;32mfrom\u001b[0m \u001b[1;33m.\u001b[0m\u001b[0mlibrary\u001b[0m\u001b[1;33m.\u001b[0m\u001b[0mstandard_gates\u001b[0m\u001b[1;33m.\u001b[0m\u001b[0mh\u001b[0m \u001b[1;32mimport\u001b[0m \u001b[0mHGate\u001b[0m\u001b[1;33m\u001b[0m\u001b[1;33m\u001b[0m\u001b[0m\n\u001b[0;32m   2386\u001b[0m \u001b[1;33m\u001b[0m\u001b[0m\n\u001b[1;32m-> 2387\u001b[1;33m         \u001b[1;32mreturn\u001b[0m \u001b[0mself\u001b[0m\u001b[1;33m.\u001b[0m\u001b[0mappend\u001b[0m\u001b[1;33m(\u001b[0m\u001b[0mHGate\u001b[0m\u001b[1;33m(\u001b[0m\u001b[1;33m)\u001b[0m\u001b[1;33m,\u001b[0m \u001b[1;33m[\u001b[0m\u001b[0mqubit\u001b[0m\u001b[1;33m]\u001b[0m\u001b[1;33m,\u001b[0m \u001b[1;33m[\u001b[0m\u001b[1;33m]\u001b[0m\u001b[1;33m)\u001b[0m\u001b[1;33m\u001b[0m\u001b[1;33m\u001b[0m\u001b[0m\n\u001b[0m\u001b[0;32m   2388\u001b[0m \u001b[1;33m\u001b[0m\u001b[0m\n\u001b[0;32m   2389\u001b[0m     def ch(\n",
      "\u001b[1;32m~\\anaconda3\\lib\\site-packages\\qiskit\\circuit\\quantumcircuit.py\u001b[0m in \u001b[0;36mappend\u001b[1;34m(self, instruction, qargs, cargs)\u001b[0m\n\u001b[0;32m   1084\u001b[0m         \u001b[0minstructions\u001b[0m \u001b[1;33m=\u001b[0m \u001b[0mInstructionSet\u001b[0m\u001b[1;33m(\u001b[0m\u001b[1;33m)\u001b[0m\u001b[1;33m\u001b[0m\u001b[1;33m\u001b[0m\u001b[0m\n\u001b[0;32m   1085\u001b[0m         \u001b[1;32mfor\u001b[0m \u001b[1;33m(\u001b[0m\u001b[0mqarg\u001b[0m\u001b[1;33m,\u001b[0m \u001b[0mcarg\u001b[0m\u001b[1;33m)\u001b[0m \u001b[1;32min\u001b[0m \u001b[0minstruction\u001b[0m\u001b[1;33m.\u001b[0m\u001b[0mbroadcast_arguments\u001b[0m\u001b[1;33m(\u001b[0m\u001b[0mexpanded_qargs\u001b[0m\u001b[1;33m,\u001b[0m \u001b[0mexpanded_cargs\u001b[0m\u001b[1;33m)\u001b[0m\u001b[1;33m:\u001b[0m\u001b[1;33m\u001b[0m\u001b[1;33m\u001b[0m\u001b[0m\n\u001b[1;32m-> 1086\u001b[1;33m             \u001b[0minstructions\u001b[0m\u001b[1;33m.\u001b[0m\u001b[0madd\u001b[0m\u001b[1;33m(\u001b[0m\u001b[0mself\u001b[0m\u001b[1;33m.\u001b[0m\u001b[0m_append\u001b[0m\u001b[1;33m(\u001b[0m\u001b[0minstruction\u001b[0m\u001b[1;33m,\u001b[0m \u001b[0mqarg\u001b[0m\u001b[1;33m,\u001b[0m \u001b[0mcarg\u001b[0m\u001b[1;33m)\u001b[0m\u001b[1;33m,\u001b[0m \u001b[0mqarg\u001b[0m\u001b[1;33m,\u001b[0m \u001b[0mcarg\u001b[0m\u001b[1;33m)\u001b[0m\u001b[1;33m\u001b[0m\u001b[1;33m\u001b[0m\u001b[0m\n\u001b[0m\u001b[0;32m   1087\u001b[0m         \u001b[1;32mreturn\u001b[0m \u001b[0minstructions\u001b[0m\u001b[1;33m\u001b[0m\u001b[1;33m\u001b[0m\u001b[0m\n\u001b[0;32m   1088\u001b[0m \u001b[1;33m\u001b[0m\u001b[0m\n",
      "\u001b[1;32m~\\anaconda3\\lib\\site-packages\\qiskit\\circuit\\quantumcircuit.py\u001b[0m in \u001b[0;36m_append\u001b[1;34m(self, instruction, qargs, cargs)\u001b[0m\n\u001b[0;32m   1108\u001b[0m         \u001b[1;31m# do some compatibility checks\u001b[0m\u001b[1;33m\u001b[0m\u001b[1;33m\u001b[0m\u001b[1;33m\u001b[0m\u001b[0m\n\u001b[0;32m   1109\u001b[0m         \u001b[0mself\u001b[0m\u001b[1;33m.\u001b[0m\u001b[0m_check_dups\u001b[0m\u001b[1;33m(\u001b[0m\u001b[0mqargs\u001b[0m\u001b[1;33m)\u001b[0m\u001b[1;33m\u001b[0m\u001b[1;33m\u001b[0m\u001b[0m\n\u001b[1;32m-> 1110\u001b[1;33m         \u001b[0mself\u001b[0m\u001b[1;33m.\u001b[0m\u001b[0m_check_qargs\u001b[0m\u001b[1;33m(\u001b[0m\u001b[0mqargs\u001b[0m\u001b[1;33m)\u001b[0m\u001b[1;33m\u001b[0m\u001b[1;33m\u001b[0m\u001b[0m\n\u001b[0m\u001b[0;32m   1111\u001b[0m         \u001b[0mself\u001b[0m\u001b[1;33m.\u001b[0m\u001b[0m_check_cargs\u001b[0m\u001b[1;33m(\u001b[0m\u001b[0mcargs\u001b[0m\u001b[1;33m)\u001b[0m\u001b[1;33m\u001b[0m\u001b[1;33m\u001b[0m\u001b[0m\n\u001b[0;32m   1112\u001b[0m \u001b[1;33m\u001b[0m\u001b[0m\n",
      "\u001b[1;32m~\\anaconda3\\lib\\site-packages\\qiskit\\circuit\\quantumcircuit.py\u001b[0m in \u001b[0;36m_check_qargs\u001b[1;34m(self, qargs)\u001b[0m\n\u001b[0;32m   1232\u001b[0m             \u001b[1;32mraise\u001b[0m \u001b[0mCircuitError\u001b[0m\u001b[1;33m(\u001b[0m\u001b[1;34m\"qarg is not a Qubit\"\u001b[0m\u001b[1;33m)\u001b[0m\u001b[1;33m\u001b[0m\u001b[1;33m\u001b[0m\u001b[0m\n\u001b[0;32m   1233\u001b[0m         \u001b[1;32mif\u001b[0m \u001b[1;32mnot\u001b[0m \u001b[0mset\u001b[0m\u001b[1;33m(\u001b[0m\u001b[0mqargs\u001b[0m\u001b[1;33m)\u001b[0m\u001b[1;33m.\u001b[0m\u001b[0missubset\u001b[0m\u001b[1;33m(\u001b[0m\u001b[0mself\u001b[0m\u001b[1;33m.\u001b[0m\u001b[0m_qubit_set\u001b[0m\u001b[1;33m)\u001b[0m\u001b[1;33m:\u001b[0m\u001b[1;33m\u001b[0m\u001b[1;33m\u001b[0m\u001b[0m\n\u001b[1;32m-> 1234\u001b[1;33m             \u001b[1;32mraise\u001b[0m \u001b[0mCircuitError\u001b[0m\u001b[1;33m(\u001b[0m\u001b[1;34m\"qargs not in this circuit\"\u001b[0m\u001b[1;33m)\u001b[0m\u001b[1;33m\u001b[0m\u001b[1;33m\u001b[0m\u001b[0m\n\u001b[0m\u001b[0;32m   1235\u001b[0m \u001b[1;33m\u001b[0m\u001b[0m\n\u001b[0;32m   1236\u001b[0m     \u001b[1;32mdef\u001b[0m \u001b[0m_check_cargs\u001b[0m\u001b[1;33m(\u001b[0m\u001b[0mself\u001b[0m\u001b[1;33m,\u001b[0m \u001b[0mcargs\u001b[0m\u001b[1;33m)\u001b[0m\u001b[1;33m:\u001b[0m\u001b[1;33m\u001b[0m\u001b[1;33m\u001b[0m\u001b[0m\n",
      "\u001b[1;31mCircuitError\u001b[0m: 'qargs not in this circuit'"
     ]
    }
   ],
   "source": [
    "#creating /GHZ state>\n",
    "\n",
    "qc2.h(qr3[0])\n"
   ]
  },
  {
   "cell_type": "code",
   "execution_count": null,
   "id": "ca31fd16",
   "metadata": {},
   "outputs": [],
   "source": []
  },
  {
   "cell_type": "code",
   "execution_count": 258,
   "id": "97026bd2",
   "metadata": {},
   "outputs": [
    {
     "ename": "CircuitError",
     "evalue": "'qargs not in this circuit'",
     "output_type": "error",
     "traceback": [
      "\u001b[1;31m---------------------------------------------------------------------------\u001b[0m",
      "\u001b[1;31mCircuitError\u001b[0m                              Traceback (most recent call last)",
      "\u001b[1;32m<ipython-input-258-97fa10c06e58>\u001b[0m in \u001b[0;36m<module>\u001b[1;34m\u001b[0m\n\u001b[1;32m----> 1\u001b[1;33m \u001b[0mqc2\u001b[0m\u001b[1;33m.\u001b[0m\u001b[0mcx\u001b[0m\u001b[1;33m(\u001b[0m\u001b[0mqr3\u001b[0m\u001b[1;33m[\u001b[0m\u001b[1;36m0\u001b[0m\u001b[1;33m]\u001b[0m\u001b[1;33m,\u001b[0m\u001b[0mqr3\u001b[0m\u001b[1;33m[\u001b[0m\u001b[1;36m1\u001b[0m\u001b[1;33m]\u001b[0m\u001b[1;33m)\u001b[0m\u001b[1;33m\u001b[0m\u001b[1;33m\u001b[0m\u001b[0m\n\u001b[0m",
      "\u001b[1;32m~\\anaconda3\\lib\\site-packages\\qiskit\\circuit\\quantumcircuit.py\u001b[0m in \u001b[0;36mcx\u001b[1;34m(self, control_qubit, target_qubit, label, ctrl_state)\u001b[0m\n\u001b[0;32m   2729\u001b[0m         \u001b[1;32mfrom\u001b[0m \u001b[1;33m.\u001b[0m\u001b[0mlibrary\u001b[0m\u001b[1;33m.\u001b[0m\u001b[0mstandard_gates\u001b[0m\u001b[1;33m.\u001b[0m\u001b[0mx\u001b[0m \u001b[1;32mimport\u001b[0m \u001b[0mCXGate\u001b[0m\u001b[1;33m\u001b[0m\u001b[1;33m\u001b[0m\u001b[0m\n\u001b[0;32m   2730\u001b[0m \u001b[1;33m\u001b[0m\u001b[0m\n\u001b[1;32m-> 2731\u001b[1;33m         return self.append(\n\u001b[0m\u001b[0;32m   2732\u001b[0m             \u001b[0mCXGate\u001b[0m\u001b[1;33m(\u001b[0m\u001b[0mlabel\u001b[0m\u001b[1;33m=\u001b[0m\u001b[0mlabel\u001b[0m\u001b[1;33m,\u001b[0m \u001b[0mctrl_state\u001b[0m\u001b[1;33m=\u001b[0m\u001b[0mctrl_state\u001b[0m\u001b[1;33m)\u001b[0m\u001b[1;33m,\u001b[0m \u001b[1;33m[\u001b[0m\u001b[0mcontrol_qubit\u001b[0m\u001b[1;33m,\u001b[0m \u001b[0mtarget_qubit\u001b[0m\u001b[1;33m]\u001b[0m\u001b[1;33m,\u001b[0m \u001b[1;33m[\u001b[0m\u001b[1;33m]\u001b[0m\u001b[1;33m\u001b[0m\u001b[1;33m\u001b[0m\u001b[0m\n\u001b[0;32m   2733\u001b[0m         )\n",
      "\u001b[1;32m~\\anaconda3\\lib\\site-packages\\qiskit\\circuit\\quantumcircuit.py\u001b[0m in \u001b[0;36mappend\u001b[1;34m(self, instruction, qargs, cargs)\u001b[0m\n\u001b[0;32m   1084\u001b[0m         \u001b[0minstructions\u001b[0m \u001b[1;33m=\u001b[0m \u001b[0mInstructionSet\u001b[0m\u001b[1;33m(\u001b[0m\u001b[1;33m)\u001b[0m\u001b[1;33m\u001b[0m\u001b[1;33m\u001b[0m\u001b[0m\n\u001b[0;32m   1085\u001b[0m         \u001b[1;32mfor\u001b[0m \u001b[1;33m(\u001b[0m\u001b[0mqarg\u001b[0m\u001b[1;33m,\u001b[0m \u001b[0mcarg\u001b[0m\u001b[1;33m)\u001b[0m \u001b[1;32min\u001b[0m \u001b[0minstruction\u001b[0m\u001b[1;33m.\u001b[0m\u001b[0mbroadcast_arguments\u001b[0m\u001b[1;33m(\u001b[0m\u001b[0mexpanded_qargs\u001b[0m\u001b[1;33m,\u001b[0m \u001b[0mexpanded_cargs\u001b[0m\u001b[1;33m)\u001b[0m\u001b[1;33m:\u001b[0m\u001b[1;33m\u001b[0m\u001b[1;33m\u001b[0m\u001b[0m\n\u001b[1;32m-> 1086\u001b[1;33m             \u001b[0minstructions\u001b[0m\u001b[1;33m.\u001b[0m\u001b[0madd\u001b[0m\u001b[1;33m(\u001b[0m\u001b[0mself\u001b[0m\u001b[1;33m.\u001b[0m\u001b[0m_append\u001b[0m\u001b[1;33m(\u001b[0m\u001b[0minstruction\u001b[0m\u001b[1;33m,\u001b[0m \u001b[0mqarg\u001b[0m\u001b[1;33m,\u001b[0m \u001b[0mcarg\u001b[0m\u001b[1;33m)\u001b[0m\u001b[1;33m,\u001b[0m \u001b[0mqarg\u001b[0m\u001b[1;33m,\u001b[0m \u001b[0mcarg\u001b[0m\u001b[1;33m)\u001b[0m\u001b[1;33m\u001b[0m\u001b[1;33m\u001b[0m\u001b[0m\n\u001b[0m\u001b[0;32m   1087\u001b[0m         \u001b[1;32mreturn\u001b[0m \u001b[0minstructions\u001b[0m\u001b[1;33m\u001b[0m\u001b[1;33m\u001b[0m\u001b[0m\n\u001b[0;32m   1088\u001b[0m \u001b[1;33m\u001b[0m\u001b[0m\n",
      "\u001b[1;32m~\\anaconda3\\lib\\site-packages\\qiskit\\circuit\\quantumcircuit.py\u001b[0m in \u001b[0;36m_append\u001b[1;34m(self, instruction, qargs, cargs)\u001b[0m\n\u001b[0;32m   1108\u001b[0m         \u001b[1;31m# do some compatibility checks\u001b[0m\u001b[1;33m\u001b[0m\u001b[1;33m\u001b[0m\u001b[1;33m\u001b[0m\u001b[0m\n\u001b[0;32m   1109\u001b[0m         \u001b[0mself\u001b[0m\u001b[1;33m.\u001b[0m\u001b[0m_check_dups\u001b[0m\u001b[1;33m(\u001b[0m\u001b[0mqargs\u001b[0m\u001b[1;33m)\u001b[0m\u001b[1;33m\u001b[0m\u001b[1;33m\u001b[0m\u001b[0m\n\u001b[1;32m-> 1110\u001b[1;33m         \u001b[0mself\u001b[0m\u001b[1;33m.\u001b[0m\u001b[0m_check_qargs\u001b[0m\u001b[1;33m(\u001b[0m\u001b[0mqargs\u001b[0m\u001b[1;33m)\u001b[0m\u001b[1;33m\u001b[0m\u001b[1;33m\u001b[0m\u001b[0m\n\u001b[0m\u001b[0;32m   1111\u001b[0m         \u001b[0mself\u001b[0m\u001b[1;33m.\u001b[0m\u001b[0m_check_cargs\u001b[0m\u001b[1;33m(\u001b[0m\u001b[0mcargs\u001b[0m\u001b[1;33m)\u001b[0m\u001b[1;33m\u001b[0m\u001b[1;33m\u001b[0m\u001b[0m\n\u001b[0;32m   1112\u001b[0m \u001b[1;33m\u001b[0m\u001b[0m\n",
      "\u001b[1;32m~\\anaconda3\\lib\\site-packages\\qiskit\\circuit\\quantumcircuit.py\u001b[0m in \u001b[0;36m_check_qargs\u001b[1;34m(self, qargs)\u001b[0m\n\u001b[0;32m   1232\u001b[0m             \u001b[1;32mraise\u001b[0m \u001b[0mCircuitError\u001b[0m\u001b[1;33m(\u001b[0m\u001b[1;34m\"qarg is not a Qubit\"\u001b[0m\u001b[1;33m)\u001b[0m\u001b[1;33m\u001b[0m\u001b[1;33m\u001b[0m\u001b[0m\n\u001b[0;32m   1233\u001b[0m         \u001b[1;32mif\u001b[0m \u001b[1;32mnot\u001b[0m \u001b[0mset\u001b[0m\u001b[1;33m(\u001b[0m\u001b[0mqargs\u001b[0m\u001b[1;33m)\u001b[0m\u001b[1;33m.\u001b[0m\u001b[0missubset\u001b[0m\u001b[1;33m(\u001b[0m\u001b[0mself\u001b[0m\u001b[1;33m.\u001b[0m\u001b[0m_qubit_set\u001b[0m\u001b[1;33m)\u001b[0m\u001b[1;33m:\u001b[0m\u001b[1;33m\u001b[0m\u001b[1;33m\u001b[0m\u001b[0m\n\u001b[1;32m-> 1234\u001b[1;33m             \u001b[1;32mraise\u001b[0m \u001b[0mCircuitError\u001b[0m\u001b[1;33m(\u001b[0m\u001b[1;34m\"qargs not in this circuit\"\u001b[0m\u001b[1;33m)\u001b[0m\u001b[1;33m\u001b[0m\u001b[1;33m\u001b[0m\u001b[0m\n\u001b[0m\u001b[0;32m   1235\u001b[0m \u001b[1;33m\u001b[0m\u001b[0m\n\u001b[0;32m   1236\u001b[0m     \u001b[1;32mdef\u001b[0m \u001b[0m_check_cargs\u001b[0m\u001b[1;33m(\u001b[0m\u001b[0mself\u001b[0m\u001b[1;33m,\u001b[0m \u001b[0mcargs\u001b[0m\u001b[1;33m)\u001b[0m\u001b[1;33m:\u001b[0m\u001b[1;33m\u001b[0m\u001b[1;33m\u001b[0m\u001b[0m\n",
      "\u001b[1;31mCircuitError\u001b[0m: 'qargs not in this circuit'"
     ]
    }
   ],
   "source": [
    "qc2.cx(qr3[0],qr3[1])"
   ]
  },
  {
   "cell_type": "code",
   "execution_count": null,
   "id": "62a049a4",
   "metadata": {},
   "outputs": [],
   "source": [
    "qc3.cx(qr3[0],qr3[1])"
   ]
  },
  {
   "cell_type": "code",
   "execution_count": 238,
   "id": "3eb33da8",
   "metadata": {},
   "outputs": [
    {
     "data": {
      "text/html": [
       "<pre style=\"word-wrap: normal;white-space: pre;background: #fff0;line-height: 1.1;font-family: &quot;Courier New&quot;,Courier,monospace\">        \n",
       "q368_0: \n",
       "        \n",
       "q368_1: \n",
       "        \n",
       "q368_2: \n",
       "        \n",
       "  c6: 3/\n",
       "        </pre>"
      ],
      "text/plain": [
       "        \n",
       "q368_0: \n",
       "        \n",
       "q368_1: \n",
       "        \n",
       "q368_2: \n",
       "        \n",
       "  c6: 3/\n",
       "        "
      ]
     },
     "execution_count": 238,
     "metadata": {},
     "output_type": "execute_result"
    }
   ],
   "source": [
    "qc3.draw()"
   ]
  },
  {
   "cell_type": "code",
   "execution_count": 239,
   "id": "044819f9",
   "metadata": {},
   "outputs": [
    {
     "data": {
      "text/plain": [
       "<qiskit.circuit.instructionset.InstructionSet at 0x26678380940>"
      ]
     },
     "execution_count": 239,
     "metadata": {},
     "output_type": "execute_result"
    }
   ],
   "source": [
    "qc3.measure(qr2,cr2)"
   ]
  },
  {
   "cell_type": "code",
   "execution_count": 240,
   "id": "79e50504",
   "metadata": {},
   "outputs": [
    {
     "data": {
      "text/html": [
       "<pre style=\"word-wrap: normal;white-space: pre;background: #fff0;line-height: 1.1;font-family: &quot;Courier New&quot;,Courier,monospace\">        ┌─┐      \n",
       "q368_0: ┤M├──────\n",
       "        └╥┘┌─┐   \n",
       "q368_1: ─╫─┤M├───\n",
       "         ║ └╥┘┌─┐\n",
       "q368_2: ─╫──╫─┤M├\n",
       "         ║  ║ └╥┘\n",
       "  c6: 3/═╩══╩══╩═\n",
       "         0  1  2 </pre>"
      ],
      "text/plain": [
       "        ┌─┐      \n",
       "q368_0: ┤M├──────\n",
       "        └╥┘┌─┐   \n",
       "q368_1: ─╫─┤M├───\n",
       "         ║ └╥┘┌─┐\n",
       "q368_2: ─╫──╫─┤M├\n",
       "         ║  ║ └╥┘\n",
       "  c6: 3/═╩══╩══╩═\n",
       "         0  1  2 "
      ]
     },
     "execution_count": 240,
     "metadata": {},
     "output_type": "execute_result"
    }
   ],
   "source": [
    "qc3.draw()"
   ]
  },
  {
   "cell_type": "code",
   "execution_count": 241,
   "id": "b3d51662",
   "metadata": {},
   "outputs": [],
   "source": [
    "simulator=BasicAer.get_backend('qasm_simulator')"
   ]
  },
  {
   "cell_type": "code",
   "execution_count": 242,
   "id": "38072732",
   "metadata": {},
   "outputs": [],
   "source": [
    "result=execute(qc3,backend=simulator).result()"
   ]
  },
  {
   "cell_type": "code",
   "execution_count": 243,
   "id": "58f62df0",
   "metadata": {},
   "outputs": [
    {
     "data": {
      "image/png": "[encoded data removed]",
      "text/plain": [
       "<Figure size 504x360 with 1 Axes>"
      ]
     },
     "execution_count": 243,
     "metadata": {},
     "output_type": "execute_result"
    }
   ],
   "source": [
    "plot_histogram(result.get_counts(qc3))"
   ]
  },
  {
   "cell_type": "code",
   "execution_count": 244,
   "id": "0fe4b550",
   "metadata": {},
   "outputs": [
    {
     "name": "stderr",
     "output_type": "stream",
     "text": [
      "ibmqfactory.load_account:WARNING:2021-09-29 18:05:46,046: Credentials are already in use. The existing account in the session will be replaced.\n"
     ]
    },
    {
     "data": {
      "text/plain": [
       "<AccountProvider for IBMQ(hub='ibm-q', group='open', project='main')>"
      ]
     },
     "execution_count": 244,
     "metadata": {},
     "output_type": "execute_result"
    }
   ],
   "source": [
    "IBMQ.load_account()"
   ]
  },
  {
   "cell_type": "code",
   "execution_count": 245,
   "id": "44a8571b",
   "metadata": {},
   "outputs": [],
   "source": [
    "provider=IBMQ.get_provider('ibm-q')"
   ]
  },
  {
   "cell_type": "code",
   "execution_count": 246,
   "id": "f49d34ad",
   "metadata": {},
   "outputs": [],
   "source": [
    "qcomp=provider.get_backend('ibmq_quito')"
   ]
  },
  {
   "cell_type": "code",
   "execution_count": 247,
   "id": "2b4acaaf",
   "metadata": {},
   "outputs": [],
   "source": [
    "job=execute(qc3,backend=qcomp)"
   ]
  },
  {
   "cell_type": "code",
   "execution_count": 248,
   "id": "03e60bf5",
   "metadata": {},
   "outputs": [
    {
     "name": "stdout",
     "output_type": "stream",
     "text": [
      "Job Status: job has successfully run\n"
     ]
    }
   ],
   "source": [
    "job_monitor(job)"
   ]
  },
  {
   "cell_type": "code",
   "execution_count": 249,
   "id": "19cd4094",
   "metadata": {},
   "outputs": [],
   "source": [
    "result=job.result()"
   ]
  },
  {
   "cell_type": "code",
   "execution_count": 250,
   "id": "15fb27f5",
   "metadata": {
    "scrolled": true
   },
   "outputs": [
    {
     "data": {
      "image/png": "[encoded data removed]",
      "text/plain": [
       "<Figure size 504x360 with 1 Axes>"
      ]
     },
     "execution_count": 250,
     "metadata": {},
     "output_type": "execute_result"
    }
   ],
   "source": [
    "plot_histogram(result.get_counts(qc3))"
   ]
  },
  {
   "cell_type": "code",
   "execution_count": 287,
   "id": "7ce377d4",
   "metadata": {},
   "outputs": [],
   "source": [
    "qr4=QuantumRegister(2)"
   ]
  },
  {
   "cell_type": "code",
   "execution_count": 288,
   "id": "aeb08a13",
   "metadata": {},
   "outputs": [],
   "source": [
    "cr4=ClassicalRegister(2)"
   ]
  },
  {
   "cell_type": "code",
   "execution_count": 289,
   "id": "26df8d7d",
   "metadata": {},
   "outputs": [],
   "source": [
    "qc4=QuantumCircuit(qr4,cr4)"
   ]
  },
  {
   "cell_type": "code",
   "execution_count": 290,
   "id": "ce048f94",
   "metadata": {},
   "outputs": [
    {
     "data": {
      "text/plain": [
       "<qiskit.circuit.instructionset.InstructionSet at 0x26676d0aa30>"
      ]
     },
     "execution_count": 290,
     "metadata": {},
     "output_type": "execute_result"
    }
   ],
   "source": [
    "qc4.ry(pi/4,qr4[1])"
   ]
  },
  {
   "cell_type": "code",
   "execution_count": 291,
   "id": "f3da4531",
   "metadata": {},
   "outputs": [
    {
     "data": {
      "text/plain": [
       "<qiskit.circuit.instructionset.InstructionSet at 0x26676a504c0>"
      ]
     },
     "execution_count": 291,
     "metadata": {},
     "output_type": "execute_result"
    }
   ],
   "source": [
    "qc4.cx(qr4[0],qr4[1])"
   ]
  },
  {
   "cell_type": "code",
   "execution_count": 292,
   "id": "dfd5944a",
   "metadata": {},
   "outputs": [
    {
     "data": {
      "text/plain": [
       "<qiskit.circuit.instructionset.InstructionSet at 0x26676862460>"
      ]
     },
     "execution_count": 292,
     "metadata": {},
     "output_type": "execute_result"
    }
   ],
   "source": [
    "qc4.ry(-pi/4,qr4[1])"
   ]
  },
  {
   "cell_type": "code",
   "execution_count": 293,
   "id": "7171362d",
   "metadata": {},
   "outputs": [
    {
     "data": {
      "text/html": [
       "<pre style=\"word-wrap: normal;white-space: pre;background: #fff0;line-height: 1.1;font-family: &quot;Courier New&quot;,Courier,monospace\">                                    \n",
       "q420_0: ─────────────■──────────────\n",
       "        ┌─────────┐┌─┴─┐┌──────────┐\n",
       "q420_1: ┤ Ry(π/4) ├┤ X ├┤ Ry(-π/4) ├\n",
       "        └─────────┘└───┘└──────────┘\n",
       " c11: 2/════════════════════════════\n",
       "                                    </pre>"
      ],
      "text/plain": [
       "                                    \n",
       "q420_0: ─────────────■──────────────\n",
       "        ┌─────────┐┌─┴─┐┌──────────┐\n",
       "q420_1: ┤ Ry(π/4) ├┤ X ├┤ Ry(-π/4) ├\n",
       "        └─────────┘└───┘└──────────┘\n",
       " c11: 2/════════════════════════════\n",
       "                                    "
      ]
     },
     "execution_count": 293,
     "metadata": {},
     "output_type": "execute_result"
    }
   ],
   "source": [
    "qc4.draw()"
   ]
  },
  {
   "cell_type": "code",
   "execution_count": 294,
   "id": "a282f756",
   "metadata": {},
   "outputs": [],
   "source": [
    "simulator=BasicAer.get_backend('qasm_simulator')"
   ]
  },
  {
   "cell_type": "code",
   "execution_count": 299,
   "id": "ac3ae1b4",
   "metadata": {},
   "outputs": [
    {
     "name": "stderr",
     "output_type": "stream",
     "text": [
      "No measurements in circuit \"circuit-516\", classical register will remain all zeros.\n"
     ]
    }
   ],
   "source": [
    "result=execute(qc4,backend=simulator).result()"
   ]
  },
  {
   "cell_type": "code",
   "execution_count": 298,
   "id": "16d239c1",
   "metadata": {},
   "outputs": [],
   "source": [
    "result=job.result()"
   ]
  },
  {
   "cell_type": "code",
   "execution_count": 300,
   "id": "e2ceed64",
   "metadata": {},
   "outputs": [
    {
     "data": {
      "image/png": "[encoded data removed]",
      "text/plain": [
       "<Figure size 504x360 with 1 Axes>"
      ]
     },
     "execution_count": 300,
     "metadata": {},
     "output_type": "execute_result"
    }
   ],
   "source": [
    "plot_histogram(result.get_counts(qc4))"
   ]
  }
 ],
 "metadata": {
  "kernelspec": {
   "display_name": "Python 3",
   "language": "python",
   "name": "python3"
  },
  "language_info": {
   "codemirror_mode": {
    "name": "ipython",
    "version": 3
   },
   "file_extension": ".py",
   "mimetype": "text/x-python",
   "name": "python",
   "nbconvert_exporter": "python",
   "pygments_lexer": "ipython3",
   "version": "3.8.8"
  }
 },
 "nbformat": 4,
 "nbformat_minor": 5
}
